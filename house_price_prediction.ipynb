{
  "nbformat": 4,
  "nbformat_minor": 0,
  "metadata": {
    "colab": {
      "provenance": [],
      "authorship_tag": "ABX9TyNUJfRlH+w/WePzXzF8V3gH",
      "include_colab_link": true
    },
    "kernelspec": {
      "name": "python3",
      "display_name": "Python 3"
    },
    "language_info": {
      "name": "python"
    }
  },
  "cells": [
    {
      "cell_type": "markdown",
      "metadata": {
        "id": "view-in-github",
        "colab_type": "text"
      },
      "source": [
        "<a href=\"https://colab.research.google.com/github/bajpaidevharsh/house_price_prediction/blob/main/house_price_prediction.ipynb\" target=\"_parent\"><img src=\"https://colab.research.google.com/assets/colab-badge.svg\" alt=\"Open In Colab\"/></a>"
      ]
    },
    {
      "cell_type": "markdown",
      "source": [
        "**importing dependencies**"
      ],
      "metadata": {
        "id": "k02405cvDEjs"
      }
    },
    {
      "cell_type": "code",
      "execution_count": 56,
      "metadata": {
        "id": "Kl-SV7oHC52V"
      },
      "outputs": [],
      "source": [
        "import pandas\n",
        "import numpy\n",
        "import sklearn\n",
        "import matplotlib"
      ]
    },
    {
      "cell_type": "code",
      "source": [
        "dev=pandas.read_csv('/content/Housing.csv')"
      ],
      "metadata": {
        "id": "TlDM_jz5DC7d"
      },
      "execution_count": 57,
      "outputs": []
    },
    {
      "cell_type": "code",
      "source": [
        "dev.head(7)"
      ],
      "metadata": {
        "colab": {
          "base_uri": "https://localhost:8080/",
          "height": 289
        },
        "id": "G2nJloISDcri",
        "outputId": "e7c2e17d-9420-47a5-a148-54faac1b413d"
      },
      "execution_count": 58,
      "outputs": [
        {
          "output_type": "execute_result",
          "data": {
            "text/plain": [
              "      price  area  bedrooms  bathrooms  stories mainroad guestroom basement  \\\n",
              "0  13300000  7420         4          2        3      yes        no       no   \n",
              "1  12250000  8960         4          4        4      yes        no       no   \n",
              "2  12250000  9960         3          2        2      yes        no      yes   \n",
              "3  12215000  7500         4          2        2      yes        no      yes   \n",
              "4  11410000  7420         4          1        2      yes       yes      yes   \n",
              "5  10850000  7500         3          3        1      yes        no      yes   \n",
              "6  10150000  8580         4          3        4      yes        no       no   \n",
              "\n",
              "  hotwaterheating airconditioning  parking prefarea furnishingstatus  \n",
              "0              no             yes        2      yes        furnished  \n",
              "1              no             yes        3       no        furnished  \n",
              "2              no              no        2      yes   semi-furnished  \n",
              "3              no             yes        3      yes        furnished  \n",
              "4              no             yes        2       no        furnished  \n",
              "5              no             yes        2      yes   semi-furnished  \n",
              "6              no             yes        2      yes   semi-furnished  "
            ],
            "text/html": [
              "\n",
              "  <div id=\"df-99e6b206-0699-4ffb-a18f-ba81b5d04494\" class=\"colab-df-container\">\n",
              "    <div>\n",
              "<style scoped>\n",
              "    .dataframe tbody tr th:only-of-type {\n",
              "        vertical-align: middle;\n",
              "    }\n",
              "\n",
              "    .dataframe tbody tr th {\n",
              "        vertical-align: top;\n",
              "    }\n",
              "\n",
              "    .dataframe thead th {\n",
              "        text-align: right;\n",
              "    }\n",
              "</style>\n",
              "<table border=\"1\" class=\"dataframe\">\n",
              "  <thead>\n",
              "    <tr style=\"text-align: right;\">\n",
              "      <th></th>\n",
              "      <th>price</th>\n",
              "      <th>area</th>\n",
              "      <th>bedrooms</th>\n",
              "      <th>bathrooms</th>\n",
              "      <th>stories</th>\n",
              "      <th>mainroad</th>\n",
              "      <th>guestroom</th>\n",
              "      <th>basement</th>\n",
              "      <th>hotwaterheating</th>\n",
              "      <th>airconditioning</th>\n",
              "      <th>parking</th>\n",
              "      <th>prefarea</th>\n",
              "      <th>furnishingstatus</th>\n",
              "    </tr>\n",
              "  </thead>\n",
              "  <tbody>\n",
              "    <tr>\n",
              "      <th>0</th>\n",
              "      <td>13300000</td>\n",
              "      <td>7420</td>\n",
              "      <td>4</td>\n",
              "      <td>2</td>\n",
              "      <td>3</td>\n",
              "      <td>yes</td>\n",
              "      <td>no</td>\n",
              "      <td>no</td>\n",
              "      <td>no</td>\n",
              "      <td>yes</td>\n",
              "      <td>2</td>\n",
              "      <td>yes</td>\n",
              "      <td>furnished</td>\n",
              "    </tr>\n",
              "    <tr>\n",
              "      <th>1</th>\n",
              "      <td>12250000</td>\n",
              "      <td>8960</td>\n",
              "      <td>4</td>\n",
              "      <td>4</td>\n",
              "      <td>4</td>\n",
              "      <td>yes</td>\n",
              "      <td>no</td>\n",
              "      <td>no</td>\n",
              "      <td>no</td>\n",
              "      <td>yes</td>\n",
              "      <td>3</td>\n",
              "      <td>no</td>\n",
              "      <td>furnished</td>\n",
              "    </tr>\n",
              "    <tr>\n",
              "      <th>2</th>\n",
              "      <td>12250000</td>\n",
              "      <td>9960</td>\n",
              "      <td>3</td>\n",
              "      <td>2</td>\n",
              "      <td>2</td>\n",
              "      <td>yes</td>\n",
              "      <td>no</td>\n",
              "      <td>yes</td>\n",
              "      <td>no</td>\n",
              "      <td>no</td>\n",
              "      <td>2</td>\n",
              "      <td>yes</td>\n",
              "      <td>semi-furnished</td>\n",
              "    </tr>\n",
              "    <tr>\n",
              "      <th>3</th>\n",
              "      <td>12215000</td>\n",
              "      <td>7500</td>\n",
              "      <td>4</td>\n",
              "      <td>2</td>\n",
              "      <td>2</td>\n",
              "      <td>yes</td>\n",
              "      <td>no</td>\n",
              "      <td>yes</td>\n",
              "      <td>no</td>\n",
              "      <td>yes</td>\n",
              "      <td>3</td>\n",
              "      <td>yes</td>\n",
              "      <td>furnished</td>\n",
              "    </tr>\n",
              "    <tr>\n",
              "      <th>4</th>\n",
              "      <td>11410000</td>\n",
              "      <td>7420</td>\n",
              "      <td>4</td>\n",
              "      <td>1</td>\n",
              "      <td>2</td>\n",
              "      <td>yes</td>\n",
              "      <td>yes</td>\n",
              "      <td>yes</td>\n",
              "      <td>no</td>\n",
              "      <td>yes</td>\n",
              "      <td>2</td>\n",
              "      <td>no</td>\n",
              "      <td>furnished</td>\n",
              "    </tr>\n",
              "    <tr>\n",
              "      <th>5</th>\n",
              "      <td>10850000</td>\n",
              "      <td>7500</td>\n",
              "      <td>3</td>\n",
              "      <td>3</td>\n",
              "      <td>1</td>\n",
              "      <td>yes</td>\n",
              "      <td>no</td>\n",
              "      <td>yes</td>\n",
              "      <td>no</td>\n",
              "      <td>yes</td>\n",
              "      <td>2</td>\n",
              "      <td>yes</td>\n",
              "      <td>semi-furnished</td>\n",
              "    </tr>\n",
              "    <tr>\n",
              "      <th>6</th>\n",
              "      <td>10150000</td>\n",
              "      <td>8580</td>\n",
              "      <td>4</td>\n",
              "      <td>3</td>\n",
              "      <td>4</td>\n",
              "      <td>yes</td>\n",
              "      <td>no</td>\n",
              "      <td>no</td>\n",
              "      <td>no</td>\n",
              "      <td>yes</td>\n",
              "      <td>2</td>\n",
              "      <td>yes</td>\n",
              "      <td>semi-furnished</td>\n",
              "    </tr>\n",
              "  </tbody>\n",
              "</table>\n",
              "</div>\n",
              "    <div class=\"colab-df-buttons\">\n",
              "\n",
              "  <div class=\"colab-df-container\">\n",
              "    <button class=\"colab-df-convert\" onclick=\"convertToInteractive('df-99e6b206-0699-4ffb-a18f-ba81b5d04494')\"\n",
              "            title=\"Convert this dataframe to an interactive table.\"\n",
              "            style=\"display:none;\">\n",
              "\n",
              "  <svg xmlns=\"http://www.w3.org/2000/svg\" height=\"24px\" viewBox=\"0 -960 960 960\">\n",
              "    <path d=\"M120-120v-720h720v720H120Zm60-500h600v-160H180v160Zm220 220h160v-160H400v160Zm0 220h160v-160H400v160ZM180-400h160v-160H180v160Zm440 0h160v-160H620v160ZM180-180h160v-160H180v160Zm440 0h160v-160H620v160Z\"/>\n",
              "  </svg>\n",
              "    </button>\n",
              "\n",
              "  <style>\n",
              "    .colab-df-container {\n",
              "      display:flex;\n",
              "      gap: 12px;\n",
              "    }\n",
              "\n",
              "    .colab-df-convert {\n",
              "      background-color: #E8F0FE;\n",
              "      border: none;\n",
              "      border-radius: 50%;\n",
              "      cursor: pointer;\n",
              "      display: none;\n",
              "      fill: #1967D2;\n",
              "      height: 32px;\n",
              "      padding: 0 0 0 0;\n",
              "      width: 32px;\n",
              "    }\n",
              "\n",
              "    .colab-df-convert:hover {\n",
              "      background-color: #E2EBFA;\n",
              "      box-shadow: 0px 1px 2px rgba(60, 64, 67, 0.3), 0px 1px 3px 1px rgba(60, 64, 67, 0.15);\n",
              "      fill: #174EA6;\n",
              "    }\n",
              "\n",
              "    .colab-df-buttons div {\n",
              "      margin-bottom: 4px;\n",
              "    }\n",
              "\n",
              "    [theme=dark] .colab-df-convert {\n",
              "      background-color: #3B4455;\n",
              "      fill: #D2E3FC;\n",
              "    }\n",
              "\n",
              "    [theme=dark] .colab-df-convert:hover {\n",
              "      background-color: #434B5C;\n",
              "      box-shadow: 0px 1px 3px 1px rgba(0, 0, 0, 0.15);\n",
              "      filter: drop-shadow(0px 1px 2px rgba(0, 0, 0, 0.3));\n",
              "      fill: #FFFFFF;\n",
              "    }\n",
              "  </style>\n",
              "\n",
              "    <script>\n",
              "      const buttonEl =\n",
              "        document.querySelector('#df-99e6b206-0699-4ffb-a18f-ba81b5d04494 button.colab-df-convert');\n",
              "      buttonEl.style.display =\n",
              "        google.colab.kernel.accessAllowed ? 'block' : 'none';\n",
              "\n",
              "      async function convertToInteractive(key) {\n",
              "        const element = document.querySelector('#df-99e6b206-0699-4ffb-a18f-ba81b5d04494');\n",
              "        const dataTable =\n",
              "          await google.colab.kernel.invokeFunction('convertToInteractive',\n",
              "                                                    [key], {});\n",
              "        if (!dataTable) return;\n",
              "\n",
              "        const docLinkHtml = 'Like what you see? Visit the ' +\n",
              "          '<a target=\"_blank\" href=https://colab.research.google.com/notebooks/data_table.ipynb>data table notebook</a>'\n",
              "          + ' to learn more about interactive tables.';\n",
              "        element.innerHTML = '';\n",
              "        dataTable['output_type'] = 'display_data';\n",
              "        await google.colab.output.renderOutput(dataTable, element);\n",
              "        const docLink = document.createElement('div');\n",
              "        docLink.innerHTML = docLinkHtml;\n",
              "        element.appendChild(docLink);\n",
              "      }\n",
              "    </script>\n",
              "  </div>\n",
              "\n",
              "\n",
              "<div id=\"df-2b371ff7-d16a-4e70-a573-f868f6acfb35\">\n",
              "  <button class=\"colab-df-quickchart\" onclick=\"quickchart('df-2b371ff7-d16a-4e70-a573-f868f6acfb35')\"\n",
              "            title=\"Suggest charts\"\n",
              "            style=\"display:none;\">\n",
              "\n",
              "<svg xmlns=\"http://www.w3.org/2000/svg\" height=\"24px\"viewBox=\"0 0 24 24\"\n",
              "     width=\"24px\">\n",
              "    <g>\n",
              "        <path d=\"M19 3H5c-1.1 0-2 .9-2 2v14c0 1.1.9 2 2 2h14c1.1 0 2-.9 2-2V5c0-1.1-.9-2-2-2zM9 17H7v-7h2v7zm4 0h-2V7h2v10zm4 0h-2v-4h2v4z\"/>\n",
              "    </g>\n",
              "</svg>\n",
              "  </button>\n",
              "\n",
              "<style>\n",
              "  .colab-df-quickchart {\n",
              "      --bg-color: #E8F0FE;\n",
              "      --fill-color: #1967D2;\n",
              "      --hover-bg-color: #E2EBFA;\n",
              "      --hover-fill-color: #174EA6;\n",
              "      --disabled-fill-color: #AAA;\n",
              "      --disabled-bg-color: #DDD;\n",
              "  }\n",
              "\n",
              "  [theme=dark] .colab-df-quickchart {\n",
              "      --bg-color: #3B4455;\n",
              "      --fill-color: #D2E3FC;\n",
              "      --hover-bg-color: #434B5C;\n",
              "      --hover-fill-color: #FFFFFF;\n",
              "      --disabled-bg-color: #3B4455;\n",
              "      --disabled-fill-color: #666;\n",
              "  }\n",
              "\n",
              "  .colab-df-quickchart {\n",
              "    background-color: var(--bg-color);\n",
              "    border: none;\n",
              "    border-radius: 50%;\n",
              "    cursor: pointer;\n",
              "    display: none;\n",
              "    fill: var(--fill-color);\n",
              "    height: 32px;\n",
              "    padding: 0;\n",
              "    width: 32px;\n",
              "  }\n",
              "\n",
              "  .colab-df-quickchart:hover {\n",
              "    background-color: var(--hover-bg-color);\n",
              "    box-shadow: 0 1px 2px rgba(60, 64, 67, 0.3), 0 1px 3px 1px rgba(60, 64, 67, 0.15);\n",
              "    fill: var(--button-hover-fill-color);\n",
              "  }\n",
              "\n",
              "  .colab-df-quickchart-complete:disabled,\n",
              "  .colab-df-quickchart-complete:disabled:hover {\n",
              "    background-color: var(--disabled-bg-color);\n",
              "    fill: var(--disabled-fill-color);\n",
              "    box-shadow: none;\n",
              "  }\n",
              "\n",
              "  .colab-df-spinner {\n",
              "    border: 2px solid var(--fill-color);\n",
              "    border-color: transparent;\n",
              "    border-bottom-color: var(--fill-color);\n",
              "    animation:\n",
              "      spin 1s steps(1) infinite;\n",
              "  }\n",
              "\n",
              "  @keyframes spin {\n",
              "    0% {\n",
              "      border-color: transparent;\n",
              "      border-bottom-color: var(--fill-color);\n",
              "      border-left-color: var(--fill-color);\n",
              "    }\n",
              "    20% {\n",
              "      border-color: transparent;\n",
              "      border-left-color: var(--fill-color);\n",
              "      border-top-color: var(--fill-color);\n",
              "    }\n",
              "    30% {\n",
              "      border-color: transparent;\n",
              "      border-left-color: var(--fill-color);\n",
              "      border-top-color: var(--fill-color);\n",
              "      border-right-color: var(--fill-color);\n",
              "    }\n",
              "    40% {\n",
              "      border-color: transparent;\n",
              "      border-right-color: var(--fill-color);\n",
              "      border-top-color: var(--fill-color);\n",
              "    }\n",
              "    60% {\n",
              "      border-color: transparent;\n",
              "      border-right-color: var(--fill-color);\n",
              "    }\n",
              "    80% {\n",
              "      border-color: transparent;\n",
              "      border-right-color: var(--fill-color);\n",
              "      border-bottom-color: var(--fill-color);\n",
              "    }\n",
              "    90% {\n",
              "      border-color: transparent;\n",
              "      border-bottom-color: var(--fill-color);\n",
              "    }\n",
              "  }\n",
              "</style>\n",
              "\n",
              "  <script>\n",
              "    async function quickchart(key) {\n",
              "      const quickchartButtonEl =\n",
              "        document.querySelector('#' + key + ' button');\n",
              "      quickchartButtonEl.disabled = true;  // To prevent multiple clicks.\n",
              "      quickchartButtonEl.classList.add('colab-df-spinner');\n",
              "      try {\n",
              "        const charts = await google.colab.kernel.invokeFunction(\n",
              "            'suggestCharts', [key], {});\n",
              "      } catch (error) {\n",
              "        console.error('Error during call to suggestCharts:', error);\n",
              "      }\n",
              "      quickchartButtonEl.classList.remove('colab-df-spinner');\n",
              "      quickchartButtonEl.classList.add('colab-df-quickchart-complete');\n",
              "    }\n",
              "    (() => {\n",
              "      let quickchartButtonEl =\n",
              "        document.querySelector('#df-2b371ff7-d16a-4e70-a573-f868f6acfb35 button');\n",
              "      quickchartButtonEl.style.display =\n",
              "        google.colab.kernel.accessAllowed ? 'block' : 'none';\n",
              "    })();\n",
              "  </script>\n",
              "</div>\n",
              "\n",
              "    </div>\n",
              "  </div>\n"
            ],
            "application/vnd.google.colaboratory.intrinsic+json": {
              "type": "dataframe",
              "variable_name": "dev",
              "summary": "{\n  \"name\": \"dev\",\n  \"rows\": 545,\n  \"fields\": [\n    {\n      \"column\": \"price\",\n      \"properties\": {\n        \"dtype\": \"number\",\n        \"std\": 1870439,\n        \"min\": 1750000,\n        \"max\": 13300000,\n        \"num_unique_values\": 219,\n        \"samples\": [\n          3773000,\n          5285000,\n          1820000\n        ],\n        \"semantic_type\": \"\",\n        \"description\": \"\"\n      }\n    },\n    {\n      \"column\": \"area\",\n      \"properties\": {\n        \"dtype\": \"number\",\n        \"std\": 2170,\n        \"min\": 1650,\n        \"max\": 16200,\n        \"num_unique_values\": 284,\n        \"samples\": [\n          6000,\n          2684,\n          5360\n        ],\n        \"semantic_type\": \"\",\n        \"description\": \"\"\n      }\n    },\n    {\n      \"column\": \"bedrooms\",\n      \"properties\": {\n        \"dtype\": \"number\",\n        \"std\": 0,\n        \"min\": 1,\n        \"max\": 6,\n        \"num_unique_values\": 6,\n        \"samples\": [\n          4,\n          3,\n          1\n        ],\n        \"semantic_type\": \"\",\n        \"description\": \"\"\n      }\n    },\n    {\n      \"column\": \"bathrooms\",\n      \"properties\": {\n        \"dtype\": \"number\",\n        \"std\": 0,\n        \"min\": 1,\n        \"max\": 4,\n        \"num_unique_values\": 4,\n        \"samples\": [\n          4,\n          3,\n          2\n        ],\n        \"semantic_type\": \"\",\n        \"description\": \"\"\n      }\n    },\n    {\n      \"column\": \"stories\",\n      \"properties\": {\n        \"dtype\": \"number\",\n        \"std\": 0,\n        \"min\": 1,\n        \"max\": 4,\n        \"num_unique_values\": 4,\n        \"samples\": [\n          4,\n          1,\n          3\n        ],\n        \"semantic_type\": \"\",\n        \"description\": \"\"\n      }\n    },\n    {\n      \"column\": \"mainroad\",\n      \"properties\": {\n        \"dtype\": \"category\",\n        \"num_unique_values\": 2,\n        \"samples\": [\n          \"no\",\n          \"yes\"\n        ],\n        \"semantic_type\": \"\",\n        \"description\": \"\"\n      }\n    },\n    {\n      \"column\": \"guestroom\",\n      \"properties\": {\n        \"dtype\": \"category\",\n        \"num_unique_values\": 2,\n        \"samples\": [\n          \"yes\",\n          \"no\"\n        ],\n        \"semantic_type\": \"\",\n        \"description\": \"\"\n      }\n    },\n    {\n      \"column\": \"basement\",\n      \"properties\": {\n        \"dtype\": \"category\",\n        \"num_unique_values\": 2,\n        \"samples\": [\n          \"yes\",\n          \"no\"\n        ],\n        \"semantic_type\": \"\",\n        \"description\": \"\"\n      }\n    },\n    {\n      \"column\": \"hotwaterheating\",\n      \"properties\": {\n        \"dtype\": \"category\",\n        \"num_unique_values\": 2,\n        \"samples\": [\n          \"yes\",\n          \"no\"\n        ],\n        \"semantic_type\": \"\",\n        \"description\": \"\"\n      }\n    },\n    {\n      \"column\": \"airconditioning\",\n      \"properties\": {\n        \"dtype\": \"category\",\n        \"num_unique_values\": 2,\n        \"samples\": [\n          \"no\",\n          \"yes\"\n        ],\n        \"semantic_type\": \"\",\n        \"description\": \"\"\n      }\n    },\n    {\n      \"column\": \"parking\",\n      \"properties\": {\n        \"dtype\": \"number\",\n        \"std\": 0,\n        \"min\": 0,\n        \"max\": 3,\n        \"num_unique_values\": 4,\n        \"samples\": [\n          3,\n          1\n        ],\n        \"semantic_type\": \"\",\n        \"description\": \"\"\n      }\n    },\n    {\n      \"column\": \"prefarea\",\n      \"properties\": {\n        \"dtype\": \"category\",\n        \"num_unique_values\": 2,\n        \"samples\": [\n          \"no\",\n          \"yes\"\n        ],\n        \"semantic_type\": \"\",\n        \"description\": \"\"\n      }\n    },\n    {\n      \"column\": \"furnishingstatus\",\n      \"properties\": {\n        \"dtype\": \"category\",\n        \"num_unique_values\": 3,\n        \"samples\": [\n          \"furnished\",\n          \"semi-furnished\"\n        ],\n        \"semantic_type\": \"\",\n        \"description\": \"\"\n      }\n    }\n  ]\n}"
            }
          },
          "metadata": {},
          "execution_count": 58
        }
      ]
    },
    {
      "cell_type": "code",
      "source": [
        "dev.describe()"
      ],
      "metadata": {
        "colab": {
          "base_uri": "https://localhost:8080/",
          "height": 300
        },
        "id": "33ZUq40mDeQo",
        "outputId": "2f1262c5-6b08-4c26-9034-fe459caaaeeb"
      },
      "execution_count": 59,
      "outputs": [
        {
          "output_type": "execute_result",
          "data": {
            "text/plain": [
              "              price          area    bedrooms   bathrooms     stories  \\\n",
              "count  5.450000e+02    545.000000  545.000000  545.000000  545.000000   \n",
              "mean   4.766729e+06   5150.541284    2.965138    1.286239    1.805505   \n",
              "std    1.870440e+06   2170.141023    0.738064    0.502470    0.867492   \n",
              "min    1.750000e+06   1650.000000    1.000000    1.000000    1.000000   \n",
              "25%    3.430000e+06   3600.000000    2.000000    1.000000    1.000000   \n",
              "50%    4.340000e+06   4600.000000    3.000000    1.000000    2.000000   \n",
              "75%    5.740000e+06   6360.000000    3.000000    2.000000    2.000000   \n",
              "max    1.330000e+07  16200.000000    6.000000    4.000000    4.000000   \n",
              "\n",
              "          parking  \n",
              "count  545.000000  \n",
              "mean     0.693578  \n",
              "std      0.861586  \n",
              "min      0.000000  \n",
              "25%      0.000000  \n",
              "50%      0.000000  \n",
              "75%      1.000000  \n",
              "max      3.000000  "
            ],
            "text/html": [
              "\n",
              "  <div id=\"df-78b7d8aa-1687-487c-810f-08b30e6f224c\" class=\"colab-df-container\">\n",
              "    <div>\n",
              "<style scoped>\n",
              "    .dataframe tbody tr th:only-of-type {\n",
              "        vertical-align: middle;\n",
              "    }\n",
              "\n",
              "    .dataframe tbody tr th {\n",
              "        vertical-align: top;\n",
              "    }\n",
              "\n",
              "    .dataframe thead th {\n",
              "        text-align: right;\n",
              "    }\n",
              "</style>\n",
              "<table border=\"1\" class=\"dataframe\">\n",
              "  <thead>\n",
              "    <tr style=\"text-align: right;\">\n",
              "      <th></th>\n",
              "      <th>price</th>\n",
              "      <th>area</th>\n",
              "      <th>bedrooms</th>\n",
              "      <th>bathrooms</th>\n",
              "      <th>stories</th>\n",
              "      <th>parking</th>\n",
              "    </tr>\n",
              "  </thead>\n",
              "  <tbody>\n",
              "    <tr>\n",
              "      <th>count</th>\n",
              "      <td>5.450000e+02</td>\n",
              "      <td>545.000000</td>\n",
              "      <td>545.000000</td>\n",
              "      <td>545.000000</td>\n",
              "      <td>545.000000</td>\n",
              "      <td>545.000000</td>\n",
              "    </tr>\n",
              "    <tr>\n",
              "      <th>mean</th>\n",
              "      <td>4.766729e+06</td>\n",
              "      <td>5150.541284</td>\n",
              "      <td>2.965138</td>\n",
              "      <td>1.286239</td>\n",
              "      <td>1.805505</td>\n",
              "      <td>0.693578</td>\n",
              "    </tr>\n",
              "    <tr>\n",
              "      <th>std</th>\n",
              "      <td>1.870440e+06</td>\n",
              "      <td>2170.141023</td>\n",
              "      <td>0.738064</td>\n",
              "      <td>0.502470</td>\n",
              "      <td>0.867492</td>\n",
              "      <td>0.861586</td>\n",
              "    </tr>\n",
              "    <tr>\n",
              "      <th>min</th>\n",
              "      <td>1.750000e+06</td>\n",
              "      <td>1650.000000</td>\n",
              "      <td>1.000000</td>\n",
              "      <td>1.000000</td>\n",
              "      <td>1.000000</td>\n",
              "      <td>0.000000</td>\n",
              "    </tr>\n",
              "    <tr>\n",
              "      <th>25%</th>\n",
              "      <td>3.430000e+06</td>\n",
              "      <td>3600.000000</td>\n",
              "      <td>2.000000</td>\n",
              "      <td>1.000000</td>\n",
              "      <td>1.000000</td>\n",
              "      <td>0.000000</td>\n",
              "    </tr>\n",
              "    <tr>\n",
              "      <th>50%</th>\n",
              "      <td>4.340000e+06</td>\n",
              "      <td>4600.000000</td>\n",
              "      <td>3.000000</td>\n",
              "      <td>1.000000</td>\n",
              "      <td>2.000000</td>\n",
              "      <td>0.000000</td>\n",
              "    </tr>\n",
              "    <tr>\n",
              "      <th>75%</th>\n",
              "      <td>5.740000e+06</td>\n",
              "      <td>6360.000000</td>\n",
              "      <td>3.000000</td>\n",
              "      <td>2.000000</td>\n",
              "      <td>2.000000</td>\n",
              "      <td>1.000000</td>\n",
              "    </tr>\n",
              "    <tr>\n",
              "      <th>max</th>\n",
              "      <td>1.330000e+07</td>\n",
              "      <td>16200.000000</td>\n",
              "      <td>6.000000</td>\n",
              "      <td>4.000000</td>\n",
              "      <td>4.000000</td>\n",
              "      <td>3.000000</td>\n",
              "    </tr>\n",
              "  </tbody>\n",
              "</table>\n",
              "</div>\n",
              "    <div class=\"colab-df-buttons\">\n",
              "\n",
              "  <div class=\"colab-df-container\">\n",
              "    <button class=\"colab-df-convert\" onclick=\"convertToInteractive('df-78b7d8aa-1687-487c-810f-08b30e6f224c')\"\n",
              "            title=\"Convert this dataframe to an interactive table.\"\n",
              "            style=\"display:none;\">\n",
              "\n",
              "  <svg xmlns=\"http://www.w3.org/2000/svg\" height=\"24px\" viewBox=\"0 -960 960 960\">\n",
              "    <path d=\"M120-120v-720h720v720H120Zm60-500h600v-160H180v160Zm220 220h160v-160H400v160Zm0 220h160v-160H400v160ZM180-400h160v-160H180v160Zm440 0h160v-160H620v160ZM180-180h160v-160H180v160Zm440 0h160v-160H620v160Z\"/>\n",
              "  </svg>\n",
              "    </button>\n",
              "\n",
              "  <style>\n",
              "    .colab-df-container {\n",
              "      display:flex;\n",
              "      gap: 12px;\n",
              "    }\n",
              "\n",
              "    .colab-df-convert {\n",
              "      background-color: #E8F0FE;\n",
              "      border: none;\n",
              "      border-radius: 50%;\n",
              "      cursor: pointer;\n",
              "      display: none;\n",
              "      fill: #1967D2;\n",
              "      height: 32px;\n",
              "      padding: 0 0 0 0;\n",
              "      width: 32px;\n",
              "    }\n",
              "\n",
              "    .colab-df-convert:hover {\n",
              "      background-color: #E2EBFA;\n",
              "      box-shadow: 0px 1px 2px rgba(60, 64, 67, 0.3), 0px 1px 3px 1px rgba(60, 64, 67, 0.15);\n",
              "      fill: #174EA6;\n",
              "    }\n",
              "\n",
              "    .colab-df-buttons div {\n",
              "      margin-bottom: 4px;\n",
              "    }\n",
              "\n",
              "    [theme=dark] .colab-df-convert {\n",
              "      background-color: #3B4455;\n",
              "      fill: #D2E3FC;\n",
              "    }\n",
              "\n",
              "    [theme=dark] .colab-df-convert:hover {\n",
              "      background-color: #434B5C;\n",
              "      box-shadow: 0px 1px 3px 1px rgba(0, 0, 0, 0.15);\n",
              "      filter: drop-shadow(0px 1px 2px rgba(0, 0, 0, 0.3));\n",
              "      fill: #FFFFFF;\n",
              "    }\n",
              "  </style>\n",
              "\n",
              "    <script>\n",
              "      const buttonEl =\n",
              "        document.querySelector('#df-78b7d8aa-1687-487c-810f-08b30e6f224c button.colab-df-convert');\n",
              "      buttonEl.style.display =\n",
              "        google.colab.kernel.accessAllowed ? 'block' : 'none';\n",
              "\n",
              "      async function convertToInteractive(key) {\n",
              "        const element = document.querySelector('#df-78b7d8aa-1687-487c-810f-08b30e6f224c');\n",
              "        const dataTable =\n",
              "          await google.colab.kernel.invokeFunction('convertToInteractive',\n",
              "                                                    [key], {});\n",
              "        if (!dataTable) return;\n",
              "\n",
              "        const docLinkHtml = 'Like what you see? Visit the ' +\n",
              "          '<a target=\"_blank\" href=https://colab.research.google.com/notebooks/data_table.ipynb>data table notebook</a>'\n",
              "          + ' to learn more about interactive tables.';\n",
              "        element.innerHTML = '';\n",
              "        dataTable['output_type'] = 'display_data';\n",
              "        await google.colab.output.renderOutput(dataTable, element);\n",
              "        const docLink = document.createElement('div');\n",
              "        docLink.innerHTML = docLinkHtml;\n",
              "        element.appendChild(docLink);\n",
              "      }\n",
              "    </script>\n",
              "  </div>\n",
              "\n",
              "\n",
              "<div id=\"df-7dd123b7-2892-486d-88b0-17f2cdd32124\">\n",
              "  <button class=\"colab-df-quickchart\" onclick=\"quickchart('df-7dd123b7-2892-486d-88b0-17f2cdd32124')\"\n",
              "            title=\"Suggest charts\"\n",
              "            style=\"display:none;\">\n",
              "\n",
              "<svg xmlns=\"http://www.w3.org/2000/svg\" height=\"24px\"viewBox=\"0 0 24 24\"\n",
              "     width=\"24px\">\n",
              "    <g>\n",
              "        <path d=\"M19 3H5c-1.1 0-2 .9-2 2v14c0 1.1.9 2 2 2h14c1.1 0 2-.9 2-2V5c0-1.1-.9-2-2-2zM9 17H7v-7h2v7zm4 0h-2V7h2v10zm4 0h-2v-4h2v4z\"/>\n",
              "    </g>\n",
              "</svg>\n",
              "  </button>\n",
              "\n",
              "<style>\n",
              "  .colab-df-quickchart {\n",
              "      --bg-color: #E8F0FE;\n",
              "      --fill-color: #1967D2;\n",
              "      --hover-bg-color: #E2EBFA;\n",
              "      --hover-fill-color: #174EA6;\n",
              "      --disabled-fill-color: #AAA;\n",
              "      --disabled-bg-color: #DDD;\n",
              "  }\n",
              "\n",
              "  [theme=dark] .colab-df-quickchart {\n",
              "      --bg-color: #3B4455;\n",
              "      --fill-color: #D2E3FC;\n",
              "      --hover-bg-color: #434B5C;\n",
              "      --hover-fill-color: #FFFFFF;\n",
              "      --disabled-bg-color: #3B4455;\n",
              "      --disabled-fill-color: #666;\n",
              "  }\n",
              "\n",
              "  .colab-df-quickchart {\n",
              "    background-color: var(--bg-color);\n",
              "    border: none;\n",
              "    border-radius: 50%;\n",
              "    cursor: pointer;\n",
              "    display: none;\n",
              "    fill: var(--fill-color);\n",
              "    height: 32px;\n",
              "    padding: 0;\n",
              "    width: 32px;\n",
              "  }\n",
              "\n",
              "  .colab-df-quickchart:hover {\n",
              "    background-color: var(--hover-bg-color);\n",
              "    box-shadow: 0 1px 2px rgba(60, 64, 67, 0.3), 0 1px 3px 1px rgba(60, 64, 67, 0.15);\n",
              "    fill: var(--button-hover-fill-color);\n",
              "  }\n",
              "\n",
              "  .colab-df-quickchart-complete:disabled,\n",
              "  .colab-df-quickchart-complete:disabled:hover {\n",
              "    background-color: var(--disabled-bg-color);\n",
              "    fill: var(--disabled-fill-color);\n",
              "    box-shadow: none;\n",
              "  }\n",
              "\n",
              "  .colab-df-spinner {\n",
              "    border: 2px solid var(--fill-color);\n",
              "    border-color: transparent;\n",
              "    border-bottom-color: var(--fill-color);\n",
              "    animation:\n",
              "      spin 1s steps(1) infinite;\n",
              "  }\n",
              "\n",
              "  @keyframes spin {\n",
              "    0% {\n",
              "      border-color: transparent;\n",
              "      border-bottom-color: var(--fill-color);\n",
              "      border-left-color: var(--fill-color);\n",
              "    }\n",
              "    20% {\n",
              "      border-color: transparent;\n",
              "      border-left-color: var(--fill-color);\n",
              "      border-top-color: var(--fill-color);\n",
              "    }\n",
              "    30% {\n",
              "      border-color: transparent;\n",
              "      border-left-color: var(--fill-color);\n",
              "      border-top-color: var(--fill-color);\n",
              "      border-right-color: var(--fill-color);\n",
              "    }\n",
              "    40% {\n",
              "      border-color: transparent;\n",
              "      border-right-color: var(--fill-color);\n",
              "      border-top-color: var(--fill-color);\n",
              "    }\n",
              "    60% {\n",
              "      border-color: transparent;\n",
              "      border-right-color: var(--fill-color);\n",
              "    }\n",
              "    80% {\n",
              "      border-color: transparent;\n",
              "      border-right-color: var(--fill-color);\n",
              "      border-bottom-color: var(--fill-color);\n",
              "    }\n",
              "    90% {\n",
              "      border-color: transparent;\n",
              "      border-bottom-color: var(--fill-color);\n",
              "    }\n",
              "  }\n",
              "</style>\n",
              "\n",
              "  <script>\n",
              "    async function quickchart(key) {\n",
              "      const quickchartButtonEl =\n",
              "        document.querySelector('#' + key + ' button');\n",
              "      quickchartButtonEl.disabled = true;  // To prevent multiple clicks.\n",
              "      quickchartButtonEl.classList.add('colab-df-spinner');\n",
              "      try {\n",
              "        const charts = await google.colab.kernel.invokeFunction(\n",
              "            'suggestCharts', [key], {});\n",
              "      } catch (error) {\n",
              "        console.error('Error during call to suggestCharts:', error);\n",
              "      }\n",
              "      quickchartButtonEl.classList.remove('colab-df-spinner');\n",
              "      quickchartButtonEl.classList.add('colab-df-quickchart-complete');\n",
              "    }\n",
              "    (() => {\n",
              "      let quickchartButtonEl =\n",
              "        document.querySelector('#df-7dd123b7-2892-486d-88b0-17f2cdd32124 button');\n",
              "      quickchartButtonEl.style.display =\n",
              "        google.colab.kernel.accessAllowed ? 'block' : 'none';\n",
              "    })();\n",
              "  </script>\n",
              "</div>\n",
              "\n",
              "    </div>\n",
              "  </div>\n"
            ],
            "application/vnd.google.colaboratory.intrinsic+json": {
              "type": "dataframe",
              "summary": "{\n  \"name\": \"dev\",\n  \"rows\": 8,\n  \"fields\": [\n    {\n      \"column\": \"price\",\n      \"properties\": {\n        \"dtype\": \"number\",\n        \"std\": 4050766.5892287116,\n        \"min\": 545.0,\n        \"max\": 13300000.0,\n        \"num_unique_values\": 8,\n        \"samples\": [\n          4766729.247706422,\n          4340000.0,\n          545.0\n        ],\n        \"semantic_type\": \"\",\n        \"description\": \"\"\n      }\n    },\n    {\n      \"column\": \"area\",\n      \"properties\": {\n        \"dtype\": \"number\",\n        \"std\": 4906.2698868605785,\n        \"min\": 545.0,\n        \"max\": 16200.0,\n        \"num_unique_values\": 8,\n        \"samples\": [\n          5150.54128440367,\n          4600.0,\n          545.0\n        ],\n        \"semantic_type\": \"\",\n        \"description\": \"\"\n      }\n    },\n    {\n      \"column\": \"bedrooms\",\n      \"properties\": {\n        \"dtype\": \"number\",\n        \"std\": 191.74878444768592,\n        \"min\": 0.7380638605685743,\n        \"max\": 545.0,\n        \"num_unique_values\": 7,\n        \"samples\": [\n          545.0,\n          2.9651376146788992,\n          3.0\n        ],\n        \"semantic_type\": \"\",\n        \"description\": \"\"\n      }\n    },\n    {\n      \"column\": \"bathrooms\",\n      \"properties\": {\n        \"dtype\": \"number\",\n        \"std\": 192.14476345868238,\n        \"min\": 0.5024696160532146,\n        \"max\": 545.0,\n        \"num_unique_values\": 6,\n        \"samples\": [\n          545.0,\n          1.2862385321100918,\n          4.0\n        ],\n        \"semantic_type\": \"\",\n        \"description\": \"\"\n      }\n    },\n    {\n      \"column\": \"stories\",\n      \"properties\": {\n        \"dtype\": \"number\",\n        \"std\": 192.04914398408363,\n        \"min\": 0.8674924629255264,\n        \"max\": 545.0,\n        \"num_unique_values\": 6,\n        \"samples\": [\n          545.0,\n          1.8055045871559634,\n          4.0\n        ],\n        \"semantic_type\": \"\",\n        \"description\": \"\"\n      }\n    },\n    {\n      \"column\": \"parking\",\n      \"properties\": {\n        \"dtype\": \"number\",\n        \"std\": 192.40854964721385,\n        \"min\": 0.0,\n        \"max\": 545.0,\n        \"num_unique_values\": 6,\n        \"samples\": [\n          545.0,\n          0.6935779816513762,\n          3.0\n        ],\n        \"semantic_type\": \"\",\n        \"description\": \"\"\n      }\n    }\n  ]\n}"
            }
          },
          "metadata": {},
          "execution_count": 59
        }
      ]
    },
    {
      "cell_type": "code",
      "source": [],
      "metadata": {
        "id": "TIUAcOtt4nKk"
      },
      "execution_count": 59,
      "outputs": []
    },
    {
      "cell_type": "code",
      "source": [
        "r=[]\n",
        "for i in list(dev.columns):\n",
        "  r.append(dev[i].dtype)\n",
        "p=pandas.DataFrame(list(dev.columns),r)"
      ],
      "metadata": {
        "id": "plUF3JViEm4c"
      },
      "execution_count": 60,
      "outputs": []
    },
    {
      "cell_type": "code",
      "source": [
        "p"
      ],
      "metadata": {
        "colab": {
          "base_uri": "https://localhost:8080/",
          "height": 457
        },
        "id": "0FuyOrEdEzXc",
        "outputId": "576cc651-9d39-4174-dc4f-ac8e825619b4"
      },
      "execution_count": 61,
      "outputs": [
        {
          "output_type": "execute_result",
          "data": {
            "text/plain": [
              "                       0\n",
              "int64              price\n",
              "int64               area\n",
              "int64           bedrooms\n",
              "int64          bathrooms\n",
              "int64            stories\n",
              "object          mainroad\n",
              "object         guestroom\n",
              "object          basement\n",
              "object   hotwaterheating\n",
              "object   airconditioning\n",
              "int64            parking\n",
              "object          prefarea\n",
              "object  furnishingstatus"
            ],
            "text/html": [
              "\n",
              "  <div id=\"df-65ba2409-4292-4c71-a04a-7d0b599f0567\" class=\"colab-df-container\">\n",
              "    <div>\n",
              "<style scoped>\n",
              "    .dataframe tbody tr th:only-of-type {\n",
              "        vertical-align: middle;\n",
              "    }\n",
              "\n",
              "    .dataframe tbody tr th {\n",
              "        vertical-align: top;\n",
              "    }\n",
              "\n",
              "    .dataframe thead th {\n",
              "        text-align: right;\n",
              "    }\n",
              "</style>\n",
              "<table border=\"1\" class=\"dataframe\">\n",
              "  <thead>\n",
              "    <tr style=\"text-align: right;\">\n",
              "      <th></th>\n",
              "      <th>0</th>\n",
              "    </tr>\n",
              "  </thead>\n",
              "  <tbody>\n",
              "    <tr>\n",
              "      <th>int64</th>\n",
              "      <td>price</td>\n",
              "    </tr>\n",
              "    <tr>\n",
              "      <th>int64</th>\n",
              "      <td>area</td>\n",
              "    </tr>\n",
              "    <tr>\n",
              "      <th>int64</th>\n",
              "      <td>bedrooms</td>\n",
              "    </tr>\n",
              "    <tr>\n",
              "      <th>int64</th>\n",
              "      <td>bathrooms</td>\n",
              "    </tr>\n",
              "    <tr>\n",
              "      <th>int64</th>\n",
              "      <td>stories</td>\n",
              "    </tr>\n",
              "    <tr>\n",
              "      <th>object</th>\n",
              "      <td>mainroad</td>\n",
              "    </tr>\n",
              "    <tr>\n",
              "      <th>object</th>\n",
              "      <td>guestroom</td>\n",
              "    </tr>\n",
              "    <tr>\n",
              "      <th>object</th>\n",
              "      <td>basement</td>\n",
              "    </tr>\n",
              "    <tr>\n",
              "      <th>object</th>\n",
              "      <td>hotwaterheating</td>\n",
              "    </tr>\n",
              "    <tr>\n",
              "      <th>object</th>\n",
              "      <td>airconditioning</td>\n",
              "    </tr>\n",
              "    <tr>\n",
              "      <th>int64</th>\n",
              "      <td>parking</td>\n",
              "    </tr>\n",
              "    <tr>\n",
              "      <th>object</th>\n",
              "      <td>prefarea</td>\n",
              "    </tr>\n",
              "    <tr>\n",
              "      <th>object</th>\n",
              "      <td>furnishingstatus</td>\n",
              "    </tr>\n",
              "  </tbody>\n",
              "</table>\n",
              "</div>\n",
              "    <div class=\"colab-df-buttons\">\n",
              "\n",
              "  <div class=\"colab-df-container\">\n",
              "    <button class=\"colab-df-convert\" onclick=\"convertToInteractive('df-65ba2409-4292-4c71-a04a-7d0b599f0567')\"\n",
              "            title=\"Convert this dataframe to an interactive table.\"\n",
              "            style=\"display:none;\">\n",
              "\n",
              "  <svg xmlns=\"http://www.w3.org/2000/svg\" height=\"24px\" viewBox=\"0 -960 960 960\">\n",
              "    <path d=\"M120-120v-720h720v720H120Zm60-500h600v-160H180v160Zm220 220h160v-160H400v160Zm0 220h160v-160H400v160ZM180-400h160v-160H180v160Zm440 0h160v-160H620v160ZM180-180h160v-160H180v160Zm440 0h160v-160H620v160Z\"/>\n",
              "  </svg>\n",
              "    </button>\n",
              "\n",
              "  <style>\n",
              "    .colab-df-container {\n",
              "      display:flex;\n",
              "      gap: 12px;\n",
              "    }\n",
              "\n",
              "    .colab-df-convert {\n",
              "      background-color: #E8F0FE;\n",
              "      border: none;\n",
              "      border-radius: 50%;\n",
              "      cursor: pointer;\n",
              "      display: none;\n",
              "      fill: #1967D2;\n",
              "      height: 32px;\n",
              "      padding: 0 0 0 0;\n",
              "      width: 32px;\n",
              "    }\n",
              "\n",
              "    .colab-df-convert:hover {\n",
              "      background-color: #E2EBFA;\n",
              "      box-shadow: 0px 1px 2px rgba(60, 64, 67, 0.3), 0px 1px 3px 1px rgba(60, 64, 67, 0.15);\n",
              "      fill: #174EA6;\n",
              "    }\n",
              "\n",
              "    .colab-df-buttons div {\n",
              "      margin-bottom: 4px;\n",
              "    }\n",
              "\n",
              "    [theme=dark] .colab-df-convert {\n",
              "      background-color: #3B4455;\n",
              "      fill: #D2E3FC;\n",
              "    }\n",
              "\n",
              "    [theme=dark] .colab-df-convert:hover {\n",
              "      background-color: #434B5C;\n",
              "      box-shadow: 0px 1px 3px 1px rgba(0, 0, 0, 0.15);\n",
              "      filter: drop-shadow(0px 1px 2px rgba(0, 0, 0, 0.3));\n",
              "      fill: #FFFFFF;\n",
              "    }\n",
              "  </style>\n",
              "\n",
              "    <script>\n",
              "      const buttonEl =\n",
              "        document.querySelector('#df-65ba2409-4292-4c71-a04a-7d0b599f0567 button.colab-df-convert');\n",
              "      buttonEl.style.display =\n",
              "        google.colab.kernel.accessAllowed ? 'block' : 'none';\n",
              "\n",
              "      async function convertToInteractive(key) {\n",
              "        const element = document.querySelector('#df-65ba2409-4292-4c71-a04a-7d0b599f0567');\n",
              "        const dataTable =\n",
              "          await google.colab.kernel.invokeFunction('convertToInteractive',\n",
              "                                                    [key], {});\n",
              "        if (!dataTable) return;\n",
              "\n",
              "        const docLinkHtml = 'Like what you see? Visit the ' +\n",
              "          '<a target=\"_blank\" href=https://colab.research.google.com/notebooks/data_table.ipynb>data table notebook</a>'\n",
              "          + ' to learn more about interactive tables.';\n",
              "        element.innerHTML = '';\n",
              "        dataTable['output_type'] = 'display_data';\n",
              "        await google.colab.output.renderOutput(dataTable, element);\n",
              "        const docLink = document.createElement('div');\n",
              "        docLink.innerHTML = docLinkHtml;\n",
              "        element.appendChild(docLink);\n",
              "      }\n",
              "    </script>\n",
              "  </div>\n",
              "\n",
              "\n",
              "<div id=\"df-05ce5ab5-7171-4ab0-8370-09324d5d6bc9\">\n",
              "  <button class=\"colab-df-quickchart\" onclick=\"quickchart('df-05ce5ab5-7171-4ab0-8370-09324d5d6bc9')\"\n",
              "            title=\"Suggest charts\"\n",
              "            style=\"display:none;\">\n",
              "\n",
              "<svg xmlns=\"http://www.w3.org/2000/svg\" height=\"24px\"viewBox=\"0 0 24 24\"\n",
              "     width=\"24px\">\n",
              "    <g>\n",
              "        <path d=\"M19 3H5c-1.1 0-2 .9-2 2v14c0 1.1.9 2 2 2h14c1.1 0 2-.9 2-2V5c0-1.1-.9-2-2-2zM9 17H7v-7h2v7zm4 0h-2V7h2v10zm4 0h-2v-4h2v4z\"/>\n",
              "    </g>\n",
              "</svg>\n",
              "  </button>\n",
              "\n",
              "<style>\n",
              "  .colab-df-quickchart {\n",
              "      --bg-color: #E8F0FE;\n",
              "      --fill-color: #1967D2;\n",
              "      --hover-bg-color: #E2EBFA;\n",
              "      --hover-fill-color: #174EA6;\n",
              "      --disabled-fill-color: #AAA;\n",
              "      --disabled-bg-color: #DDD;\n",
              "  }\n",
              "\n",
              "  [theme=dark] .colab-df-quickchart {\n",
              "      --bg-color: #3B4455;\n",
              "      --fill-color: #D2E3FC;\n",
              "      --hover-bg-color: #434B5C;\n",
              "      --hover-fill-color: #FFFFFF;\n",
              "      --disabled-bg-color: #3B4455;\n",
              "      --disabled-fill-color: #666;\n",
              "  }\n",
              "\n",
              "  .colab-df-quickchart {\n",
              "    background-color: var(--bg-color);\n",
              "    border: none;\n",
              "    border-radius: 50%;\n",
              "    cursor: pointer;\n",
              "    display: none;\n",
              "    fill: var(--fill-color);\n",
              "    height: 32px;\n",
              "    padding: 0;\n",
              "    width: 32px;\n",
              "  }\n",
              "\n",
              "  .colab-df-quickchart:hover {\n",
              "    background-color: var(--hover-bg-color);\n",
              "    box-shadow: 0 1px 2px rgba(60, 64, 67, 0.3), 0 1px 3px 1px rgba(60, 64, 67, 0.15);\n",
              "    fill: var(--button-hover-fill-color);\n",
              "  }\n",
              "\n",
              "  .colab-df-quickchart-complete:disabled,\n",
              "  .colab-df-quickchart-complete:disabled:hover {\n",
              "    background-color: var(--disabled-bg-color);\n",
              "    fill: var(--disabled-fill-color);\n",
              "    box-shadow: none;\n",
              "  }\n",
              "\n",
              "  .colab-df-spinner {\n",
              "    border: 2px solid var(--fill-color);\n",
              "    border-color: transparent;\n",
              "    border-bottom-color: var(--fill-color);\n",
              "    animation:\n",
              "      spin 1s steps(1) infinite;\n",
              "  }\n",
              "\n",
              "  @keyframes spin {\n",
              "    0% {\n",
              "      border-color: transparent;\n",
              "      border-bottom-color: var(--fill-color);\n",
              "      border-left-color: var(--fill-color);\n",
              "    }\n",
              "    20% {\n",
              "      border-color: transparent;\n",
              "      border-left-color: var(--fill-color);\n",
              "      border-top-color: var(--fill-color);\n",
              "    }\n",
              "    30% {\n",
              "      border-color: transparent;\n",
              "      border-left-color: var(--fill-color);\n",
              "      border-top-color: var(--fill-color);\n",
              "      border-right-color: var(--fill-color);\n",
              "    }\n",
              "    40% {\n",
              "      border-color: transparent;\n",
              "      border-right-color: var(--fill-color);\n",
              "      border-top-color: var(--fill-color);\n",
              "    }\n",
              "    60% {\n",
              "      border-color: transparent;\n",
              "      border-right-color: var(--fill-color);\n",
              "    }\n",
              "    80% {\n",
              "      border-color: transparent;\n",
              "      border-right-color: var(--fill-color);\n",
              "      border-bottom-color: var(--fill-color);\n",
              "    }\n",
              "    90% {\n",
              "      border-color: transparent;\n",
              "      border-bottom-color: var(--fill-color);\n",
              "    }\n",
              "  }\n",
              "</style>\n",
              "\n",
              "  <script>\n",
              "    async function quickchart(key) {\n",
              "      const quickchartButtonEl =\n",
              "        document.querySelector('#' + key + ' button');\n",
              "      quickchartButtonEl.disabled = true;  // To prevent multiple clicks.\n",
              "      quickchartButtonEl.classList.add('colab-df-spinner');\n",
              "      try {\n",
              "        const charts = await google.colab.kernel.invokeFunction(\n",
              "            'suggestCharts', [key], {});\n",
              "      } catch (error) {\n",
              "        console.error('Error during call to suggestCharts:', error);\n",
              "      }\n",
              "      quickchartButtonEl.classList.remove('colab-df-spinner');\n",
              "      quickchartButtonEl.classList.add('colab-df-quickchart-complete');\n",
              "    }\n",
              "    (() => {\n",
              "      let quickchartButtonEl =\n",
              "        document.querySelector('#df-05ce5ab5-7171-4ab0-8370-09324d5d6bc9 button');\n",
              "      quickchartButtonEl.style.display =\n",
              "        google.colab.kernel.accessAllowed ? 'block' : 'none';\n",
              "    })();\n",
              "  </script>\n",
              "</div>\n",
              "\n",
              "  <div id=\"id_5241b3e9-4585-4b74-8a23-fd08ca5340bd\">\n",
              "    <style>\n",
              "      .colab-df-generate {\n",
              "        background-color: #E8F0FE;\n",
              "        border: none;\n",
              "        border-radius: 50%;\n",
              "        cursor: pointer;\n",
              "        display: none;\n",
              "        fill: #1967D2;\n",
              "        height: 32px;\n",
              "        padding: 0 0 0 0;\n",
              "        width: 32px;\n",
              "      }\n",
              "\n",
              "      .colab-df-generate:hover {\n",
              "        background-color: #E2EBFA;\n",
              "        box-shadow: 0px 1px 2px rgba(60, 64, 67, 0.3), 0px 1px 3px 1px rgba(60, 64, 67, 0.15);\n",
              "        fill: #174EA6;\n",
              "      }\n",
              "\n",
              "      [theme=dark] .colab-df-generate {\n",
              "        background-color: #3B4455;\n",
              "        fill: #D2E3FC;\n",
              "      }\n",
              "\n",
              "      [theme=dark] .colab-df-generate:hover {\n",
              "        background-color: #434B5C;\n",
              "        box-shadow: 0px 1px 3px 1px rgba(0, 0, 0, 0.15);\n",
              "        filter: drop-shadow(0px 1px 2px rgba(0, 0, 0, 0.3));\n",
              "        fill: #FFFFFF;\n",
              "      }\n",
              "    </style>\n",
              "    <button class=\"colab-df-generate\" onclick=\"generateWithVariable('p')\"\n",
              "            title=\"Generate code using this dataframe.\"\n",
              "            style=\"display:none;\">\n",
              "\n",
              "  <svg xmlns=\"http://www.w3.org/2000/svg\" height=\"24px\"viewBox=\"0 0 24 24\"\n",
              "       width=\"24px\">\n",
              "    <path d=\"M7,19H8.4L18.45,9,17,7.55,7,17.6ZM5,21V16.75L18.45,3.32a2,2,0,0,1,2.83,0l1.4,1.43a1.91,1.91,0,0,1,.58,1.4,1.91,1.91,0,0,1-.58,1.4L9.25,21ZM18.45,9,17,7.55Zm-12,3A5.31,5.31,0,0,0,4.9,8.1,5.31,5.31,0,0,0,1,6.5,5.31,5.31,0,0,0,4.9,4.9,5.31,5.31,0,0,0,6.5,1,5.31,5.31,0,0,0,8.1,4.9,5.31,5.31,0,0,0,12,6.5,5.46,5.46,0,0,0,6.5,12Z\"/>\n",
              "  </svg>\n",
              "    </button>\n",
              "    <script>\n",
              "      (() => {\n",
              "      const buttonEl =\n",
              "        document.querySelector('#id_5241b3e9-4585-4b74-8a23-fd08ca5340bd button.colab-df-generate');\n",
              "      buttonEl.style.display =\n",
              "        google.colab.kernel.accessAllowed ? 'block' : 'none';\n",
              "\n",
              "      buttonEl.onclick = () => {\n",
              "        google.colab.notebook.generateWithVariable('p');\n",
              "      }\n",
              "      })();\n",
              "    </script>\n",
              "  </div>\n",
              "\n",
              "    </div>\n",
              "  </div>\n"
            ],
            "application/vnd.google.colaboratory.intrinsic+json": {
              "type": "dataframe",
              "variable_name": "p",
              "summary": "{\n  \"name\": \"p\",\n  \"rows\": 13,\n  \"fields\": [\n    {\n      \"column\": 0,\n      \"properties\": {\n        \"dtype\": \"string\",\n        \"num_unique_values\": 13,\n        \"samples\": [\n          \"prefarea\",\n          \"airconditioning\",\n          \"price\"\n        ],\n        \"semantic_type\": \"\",\n        \"description\": \"\"\n      }\n    }\n  ]\n}"
            }
          },
          "metadata": {},
          "execution_count": 61
        }
      ]
    },
    {
      "cell_type": "code",
      "source": [
        "k=[]\n",
        "for i in list(dev.columns):\n",
        "  if (dev[i].dtype)=='object':\n",
        "    k.append(i)"
      ],
      "metadata": {
        "id": "DmCoA97VEPig"
      },
      "execution_count": 62,
      "outputs": []
    },
    {
      "cell_type": "code",
      "source": [
        "for i in k:\n",
        "  print(dev[i].value_counts())"
      ],
      "metadata": {
        "colab": {
          "base_uri": "https://localhost:8080/"
        },
        "id": "rYNYA9xG5Cgv",
        "outputId": "49bc8507-6a07-42ba-ba9a-5d90d5337431"
      },
      "execution_count": 63,
      "outputs": [
        {
          "output_type": "stream",
          "name": "stdout",
          "text": [
            "mainroad\n",
            "yes    468\n",
            "no      77\n",
            "Name: count, dtype: int64\n",
            "guestroom\n",
            "no     448\n",
            "yes     97\n",
            "Name: count, dtype: int64\n",
            "basement\n",
            "no     354\n",
            "yes    191\n",
            "Name: count, dtype: int64\n",
            "hotwaterheating\n",
            "no     520\n",
            "yes     25\n",
            "Name: count, dtype: int64\n",
            "airconditioning\n",
            "no     373\n",
            "yes    172\n",
            "Name: count, dtype: int64\n",
            "prefarea\n",
            "no     417\n",
            "yes    128\n",
            "Name: count, dtype: int64\n",
            "furnishingstatus\n",
            "semi-furnished    227\n",
            "unfurnished       178\n",
            "furnished         140\n",
            "Name: count, dtype: int64\n"
          ]
        }
      ]
    },
    {
      "cell_type": "code",
      "source": [],
      "metadata": {
        "id": "xuKmxs1aTB2b"
      },
      "execution_count": 63,
      "outputs": []
    },
    {
      "cell_type": "code",
      "source": [
        "k"
      ],
      "metadata": {
        "colab": {
          "base_uri": "https://localhost:8080/"
        },
        "id": "CHoTMpK6sq2y",
        "outputId": "d1e0bbc8-13d4-42b8-bfbb-7fafd39df469"
      },
      "execution_count": 64,
      "outputs": [
        {
          "output_type": "execute_result",
          "data": {
            "text/plain": [
              "['mainroad',\n",
              " 'guestroom',\n",
              " 'basement',\n",
              " 'hotwaterheating',\n",
              " 'airconditioning',\n",
              " 'prefarea',\n",
              " 'furnishingstatus']"
            ]
          },
          "metadata": {},
          "execution_count": 64
        }
      ]
    },
    {
      "cell_type": "code",
      "source": [],
      "metadata": {
        "id": "PoZTwnS2PCQp"
      },
      "execution_count": 64,
      "outputs": []
    },
    {
      "cell_type": "code",
      "source": [
        "k"
      ],
      "metadata": {
        "colab": {
          "base_uri": "https://localhost:8080/"
        },
        "id": "iKn0U8IBRH5q",
        "outputId": "5e6d2029-8274-4f25-d094-f8c24b9248b6"
      },
      "execution_count": 65,
      "outputs": [
        {
          "output_type": "execute_result",
          "data": {
            "text/plain": [
              "['mainroad',\n",
              " 'guestroom',\n",
              " 'basement',\n",
              " 'hotwaterheating',\n",
              " 'airconditioning',\n",
              " 'prefarea',\n",
              " 'furnishingstatus']"
            ]
          },
          "metadata": {},
          "execution_count": 65
        }
      ]
    },
    {
      "cell_type": "markdown",
      "source": [
        "**converting object types to int**"
      ],
      "metadata": {
        "id": "l5iYvUwPoSz5"
      }
    },
    {
      "cell_type": "code",
      "source": [
        "kt=[]\n",
        "for j in k:\n",
        "  for i in dev[j]:\n",
        "    if i=='yes':\n",
        "      kt.append(1)\n",
        "    elif i=='no':\n",
        "      kt.append(0)\n",
        "  try:\n",
        "    dev[j]=kt\n",
        "  except:\n",
        "    continue\n",
        "  finally:\n",
        "    kt=[]"
      ],
      "metadata": {
        "id": "LO4KRpnvDMWm"
      },
      "execution_count": 66,
      "outputs": []
    },
    {
      "cell_type": "code",
      "source": [
        "dev"
      ],
      "metadata": {
        "colab": {
          "base_uri": "https://localhost:8080/",
          "height": 443
        },
        "id": "kilAVwSlR4Xy",
        "outputId": "766bfe23-d0d3-4e37-802c-e7f513d07d3a"
      },
      "execution_count": 67,
      "outputs": [
        {
          "output_type": "execute_result",
          "data": {
            "text/plain": [
              "        price  area  bedrooms  bathrooms  stories  mainroad  guestroom  \\\n",
              "0    13300000  7420         4          2        3         1          0   \n",
              "1    12250000  8960         4          4        4         1          0   \n",
              "2    12250000  9960         3          2        2         1          0   \n",
              "3    12215000  7500         4          2        2         1          0   \n",
              "4    11410000  7420         4          1        2         1          1   \n",
              "..        ...   ...       ...        ...      ...       ...        ...   \n",
              "540   1820000  3000         2          1        1         1          0   \n",
              "541   1767150  2400         3          1        1         0          0   \n",
              "542   1750000  3620         2          1        1         1          0   \n",
              "543   1750000  2910         3          1        1         0          0   \n",
              "544   1750000  3850         3          1        2         1          0   \n",
              "\n",
              "     basement  hotwaterheating  airconditioning  parking  prefarea  \\\n",
              "0           0                0                1        2         1   \n",
              "1           0                0                1        3         0   \n",
              "2           1                0                0        2         1   \n",
              "3           1                0                1        3         1   \n",
              "4           1                0                1        2         0   \n",
              "..        ...              ...              ...      ...       ...   \n",
              "540         1                0                0        2         0   \n",
              "541         0                0                0        0         0   \n",
              "542         0                0                0        0         0   \n",
              "543         0                0                0        0         0   \n",
              "544         0                0                0        0         0   \n",
              "\n",
              "    furnishingstatus  \n",
              "0          furnished  \n",
              "1          furnished  \n",
              "2     semi-furnished  \n",
              "3          furnished  \n",
              "4          furnished  \n",
              "..               ...  \n",
              "540      unfurnished  \n",
              "541   semi-furnished  \n",
              "542      unfurnished  \n",
              "543        furnished  \n",
              "544      unfurnished  \n",
              "\n",
              "[545 rows x 13 columns]"
            ],
            "text/html": [
              "\n",
              "  <div id=\"df-de652057-8706-42fc-92b2-24290e48b73d\" class=\"colab-df-container\">\n",
              "    <div>\n",
              "<style scoped>\n",
              "    .dataframe tbody tr th:only-of-type {\n",
              "        vertical-align: middle;\n",
              "    }\n",
              "\n",
              "    .dataframe tbody tr th {\n",
              "        vertical-align: top;\n",
              "    }\n",
              "\n",
              "    .dataframe thead th {\n",
              "        text-align: right;\n",
              "    }\n",
              "</style>\n",
              "<table border=\"1\" class=\"dataframe\">\n",
              "  <thead>\n",
              "    <tr style=\"text-align: right;\">\n",
              "      <th></th>\n",
              "      <th>price</th>\n",
              "      <th>area</th>\n",
              "      <th>bedrooms</th>\n",
              "      <th>bathrooms</th>\n",
              "      <th>stories</th>\n",
              "      <th>mainroad</th>\n",
              "      <th>guestroom</th>\n",
              "      <th>basement</th>\n",
              "      <th>hotwaterheating</th>\n",
              "      <th>airconditioning</th>\n",
              "      <th>parking</th>\n",
              "      <th>prefarea</th>\n",
              "      <th>furnishingstatus</th>\n",
              "    </tr>\n",
              "  </thead>\n",
              "  <tbody>\n",
              "    <tr>\n",
              "      <th>0</th>\n",
              "      <td>13300000</td>\n",
              "      <td>7420</td>\n",
              "      <td>4</td>\n",
              "      <td>2</td>\n",
              "      <td>3</td>\n",
              "      <td>1</td>\n",
              "      <td>0</td>\n",
              "      <td>0</td>\n",
              "      <td>0</td>\n",
              "      <td>1</td>\n",
              "      <td>2</td>\n",
              "      <td>1</td>\n",
              "      <td>furnished</td>\n",
              "    </tr>\n",
              "    <tr>\n",
              "      <th>1</th>\n",
              "      <td>12250000</td>\n",
              "      <td>8960</td>\n",
              "      <td>4</td>\n",
              "      <td>4</td>\n",
              "      <td>4</td>\n",
              "      <td>1</td>\n",
              "      <td>0</td>\n",
              "      <td>0</td>\n",
              "      <td>0</td>\n",
              "      <td>1</td>\n",
              "      <td>3</td>\n",
              "      <td>0</td>\n",
              "      <td>furnished</td>\n",
              "    </tr>\n",
              "    <tr>\n",
              "      <th>2</th>\n",
              "      <td>12250000</td>\n",
              "      <td>9960</td>\n",
              "      <td>3</td>\n",
              "      <td>2</td>\n",
              "      <td>2</td>\n",
              "      <td>1</td>\n",
              "      <td>0</td>\n",
              "      <td>1</td>\n",
              "      <td>0</td>\n",
              "      <td>0</td>\n",
              "      <td>2</td>\n",
              "      <td>1</td>\n",
              "      <td>semi-furnished</td>\n",
              "    </tr>\n",
              "    <tr>\n",
              "      <th>3</th>\n",
              "      <td>12215000</td>\n",
              "      <td>7500</td>\n",
              "      <td>4</td>\n",
              "      <td>2</td>\n",
              "      <td>2</td>\n",
              "      <td>1</td>\n",
              "      <td>0</td>\n",
              "      <td>1</td>\n",
              "      <td>0</td>\n",
              "      <td>1</td>\n",
              "      <td>3</td>\n",
              "      <td>1</td>\n",
              "      <td>furnished</td>\n",
              "    </tr>\n",
              "    <tr>\n",
              "      <th>4</th>\n",
              "      <td>11410000</td>\n",
              "      <td>7420</td>\n",
              "      <td>4</td>\n",
              "      <td>1</td>\n",
              "      <td>2</td>\n",
              "      <td>1</td>\n",
              "      <td>1</td>\n",
              "      <td>1</td>\n",
              "      <td>0</td>\n",
              "      <td>1</td>\n",
              "      <td>2</td>\n",
              "      <td>0</td>\n",
              "      <td>furnished</td>\n",
              "    </tr>\n",
              "    <tr>\n",
              "      <th>...</th>\n",
              "      <td>...</td>\n",
              "      <td>...</td>\n",
              "      <td>...</td>\n",
              "      <td>...</td>\n",
              "      <td>...</td>\n",
              "      <td>...</td>\n",
              "      <td>...</td>\n",
              "      <td>...</td>\n",
              "      <td>...</td>\n",
              "      <td>...</td>\n",
              "      <td>...</td>\n",
              "      <td>...</td>\n",
              "      <td>...</td>\n",
              "    </tr>\n",
              "    <tr>\n",
              "      <th>540</th>\n",
              "      <td>1820000</td>\n",
              "      <td>3000</td>\n",
              "      <td>2</td>\n",
              "      <td>1</td>\n",
              "      <td>1</td>\n",
              "      <td>1</td>\n",
              "      <td>0</td>\n",
              "      <td>1</td>\n",
              "      <td>0</td>\n",
              "      <td>0</td>\n",
              "      <td>2</td>\n",
              "      <td>0</td>\n",
              "      <td>unfurnished</td>\n",
              "    </tr>\n",
              "    <tr>\n",
              "      <th>541</th>\n",
              "      <td>1767150</td>\n",
              "      <td>2400</td>\n",
              "      <td>3</td>\n",
              "      <td>1</td>\n",
              "      <td>1</td>\n",
              "      <td>0</td>\n",
              "      <td>0</td>\n",
              "      <td>0</td>\n",
              "      <td>0</td>\n",
              "      <td>0</td>\n",
              "      <td>0</td>\n",
              "      <td>0</td>\n",
              "      <td>semi-furnished</td>\n",
              "    </tr>\n",
              "    <tr>\n",
              "      <th>542</th>\n",
              "      <td>1750000</td>\n",
              "      <td>3620</td>\n",
              "      <td>2</td>\n",
              "      <td>1</td>\n",
              "      <td>1</td>\n",
              "      <td>1</td>\n",
              "      <td>0</td>\n",
              "      <td>0</td>\n",
              "      <td>0</td>\n",
              "      <td>0</td>\n",
              "      <td>0</td>\n",
              "      <td>0</td>\n",
              "      <td>unfurnished</td>\n",
              "    </tr>\n",
              "    <tr>\n",
              "      <th>543</th>\n",
              "      <td>1750000</td>\n",
              "      <td>2910</td>\n",
              "      <td>3</td>\n",
              "      <td>1</td>\n",
              "      <td>1</td>\n",
              "      <td>0</td>\n",
              "      <td>0</td>\n",
              "      <td>0</td>\n",
              "      <td>0</td>\n",
              "      <td>0</td>\n",
              "      <td>0</td>\n",
              "      <td>0</td>\n",
              "      <td>furnished</td>\n",
              "    </tr>\n",
              "    <tr>\n",
              "      <th>544</th>\n",
              "      <td>1750000</td>\n",
              "      <td>3850</td>\n",
              "      <td>3</td>\n",
              "      <td>1</td>\n",
              "      <td>2</td>\n",
              "      <td>1</td>\n",
              "      <td>0</td>\n",
              "      <td>0</td>\n",
              "      <td>0</td>\n",
              "      <td>0</td>\n",
              "      <td>0</td>\n",
              "      <td>0</td>\n",
              "      <td>unfurnished</td>\n",
              "    </tr>\n",
              "  </tbody>\n",
              "</table>\n",
              "<p>545 rows × 13 columns</p>\n",
              "</div>\n",
              "    <div class=\"colab-df-buttons\">\n",
              "\n",
              "  <div class=\"colab-df-container\">\n",
              "    <button class=\"colab-df-convert\" onclick=\"convertToInteractive('df-de652057-8706-42fc-92b2-24290e48b73d')\"\n",
              "            title=\"Convert this dataframe to an interactive table.\"\n",
              "            style=\"display:none;\">\n",
              "\n",
              "  <svg xmlns=\"http://www.w3.org/2000/svg\" height=\"24px\" viewBox=\"0 -960 960 960\">\n",
              "    <path d=\"M120-120v-720h720v720H120Zm60-500h600v-160H180v160Zm220 220h160v-160H400v160Zm0 220h160v-160H400v160ZM180-400h160v-160H180v160Zm440 0h160v-160H620v160ZM180-180h160v-160H180v160Zm440 0h160v-160H620v160Z\"/>\n",
              "  </svg>\n",
              "    </button>\n",
              "\n",
              "  <style>\n",
              "    .colab-df-container {\n",
              "      display:flex;\n",
              "      gap: 12px;\n",
              "    }\n",
              "\n",
              "    .colab-df-convert {\n",
              "      background-color: #E8F0FE;\n",
              "      border: none;\n",
              "      border-radius: 50%;\n",
              "      cursor: pointer;\n",
              "      display: none;\n",
              "      fill: #1967D2;\n",
              "      height: 32px;\n",
              "      padding: 0 0 0 0;\n",
              "      width: 32px;\n",
              "    }\n",
              "\n",
              "    .colab-df-convert:hover {\n",
              "      background-color: #E2EBFA;\n",
              "      box-shadow: 0px 1px 2px rgba(60, 64, 67, 0.3), 0px 1px 3px 1px rgba(60, 64, 67, 0.15);\n",
              "      fill: #174EA6;\n",
              "    }\n",
              "\n",
              "    .colab-df-buttons div {\n",
              "      margin-bottom: 4px;\n",
              "    }\n",
              "\n",
              "    [theme=dark] .colab-df-convert {\n",
              "      background-color: #3B4455;\n",
              "      fill: #D2E3FC;\n",
              "    }\n",
              "\n",
              "    [theme=dark] .colab-df-convert:hover {\n",
              "      background-color: #434B5C;\n",
              "      box-shadow: 0px 1px 3px 1px rgba(0, 0, 0, 0.15);\n",
              "      filter: drop-shadow(0px 1px 2px rgba(0, 0, 0, 0.3));\n",
              "      fill: #FFFFFF;\n",
              "    }\n",
              "  </style>\n",
              "\n",
              "    <script>\n",
              "      const buttonEl =\n",
              "        document.querySelector('#df-de652057-8706-42fc-92b2-24290e48b73d button.colab-df-convert');\n",
              "      buttonEl.style.display =\n",
              "        google.colab.kernel.accessAllowed ? 'block' : 'none';\n",
              "\n",
              "      async function convertToInteractive(key) {\n",
              "        const element = document.querySelector('#df-de652057-8706-42fc-92b2-24290e48b73d');\n",
              "        const dataTable =\n",
              "          await google.colab.kernel.invokeFunction('convertToInteractive',\n",
              "                                                    [key], {});\n",
              "        if (!dataTable) return;\n",
              "\n",
              "        const docLinkHtml = 'Like what you see? Visit the ' +\n",
              "          '<a target=\"_blank\" href=https://colab.research.google.com/notebooks/data_table.ipynb>data table notebook</a>'\n",
              "          + ' to learn more about interactive tables.';\n",
              "        element.innerHTML = '';\n",
              "        dataTable['output_type'] = 'display_data';\n",
              "        await google.colab.output.renderOutput(dataTable, element);\n",
              "        const docLink = document.createElement('div');\n",
              "        docLink.innerHTML = docLinkHtml;\n",
              "        element.appendChild(docLink);\n",
              "      }\n",
              "    </script>\n",
              "  </div>\n",
              "\n",
              "\n",
              "<div id=\"df-6b5999a1-cee7-4610-b1a1-35989fb32877\">\n",
              "  <button class=\"colab-df-quickchart\" onclick=\"quickchart('df-6b5999a1-cee7-4610-b1a1-35989fb32877')\"\n",
              "            title=\"Suggest charts\"\n",
              "            style=\"display:none;\">\n",
              "\n",
              "<svg xmlns=\"http://www.w3.org/2000/svg\" height=\"24px\"viewBox=\"0 0 24 24\"\n",
              "     width=\"24px\">\n",
              "    <g>\n",
              "        <path d=\"M19 3H5c-1.1 0-2 .9-2 2v14c0 1.1.9 2 2 2h14c1.1 0 2-.9 2-2V5c0-1.1-.9-2-2-2zM9 17H7v-7h2v7zm4 0h-2V7h2v10zm4 0h-2v-4h2v4z\"/>\n",
              "    </g>\n",
              "</svg>\n",
              "  </button>\n",
              "\n",
              "<style>\n",
              "  .colab-df-quickchart {\n",
              "      --bg-color: #E8F0FE;\n",
              "      --fill-color: #1967D2;\n",
              "      --hover-bg-color: #E2EBFA;\n",
              "      --hover-fill-color: #174EA6;\n",
              "      --disabled-fill-color: #AAA;\n",
              "      --disabled-bg-color: #DDD;\n",
              "  }\n",
              "\n",
              "  [theme=dark] .colab-df-quickchart {\n",
              "      --bg-color: #3B4455;\n",
              "      --fill-color: #D2E3FC;\n",
              "      --hover-bg-color: #434B5C;\n",
              "      --hover-fill-color: #FFFFFF;\n",
              "      --disabled-bg-color: #3B4455;\n",
              "      --disabled-fill-color: #666;\n",
              "  }\n",
              "\n",
              "  .colab-df-quickchart {\n",
              "    background-color: var(--bg-color);\n",
              "    border: none;\n",
              "    border-radius: 50%;\n",
              "    cursor: pointer;\n",
              "    display: none;\n",
              "    fill: var(--fill-color);\n",
              "    height: 32px;\n",
              "    padding: 0;\n",
              "    width: 32px;\n",
              "  }\n",
              "\n",
              "  .colab-df-quickchart:hover {\n",
              "    background-color: var(--hover-bg-color);\n",
              "    box-shadow: 0 1px 2px rgba(60, 64, 67, 0.3), 0 1px 3px 1px rgba(60, 64, 67, 0.15);\n",
              "    fill: var(--button-hover-fill-color);\n",
              "  }\n",
              "\n",
              "  .colab-df-quickchart-complete:disabled,\n",
              "  .colab-df-quickchart-complete:disabled:hover {\n",
              "    background-color: var(--disabled-bg-color);\n",
              "    fill: var(--disabled-fill-color);\n",
              "    box-shadow: none;\n",
              "  }\n",
              "\n",
              "  .colab-df-spinner {\n",
              "    border: 2px solid var(--fill-color);\n",
              "    border-color: transparent;\n",
              "    border-bottom-color: var(--fill-color);\n",
              "    animation:\n",
              "      spin 1s steps(1) infinite;\n",
              "  }\n",
              "\n",
              "  @keyframes spin {\n",
              "    0% {\n",
              "      border-color: transparent;\n",
              "      border-bottom-color: var(--fill-color);\n",
              "      border-left-color: var(--fill-color);\n",
              "    }\n",
              "    20% {\n",
              "      border-color: transparent;\n",
              "      border-left-color: var(--fill-color);\n",
              "      border-top-color: var(--fill-color);\n",
              "    }\n",
              "    30% {\n",
              "      border-color: transparent;\n",
              "      border-left-color: var(--fill-color);\n",
              "      border-top-color: var(--fill-color);\n",
              "      border-right-color: var(--fill-color);\n",
              "    }\n",
              "    40% {\n",
              "      border-color: transparent;\n",
              "      border-right-color: var(--fill-color);\n",
              "      border-top-color: var(--fill-color);\n",
              "    }\n",
              "    60% {\n",
              "      border-color: transparent;\n",
              "      border-right-color: var(--fill-color);\n",
              "    }\n",
              "    80% {\n",
              "      border-color: transparent;\n",
              "      border-right-color: var(--fill-color);\n",
              "      border-bottom-color: var(--fill-color);\n",
              "    }\n",
              "    90% {\n",
              "      border-color: transparent;\n",
              "      border-bottom-color: var(--fill-color);\n",
              "    }\n",
              "  }\n",
              "</style>\n",
              "\n",
              "  <script>\n",
              "    async function quickchart(key) {\n",
              "      const quickchartButtonEl =\n",
              "        document.querySelector('#' + key + ' button');\n",
              "      quickchartButtonEl.disabled = true;  // To prevent multiple clicks.\n",
              "      quickchartButtonEl.classList.add('colab-df-spinner');\n",
              "      try {\n",
              "        const charts = await google.colab.kernel.invokeFunction(\n",
              "            'suggestCharts', [key], {});\n",
              "      } catch (error) {\n",
              "        console.error('Error during call to suggestCharts:', error);\n",
              "      }\n",
              "      quickchartButtonEl.classList.remove('colab-df-spinner');\n",
              "      quickchartButtonEl.classList.add('colab-df-quickchart-complete');\n",
              "    }\n",
              "    (() => {\n",
              "      let quickchartButtonEl =\n",
              "        document.querySelector('#df-6b5999a1-cee7-4610-b1a1-35989fb32877 button');\n",
              "      quickchartButtonEl.style.display =\n",
              "        google.colab.kernel.accessAllowed ? 'block' : 'none';\n",
              "    })();\n",
              "  </script>\n",
              "</div>\n",
              "\n",
              "  <div id=\"id_f0a722eb-880d-4bab-9942-682a7e3d037a\">\n",
              "    <style>\n",
              "      .colab-df-generate {\n",
              "        background-color: #E8F0FE;\n",
              "        border: none;\n",
              "        border-radius: 50%;\n",
              "        cursor: pointer;\n",
              "        display: none;\n",
              "        fill: #1967D2;\n",
              "        height: 32px;\n",
              "        padding: 0 0 0 0;\n",
              "        width: 32px;\n",
              "      }\n",
              "\n",
              "      .colab-df-generate:hover {\n",
              "        background-color: #E2EBFA;\n",
              "        box-shadow: 0px 1px 2px rgba(60, 64, 67, 0.3), 0px 1px 3px 1px rgba(60, 64, 67, 0.15);\n",
              "        fill: #174EA6;\n",
              "      }\n",
              "\n",
              "      [theme=dark] .colab-df-generate {\n",
              "        background-color: #3B4455;\n",
              "        fill: #D2E3FC;\n",
              "      }\n",
              "\n",
              "      [theme=dark] .colab-df-generate:hover {\n",
              "        background-color: #434B5C;\n",
              "        box-shadow: 0px 1px 3px 1px rgba(0, 0, 0, 0.15);\n",
              "        filter: drop-shadow(0px 1px 2px rgba(0, 0, 0, 0.3));\n",
              "        fill: #FFFFFF;\n",
              "      }\n",
              "    </style>\n",
              "    <button class=\"colab-df-generate\" onclick=\"generateWithVariable('dev')\"\n",
              "            title=\"Generate code using this dataframe.\"\n",
              "            style=\"display:none;\">\n",
              "\n",
              "  <svg xmlns=\"http://www.w3.org/2000/svg\" height=\"24px\"viewBox=\"0 0 24 24\"\n",
              "       width=\"24px\">\n",
              "    <path d=\"M7,19H8.4L18.45,9,17,7.55,7,17.6ZM5,21V16.75L18.45,3.32a2,2,0,0,1,2.83,0l1.4,1.43a1.91,1.91,0,0,1,.58,1.4,1.91,1.91,0,0,1-.58,1.4L9.25,21ZM18.45,9,17,7.55Zm-12,3A5.31,5.31,0,0,0,4.9,8.1,5.31,5.31,0,0,0,1,6.5,5.31,5.31,0,0,0,4.9,4.9,5.31,5.31,0,0,0,6.5,1,5.31,5.31,0,0,0,8.1,4.9,5.31,5.31,0,0,0,12,6.5,5.46,5.46,0,0,0,6.5,12Z\"/>\n",
              "  </svg>\n",
              "    </button>\n",
              "    <script>\n",
              "      (() => {\n",
              "      const buttonEl =\n",
              "        document.querySelector('#id_f0a722eb-880d-4bab-9942-682a7e3d037a button.colab-df-generate');\n",
              "      buttonEl.style.display =\n",
              "        google.colab.kernel.accessAllowed ? 'block' : 'none';\n",
              "\n",
              "      buttonEl.onclick = () => {\n",
              "        google.colab.notebook.generateWithVariable('dev');\n",
              "      }\n",
              "      })();\n",
              "    </script>\n",
              "  </div>\n",
              "\n",
              "    </div>\n",
              "  </div>\n"
            ],
            "application/vnd.google.colaboratory.intrinsic+json": {
              "type": "dataframe",
              "variable_name": "dev",
              "summary": "{\n  \"name\": \"dev\",\n  \"rows\": 545,\n  \"fields\": [\n    {\n      \"column\": \"price\",\n      \"properties\": {\n        \"dtype\": \"number\",\n        \"std\": 1870439,\n        \"min\": 1750000,\n        \"max\": 13300000,\n        \"num_unique_values\": 219,\n        \"samples\": [\n          3773000,\n          5285000,\n          1820000\n        ],\n        \"semantic_type\": \"\",\n        \"description\": \"\"\n      }\n    },\n    {\n      \"column\": \"area\",\n      \"properties\": {\n        \"dtype\": \"number\",\n        \"std\": 2170,\n        \"min\": 1650,\n        \"max\": 16200,\n        \"num_unique_values\": 284,\n        \"samples\": [\n          6000,\n          2684,\n          5360\n        ],\n        \"semantic_type\": \"\",\n        \"description\": \"\"\n      }\n    },\n    {\n      \"column\": \"bedrooms\",\n      \"properties\": {\n        \"dtype\": \"number\",\n        \"std\": 0,\n        \"min\": 1,\n        \"max\": 6,\n        \"num_unique_values\": 6,\n        \"samples\": [\n          4,\n          3,\n          1\n        ],\n        \"semantic_type\": \"\",\n        \"description\": \"\"\n      }\n    },\n    {\n      \"column\": \"bathrooms\",\n      \"properties\": {\n        \"dtype\": \"number\",\n        \"std\": 0,\n        \"min\": 1,\n        \"max\": 4,\n        \"num_unique_values\": 4,\n        \"samples\": [\n          4,\n          3,\n          2\n        ],\n        \"semantic_type\": \"\",\n        \"description\": \"\"\n      }\n    },\n    {\n      \"column\": \"stories\",\n      \"properties\": {\n        \"dtype\": \"number\",\n        \"std\": 0,\n        \"min\": 1,\n        \"max\": 4,\n        \"num_unique_values\": 4,\n        \"samples\": [\n          4,\n          1,\n          3\n        ],\n        \"semantic_type\": \"\",\n        \"description\": \"\"\n      }\n    },\n    {\n      \"column\": \"mainroad\",\n      \"properties\": {\n        \"dtype\": \"number\",\n        \"std\": 0,\n        \"min\": 0,\n        \"max\": 1,\n        \"num_unique_values\": 2,\n        \"samples\": [\n          0,\n          1\n        ],\n        \"semantic_type\": \"\",\n        \"description\": \"\"\n      }\n    },\n    {\n      \"column\": \"guestroom\",\n      \"properties\": {\n        \"dtype\": \"number\",\n        \"std\": 0,\n        \"min\": 0,\n        \"max\": 1,\n        \"num_unique_values\": 2,\n        \"samples\": [\n          1,\n          0\n        ],\n        \"semantic_type\": \"\",\n        \"description\": \"\"\n      }\n    },\n    {\n      \"column\": \"basement\",\n      \"properties\": {\n        \"dtype\": \"number\",\n        \"std\": 0,\n        \"min\": 0,\n        \"max\": 1,\n        \"num_unique_values\": 2,\n        \"samples\": [\n          1,\n          0\n        ],\n        \"semantic_type\": \"\",\n        \"description\": \"\"\n      }\n    },\n    {\n      \"column\": \"hotwaterheating\",\n      \"properties\": {\n        \"dtype\": \"number\",\n        \"std\": 0,\n        \"min\": 0,\n        \"max\": 1,\n        \"num_unique_values\": 2,\n        \"samples\": [\n          1,\n          0\n        ],\n        \"semantic_type\": \"\",\n        \"description\": \"\"\n      }\n    },\n    {\n      \"column\": \"airconditioning\",\n      \"properties\": {\n        \"dtype\": \"number\",\n        \"std\": 0,\n        \"min\": 0,\n        \"max\": 1,\n        \"num_unique_values\": 2,\n        \"samples\": [\n          0,\n          1\n        ],\n        \"semantic_type\": \"\",\n        \"description\": \"\"\n      }\n    },\n    {\n      \"column\": \"parking\",\n      \"properties\": {\n        \"dtype\": \"number\",\n        \"std\": 0,\n        \"min\": 0,\n        \"max\": 3,\n        \"num_unique_values\": 4,\n        \"samples\": [\n          3,\n          1\n        ],\n        \"semantic_type\": \"\",\n        \"description\": \"\"\n      }\n    },\n    {\n      \"column\": \"prefarea\",\n      \"properties\": {\n        \"dtype\": \"number\",\n        \"std\": 0,\n        \"min\": 0,\n        \"max\": 1,\n        \"num_unique_values\": 2,\n        \"samples\": [\n          0,\n          1\n        ],\n        \"semantic_type\": \"\",\n        \"description\": \"\"\n      }\n    },\n    {\n      \"column\": \"furnishingstatus\",\n      \"properties\": {\n        \"dtype\": \"category\",\n        \"num_unique_values\": 3,\n        \"samples\": [\n          \"furnished\",\n          \"semi-furnished\"\n        ],\n        \"semantic_type\": \"\",\n        \"description\": \"\"\n      }\n    }\n  ]\n}"
            }
          },
          "metadata": {},
          "execution_count": 67
        }
      ]
    },
    {
      "cell_type": "code",
      "source": [
        "dev['furnishingstatus'].value_counts()"
      ],
      "metadata": {
        "colab": {
          "base_uri": "https://localhost:8080/"
        },
        "id": "w1ZbzHqLELfv",
        "outputId": "bedd2a23-1c9f-430e-9b51-ec46cec9de85"
      },
      "execution_count": 68,
      "outputs": [
        {
          "output_type": "execute_result",
          "data": {
            "text/plain": [
              "furnishingstatus\n",
              "semi-furnished    227\n",
              "unfurnished       178\n",
              "furnished         140\n",
              "Name: count, dtype: int64"
            ]
          },
          "metadata": {},
          "execution_count": 68
        }
      ]
    },
    {
      "cell_type": "code",
      "source": [
        "kt=[]\n",
        "for i in dev['furnishingstatus']:\n",
        "  if i=='furnished':\n",
        "    kt.append(1)\n",
        "  elif i=='semi-furnished':\n",
        "    kt.append(2)\n",
        "  elif i=='unfurnished':\n",
        "    kt.append(3)\n",
        "  else:\n",
        "    kt.append(0)\n",
        "dev['furnishingstatus']=kt"
      ],
      "metadata": {
        "id": "8lPPa7jGETAT"
      },
      "execution_count": 69,
      "outputs": []
    },
    {
      "cell_type": "code",
      "source": [
        "dev.head(7)"
      ],
      "metadata": {
        "colab": {
          "base_uri": "https://localhost:8080/",
          "height": 289
        },
        "id": "rbSABIh-EfbC",
        "outputId": "44779075-216b-46e3-af22-0ca004b3b9db"
      },
      "execution_count": 70,
      "outputs": [
        {
          "output_type": "execute_result",
          "data": {
            "text/plain": [
              "      price  area  bedrooms  bathrooms  stories  mainroad  guestroom  \\\n",
              "0  13300000  7420         4          2        3         1          0   \n",
              "1  12250000  8960         4          4        4         1          0   \n",
              "2  12250000  9960         3          2        2         1          0   \n",
              "3  12215000  7500         4          2        2         1          0   \n",
              "4  11410000  7420         4          1        2         1          1   \n",
              "5  10850000  7500         3          3        1         1          0   \n",
              "6  10150000  8580         4          3        4         1          0   \n",
              "\n",
              "   basement  hotwaterheating  airconditioning  parking  prefarea  \\\n",
              "0         0                0                1        2         1   \n",
              "1         0                0                1        3         0   \n",
              "2         1                0                0        2         1   \n",
              "3         1                0                1        3         1   \n",
              "4         1                0                1        2         0   \n",
              "5         1                0                1        2         1   \n",
              "6         0                0                1        2         1   \n",
              "\n",
              "   furnishingstatus  \n",
              "0                 1  \n",
              "1                 1  \n",
              "2                 2  \n",
              "3                 1  \n",
              "4                 1  \n",
              "5                 2  \n",
              "6                 2  "
            ],
            "text/html": [
              "\n",
              "  <div id=\"df-99b508cb-7c29-4baf-b966-ca079f019cd5\" class=\"colab-df-container\">\n",
              "    <div>\n",
              "<style scoped>\n",
              "    .dataframe tbody tr th:only-of-type {\n",
              "        vertical-align: middle;\n",
              "    }\n",
              "\n",
              "    .dataframe tbody tr th {\n",
              "        vertical-align: top;\n",
              "    }\n",
              "\n",
              "    .dataframe thead th {\n",
              "        text-align: right;\n",
              "    }\n",
              "</style>\n",
              "<table border=\"1\" class=\"dataframe\">\n",
              "  <thead>\n",
              "    <tr style=\"text-align: right;\">\n",
              "      <th></th>\n",
              "      <th>price</th>\n",
              "      <th>area</th>\n",
              "      <th>bedrooms</th>\n",
              "      <th>bathrooms</th>\n",
              "      <th>stories</th>\n",
              "      <th>mainroad</th>\n",
              "      <th>guestroom</th>\n",
              "      <th>basement</th>\n",
              "      <th>hotwaterheating</th>\n",
              "      <th>airconditioning</th>\n",
              "      <th>parking</th>\n",
              "      <th>prefarea</th>\n",
              "      <th>furnishingstatus</th>\n",
              "    </tr>\n",
              "  </thead>\n",
              "  <tbody>\n",
              "    <tr>\n",
              "      <th>0</th>\n",
              "      <td>13300000</td>\n",
              "      <td>7420</td>\n",
              "      <td>4</td>\n",
              "      <td>2</td>\n",
              "      <td>3</td>\n",
              "      <td>1</td>\n",
              "      <td>0</td>\n",
              "      <td>0</td>\n",
              "      <td>0</td>\n",
              "      <td>1</td>\n",
              "      <td>2</td>\n",
              "      <td>1</td>\n",
              "      <td>1</td>\n",
              "    </tr>\n",
              "    <tr>\n",
              "      <th>1</th>\n",
              "      <td>12250000</td>\n",
              "      <td>8960</td>\n",
              "      <td>4</td>\n",
              "      <td>4</td>\n",
              "      <td>4</td>\n",
              "      <td>1</td>\n",
              "      <td>0</td>\n",
              "      <td>0</td>\n",
              "      <td>0</td>\n",
              "      <td>1</td>\n",
              "      <td>3</td>\n",
              "      <td>0</td>\n",
              "      <td>1</td>\n",
              "    </tr>\n",
              "    <tr>\n",
              "      <th>2</th>\n",
              "      <td>12250000</td>\n",
              "      <td>9960</td>\n",
              "      <td>3</td>\n",
              "      <td>2</td>\n",
              "      <td>2</td>\n",
              "      <td>1</td>\n",
              "      <td>0</td>\n",
              "      <td>1</td>\n",
              "      <td>0</td>\n",
              "      <td>0</td>\n",
              "      <td>2</td>\n",
              "      <td>1</td>\n",
              "      <td>2</td>\n",
              "    </tr>\n",
              "    <tr>\n",
              "      <th>3</th>\n",
              "      <td>12215000</td>\n",
              "      <td>7500</td>\n",
              "      <td>4</td>\n",
              "      <td>2</td>\n",
              "      <td>2</td>\n",
              "      <td>1</td>\n",
              "      <td>0</td>\n",
              "      <td>1</td>\n",
              "      <td>0</td>\n",
              "      <td>1</td>\n",
              "      <td>3</td>\n",
              "      <td>1</td>\n",
              "      <td>1</td>\n",
              "    </tr>\n",
              "    <tr>\n",
              "      <th>4</th>\n",
              "      <td>11410000</td>\n",
              "      <td>7420</td>\n",
              "      <td>4</td>\n",
              "      <td>1</td>\n",
              "      <td>2</td>\n",
              "      <td>1</td>\n",
              "      <td>1</td>\n",
              "      <td>1</td>\n",
              "      <td>0</td>\n",
              "      <td>1</td>\n",
              "      <td>2</td>\n",
              "      <td>0</td>\n",
              "      <td>1</td>\n",
              "    </tr>\n",
              "    <tr>\n",
              "      <th>5</th>\n",
              "      <td>10850000</td>\n",
              "      <td>7500</td>\n",
              "      <td>3</td>\n",
              "      <td>3</td>\n",
              "      <td>1</td>\n",
              "      <td>1</td>\n",
              "      <td>0</td>\n",
              "      <td>1</td>\n",
              "      <td>0</td>\n",
              "      <td>1</td>\n",
              "      <td>2</td>\n",
              "      <td>1</td>\n",
              "      <td>2</td>\n",
              "    </tr>\n",
              "    <tr>\n",
              "      <th>6</th>\n",
              "      <td>10150000</td>\n",
              "      <td>8580</td>\n",
              "      <td>4</td>\n",
              "      <td>3</td>\n",
              "      <td>4</td>\n",
              "      <td>1</td>\n",
              "      <td>0</td>\n",
              "      <td>0</td>\n",
              "      <td>0</td>\n",
              "      <td>1</td>\n",
              "      <td>2</td>\n",
              "      <td>1</td>\n",
              "      <td>2</td>\n",
              "    </tr>\n",
              "  </tbody>\n",
              "</table>\n",
              "</div>\n",
              "    <div class=\"colab-df-buttons\">\n",
              "\n",
              "  <div class=\"colab-df-container\">\n",
              "    <button class=\"colab-df-convert\" onclick=\"convertToInteractive('df-99b508cb-7c29-4baf-b966-ca079f019cd5')\"\n",
              "            title=\"Convert this dataframe to an interactive table.\"\n",
              "            style=\"display:none;\">\n",
              "\n",
              "  <svg xmlns=\"http://www.w3.org/2000/svg\" height=\"24px\" viewBox=\"0 -960 960 960\">\n",
              "    <path d=\"M120-120v-720h720v720H120Zm60-500h600v-160H180v160Zm220 220h160v-160H400v160Zm0 220h160v-160H400v160ZM180-400h160v-160H180v160Zm440 0h160v-160H620v160ZM180-180h160v-160H180v160Zm440 0h160v-160H620v160Z\"/>\n",
              "  </svg>\n",
              "    </button>\n",
              "\n",
              "  <style>\n",
              "    .colab-df-container {\n",
              "      display:flex;\n",
              "      gap: 12px;\n",
              "    }\n",
              "\n",
              "    .colab-df-convert {\n",
              "      background-color: #E8F0FE;\n",
              "      border: none;\n",
              "      border-radius: 50%;\n",
              "      cursor: pointer;\n",
              "      display: none;\n",
              "      fill: #1967D2;\n",
              "      height: 32px;\n",
              "      padding: 0 0 0 0;\n",
              "      width: 32px;\n",
              "    }\n",
              "\n",
              "    .colab-df-convert:hover {\n",
              "      background-color: #E2EBFA;\n",
              "      box-shadow: 0px 1px 2px rgba(60, 64, 67, 0.3), 0px 1px 3px 1px rgba(60, 64, 67, 0.15);\n",
              "      fill: #174EA6;\n",
              "    }\n",
              "\n",
              "    .colab-df-buttons div {\n",
              "      margin-bottom: 4px;\n",
              "    }\n",
              "\n",
              "    [theme=dark] .colab-df-convert {\n",
              "      background-color: #3B4455;\n",
              "      fill: #D2E3FC;\n",
              "    }\n",
              "\n",
              "    [theme=dark] .colab-df-convert:hover {\n",
              "      background-color: #434B5C;\n",
              "      box-shadow: 0px 1px 3px 1px rgba(0, 0, 0, 0.15);\n",
              "      filter: drop-shadow(0px 1px 2px rgba(0, 0, 0, 0.3));\n",
              "      fill: #FFFFFF;\n",
              "    }\n",
              "  </style>\n",
              "\n",
              "    <script>\n",
              "      const buttonEl =\n",
              "        document.querySelector('#df-99b508cb-7c29-4baf-b966-ca079f019cd5 button.colab-df-convert');\n",
              "      buttonEl.style.display =\n",
              "        google.colab.kernel.accessAllowed ? 'block' : 'none';\n",
              "\n",
              "      async function convertToInteractive(key) {\n",
              "        const element = document.querySelector('#df-99b508cb-7c29-4baf-b966-ca079f019cd5');\n",
              "        const dataTable =\n",
              "          await google.colab.kernel.invokeFunction('convertToInteractive',\n",
              "                                                    [key], {});\n",
              "        if (!dataTable) return;\n",
              "\n",
              "        const docLinkHtml = 'Like what you see? Visit the ' +\n",
              "          '<a target=\"_blank\" href=https://colab.research.google.com/notebooks/data_table.ipynb>data table notebook</a>'\n",
              "          + ' to learn more about interactive tables.';\n",
              "        element.innerHTML = '';\n",
              "        dataTable['output_type'] = 'display_data';\n",
              "        await google.colab.output.renderOutput(dataTable, element);\n",
              "        const docLink = document.createElement('div');\n",
              "        docLink.innerHTML = docLinkHtml;\n",
              "        element.appendChild(docLink);\n",
              "      }\n",
              "    </script>\n",
              "  </div>\n",
              "\n",
              "\n",
              "<div id=\"df-e4adca4d-de9d-43f4-b773-3cf57a02ab96\">\n",
              "  <button class=\"colab-df-quickchart\" onclick=\"quickchart('df-e4adca4d-de9d-43f4-b773-3cf57a02ab96')\"\n",
              "            title=\"Suggest charts\"\n",
              "            style=\"display:none;\">\n",
              "\n",
              "<svg xmlns=\"http://www.w3.org/2000/svg\" height=\"24px\"viewBox=\"0 0 24 24\"\n",
              "     width=\"24px\">\n",
              "    <g>\n",
              "        <path d=\"M19 3H5c-1.1 0-2 .9-2 2v14c0 1.1.9 2 2 2h14c1.1 0 2-.9 2-2V5c0-1.1-.9-2-2-2zM9 17H7v-7h2v7zm4 0h-2V7h2v10zm4 0h-2v-4h2v4z\"/>\n",
              "    </g>\n",
              "</svg>\n",
              "  </button>\n",
              "\n",
              "<style>\n",
              "  .colab-df-quickchart {\n",
              "      --bg-color: #E8F0FE;\n",
              "      --fill-color: #1967D2;\n",
              "      --hover-bg-color: #E2EBFA;\n",
              "      --hover-fill-color: #174EA6;\n",
              "      --disabled-fill-color: #AAA;\n",
              "      --disabled-bg-color: #DDD;\n",
              "  }\n",
              "\n",
              "  [theme=dark] .colab-df-quickchart {\n",
              "      --bg-color: #3B4455;\n",
              "      --fill-color: #D2E3FC;\n",
              "      --hover-bg-color: #434B5C;\n",
              "      --hover-fill-color: #FFFFFF;\n",
              "      --disabled-bg-color: #3B4455;\n",
              "      --disabled-fill-color: #666;\n",
              "  }\n",
              "\n",
              "  .colab-df-quickchart {\n",
              "    background-color: var(--bg-color);\n",
              "    border: none;\n",
              "    border-radius: 50%;\n",
              "    cursor: pointer;\n",
              "    display: none;\n",
              "    fill: var(--fill-color);\n",
              "    height: 32px;\n",
              "    padding: 0;\n",
              "    width: 32px;\n",
              "  }\n",
              "\n",
              "  .colab-df-quickchart:hover {\n",
              "    background-color: var(--hover-bg-color);\n",
              "    box-shadow: 0 1px 2px rgba(60, 64, 67, 0.3), 0 1px 3px 1px rgba(60, 64, 67, 0.15);\n",
              "    fill: var(--button-hover-fill-color);\n",
              "  }\n",
              "\n",
              "  .colab-df-quickchart-complete:disabled,\n",
              "  .colab-df-quickchart-complete:disabled:hover {\n",
              "    background-color: var(--disabled-bg-color);\n",
              "    fill: var(--disabled-fill-color);\n",
              "    box-shadow: none;\n",
              "  }\n",
              "\n",
              "  .colab-df-spinner {\n",
              "    border: 2px solid var(--fill-color);\n",
              "    border-color: transparent;\n",
              "    border-bottom-color: var(--fill-color);\n",
              "    animation:\n",
              "      spin 1s steps(1) infinite;\n",
              "  }\n",
              "\n",
              "  @keyframes spin {\n",
              "    0% {\n",
              "      border-color: transparent;\n",
              "      border-bottom-color: var(--fill-color);\n",
              "      border-left-color: var(--fill-color);\n",
              "    }\n",
              "    20% {\n",
              "      border-color: transparent;\n",
              "      border-left-color: var(--fill-color);\n",
              "      border-top-color: var(--fill-color);\n",
              "    }\n",
              "    30% {\n",
              "      border-color: transparent;\n",
              "      border-left-color: var(--fill-color);\n",
              "      border-top-color: var(--fill-color);\n",
              "      border-right-color: var(--fill-color);\n",
              "    }\n",
              "    40% {\n",
              "      border-color: transparent;\n",
              "      border-right-color: var(--fill-color);\n",
              "      border-top-color: var(--fill-color);\n",
              "    }\n",
              "    60% {\n",
              "      border-color: transparent;\n",
              "      border-right-color: var(--fill-color);\n",
              "    }\n",
              "    80% {\n",
              "      border-color: transparent;\n",
              "      border-right-color: var(--fill-color);\n",
              "      border-bottom-color: var(--fill-color);\n",
              "    }\n",
              "    90% {\n",
              "      border-color: transparent;\n",
              "      border-bottom-color: var(--fill-color);\n",
              "    }\n",
              "  }\n",
              "</style>\n",
              "\n",
              "  <script>\n",
              "    async function quickchart(key) {\n",
              "      const quickchartButtonEl =\n",
              "        document.querySelector('#' + key + ' button');\n",
              "      quickchartButtonEl.disabled = true;  // To prevent multiple clicks.\n",
              "      quickchartButtonEl.classList.add('colab-df-spinner');\n",
              "      try {\n",
              "        const charts = await google.colab.kernel.invokeFunction(\n",
              "            'suggestCharts', [key], {});\n",
              "      } catch (error) {\n",
              "        console.error('Error during call to suggestCharts:', error);\n",
              "      }\n",
              "      quickchartButtonEl.classList.remove('colab-df-spinner');\n",
              "      quickchartButtonEl.classList.add('colab-df-quickchart-complete');\n",
              "    }\n",
              "    (() => {\n",
              "      let quickchartButtonEl =\n",
              "        document.querySelector('#df-e4adca4d-de9d-43f4-b773-3cf57a02ab96 button');\n",
              "      quickchartButtonEl.style.display =\n",
              "        google.colab.kernel.accessAllowed ? 'block' : 'none';\n",
              "    })();\n",
              "  </script>\n",
              "</div>\n",
              "\n",
              "    </div>\n",
              "  </div>\n"
            ],
            "application/vnd.google.colaboratory.intrinsic+json": {
              "type": "dataframe",
              "variable_name": "dev",
              "summary": "{\n  \"name\": \"dev\",\n  \"rows\": 545,\n  \"fields\": [\n    {\n      \"column\": \"price\",\n      \"properties\": {\n        \"dtype\": \"number\",\n        \"std\": 1870439,\n        \"min\": 1750000,\n        \"max\": 13300000,\n        \"num_unique_values\": 219,\n        \"samples\": [\n          3773000,\n          5285000,\n          1820000\n        ],\n        \"semantic_type\": \"\",\n        \"description\": \"\"\n      }\n    },\n    {\n      \"column\": \"area\",\n      \"properties\": {\n        \"dtype\": \"number\",\n        \"std\": 2170,\n        \"min\": 1650,\n        \"max\": 16200,\n        \"num_unique_values\": 284,\n        \"samples\": [\n          6000,\n          2684,\n          5360\n        ],\n        \"semantic_type\": \"\",\n        \"description\": \"\"\n      }\n    },\n    {\n      \"column\": \"bedrooms\",\n      \"properties\": {\n        \"dtype\": \"number\",\n        \"std\": 0,\n        \"min\": 1,\n        \"max\": 6,\n        \"num_unique_values\": 6,\n        \"samples\": [\n          4,\n          3,\n          1\n        ],\n        \"semantic_type\": \"\",\n        \"description\": \"\"\n      }\n    },\n    {\n      \"column\": \"bathrooms\",\n      \"properties\": {\n        \"dtype\": \"number\",\n        \"std\": 0,\n        \"min\": 1,\n        \"max\": 4,\n        \"num_unique_values\": 4,\n        \"samples\": [\n          4,\n          3,\n          2\n        ],\n        \"semantic_type\": \"\",\n        \"description\": \"\"\n      }\n    },\n    {\n      \"column\": \"stories\",\n      \"properties\": {\n        \"dtype\": \"number\",\n        \"std\": 0,\n        \"min\": 1,\n        \"max\": 4,\n        \"num_unique_values\": 4,\n        \"samples\": [\n          4,\n          1,\n          3\n        ],\n        \"semantic_type\": \"\",\n        \"description\": \"\"\n      }\n    },\n    {\n      \"column\": \"mainroad\",\n      \"properties\": {\n        \"dtype\": \"number\",\n        \"std\": 0,\n        \"min\": 0,\n        \"max\": 1,\n        \"num_unique_values\": 2,\n        \"samples\": [\n          0,\n          1\n        ],\n        \"semantic_type\": \"\",\n        \"description\": \"\"\n      }\n    },\n    {\n      \"column\": \"guestroom\",\n      \"properties\": {\n        \"dtype\": \"number\",\n        \"std\": 0,\n        \"min\": 0,\n        \"max\": 1,\n        \"num_unique_values\": 2,\n        \"samples\": [\n          1,\n          0\n        ],\n        \"semantic_type\": \"\",\n        \"description\": \"\"\n      }\n    },\n    {\n      \"column\": \"basement\",\n      \"properties\": {\n        \"dtype\": \"number\",\n        \"std\": 0,\n        \"min\": 0,\n        \"max\": 1,\n        \"num_unique_values\": 2,\n        \"samples\": [\n          1,\n          0\n        ],\n        \"semantic_type\": \"\",\n        \"description\": \"\"\n      }\n    },\n    {\n      \"column\": \"hotwaterheating\",\n      \"properties\": {\n        \"dtype\": \"number\",\n        \"std\": 0,\n        \"min\": 0,\n        \"max\": 1,\n        \"num_unique_values\": 2,\n        \"samples\": [\n          1,\n          0\n        ],\n        \"semantic_type\": \"\",\n        \"description\": \"\"\n      }\n    },\n    {\n      \"column\": \"airconditioning\",\n      \"properties\": {\n        \"dtype\": \"number\",\n        \"std\": 0,\n        \"min\": 0,\n        \"max\": 1,\n        \"num_unique_values\": 2,\n        \"samples\": [\n          0,\n          1\n        ],\n        \"semantic_type\": \"\",\n        \"description\": \"\"\n      }\n    },\n    {\n      \"column\": \"parking\",\n      \"properties\": {\n        \"dtype\": \"number\",\n        \"std\": 0,\n        \"min\": 0,\n        \"max\": 3,\n        \"num_unique_values\": 4,\n        \"samples\": [\n          3,\n          1\n        ],\n        \"semantic_type\": \"\",\n        \"description\": \"\"\n      }\n    },\n    {\n      \"column\": \"prefarea\",\n      \"properties\": {\n        \"dtype\": \"number\",\n        \"std\": 0,\n        \"min\": 0,\n        \"max\": 1,\n        \"num_unique_values\": 2,\n        \"samples\": [\n          0,\n          1\n        ],\n        \"semantic_type\": \"\",\n        \"description\": \"\"\n      }\n    },\n    {\n      \"column\": \"furnishingstatus\",\n      \"properties\": {\n        \"dtype\": \"number\",\n        \"std\": 0,\n        \"min\": 1,\n        \"max\": 3,\n        \"num_unique_values\": 3,\n        \"samples\": [\n          1,\n          2\n        ],\n        \"semantic_type\": \"\",\n        \"description\": \"\"\n      }\n    }\n  ]\n}"
            }
          },
          "metadata": {},
          "execution_count": 70
        }
      ]
    },
    {
      "cell_type": "markdown",
      "source": [
        "**finding correlation between the parameters to find the valuable parameters**"
      ],
      "metadata": {
        "id": "55eWXqrDoYjR"
      }
    },
    {
      "cell_type": "code",
      "source": [
        " dev.corr()"
      ],
      "metadata": {
        "colab": {
          "base_uri": "https://localhost:8080/",
          "height": 477
        },
        "id": "o0EVPt0bEp04",
        "outputId": "130e2021-63e2-4d42-9258-36fe64abaf46"
      },
      "execution_count": 71,
      "outputs": [
        {
          "output_type": "execute_result",
          "data": {
            "text/plain": [
              "                     price      area  bedrooms  bathrooms   stories  mainroad  \\\n",
              "price             1.000000  0.535997  0.366494   0.517545  0.420712  0.296898   \n",
              "area              0.535997  1.000000  0.151858   0.193820  0.083996  0.288874   \n",
              "bedrooms          0.366494  0.151858  1.000000   0.373930  0.408564 -0.012033   \n",
              "bathrooms         0.517545  0.193820  0.373930   1.000000  0.326165  0.042398   \n",
              "stories           0.420712  0.083996  0.408564   0.326165  1.000000  0.121706   \n",
              "mainroad          0.296898  0.288874 -0.012033   0.042398  0.121706  1.000000   \n",
              "guestroom         0.255517  0.140297  0.080549   0.126469  0.043538  0.092337   \n",
              "basement          0.187057  0.047417  0.097312   0.102106 -0.172394  0.044002   \n",
              "hotwaterheating   0.093073 -0.009229  0.046049   0.067159  0.018847 -0.011781   \n",
              "airconditioning   0.452954  0.222393  0.160603   0.186915  0.293602  0.105423   \n",
              "parking           0.384394  0.352980  0.139270   0.177496  0.045547  0.204433   \n",
              "prefarea          0.329777  0.234779  0.079023   0.063472  0.044425  0.199876   \n",
              "furnishingstatus -0.304721 -0.171445 -0.123244  -0.143559 -0.104672 -0.156726   \n",
              "\n",
              "                  guestroom  basement  hotwaterheating  airconditioning  \\\n",
              "price              0.255517  0.187057         0.093073         0.452954   \n",
              "area               0.140297  0.047417        -0.009229         0.222393   \n",
              "bedrooms           0.080549  0.097312         0.046049         0.160603   \n",
              "bathrooms          0.126469  0.102106         0.067159         0.186915   \n",
              "stories            0.043538 -0.172394         0.018847         0.293602   \n",
              "mainroad           0.092337  0.044002        -0.011781         0.105423   \n",
              "guestroom          1.000000  0.372066        -0.010308         0.138179   \n",
              "basement           0.372066  1.000000         0.004385         0.047341   \n",
              "hotwaterheating   -0.010308  0.004385         1.000000        -0.130023   \n",
              "airconditioning    0.138179  0.047341        -0.130023         1.000000   \n",
              "parking            0.037466  0.051497         0.067864         0.159173   \n",
              "prefarea           0.160897  0.228083        -0.059411         0.117382   \n",
              "furnishingstatus  -0.118328 -0.112831        -0.031628        -0.150477   \n",
              "\n",
              "                   parking  prefarea  furnishingstatus  \n",
              "price             0.384394  0.329777         -0.304721  \n",
              "area              0.352980  0.234779         -0.171445  \n",
              "bedrooms          0.139270  0.079023         -0.123244  \n",
              "bathrooms         0.177496  0.063472         -0.143559  \n",
              "stories           0.045547  0.044425         -0.104672  \n",
              "mainroad          0.204433  0.199876         -0.156726  \n",
              "guestroom         0.037466  0.160897         -0.118328  \n",
              "basement          0.051497  0.228083         -0.112831  \n",
              "hotwaterheating   0.067864 -0.059411         -0.031628  \n",
              "airconditioning   0.159173  0.117382         -0.150477  \n",
              "parking           1.000000  0.091627         -0.177539  \n",
              "prefarea          0.091627  1.000000         -0.107686  \n",
              "furnishingstatus -0.177539 -0.107686          1.000000  "
            ],
            "text/html": [
              "\n",
              "  <div id=\"df-f89b2b43-ef7a-4c65-9c55-d6b7ab54523b\" class=\"colab-df-container\">\n",
              "    <div>\n",
              "<style scoped>\n",
              "    .dataframe tbody tr th:only-of-type {\n",
              "        vertical-align: middle;\n",
              "    }\n",
              "\n",
              "    .dataframe tbody tr th {\n",
              "        vertical-align: top;\n",
              "    }\n",
              "\n",
              "    .dataframe thead th {\n",
              "        text-align: right;\n",
              "    }\n",
              "</style>\n",
              "<table border=\"1\" class=\"dataframe\">\n",
              "  <thead>\n",
              "    <tr style=\"text-align: right;\">\n",
              "      <th></th>\n",
              "      <th>price</th>\n",
              "      <th>area</th>\n",
              "      <th>bedrooms</th>\n",
              "      <th>bathrooms</th>\n",
              "      <th>stories</th>\n",
              "      <th>mainroad</th>\n",
              "      <th>guestroom</th>\n",
              "      <th>basement</th>\n",
              "      <th>hotwaterheating</th>\n",
              "      <th>airconditioning</th>\n",
              "      <th>parking</th>\n",
              "      <th>prefarea</th>\n",
              "      <th>furnishingstatus</th>\n",
              "    </tr>\n",
              "  </thead>\n",
              "  <tbody>\n",
              "    <tr>\n",
              "      <th>price</th>\n",
              "      <td>1.000000</td>\n",
              "      <td>0.535997</td>\n",
              "      <td>0.366494</td>\n",
              "      <td>0.517545</td>\n",
              "      <td>0.420712</td>\n",
              "      <td>0.296898</td>\n",
              "      <td>0.255517</td>\n",
              "      <td>0.187057</td>\n",
              "      <td>0.093073</td>\n",
              "      <td>0.452954</td>\n",
              "      <td>0.384394</td>\n",
              "      <td>0.329777</td>\n",
              "      <td>-0.304721</td>\n",
              "    </tr>\n",
              "    <tr>\n",
              "      <th>area</th>\n",
              "      <td>0.535997</td>\n",
              "      <td>1.000000</td>\n",
              "      <td>0.151858</td>\n",
              "      <td>0.193820</td>\n",
              "      <td>0.083996</td>\n",
              "      <td>0.288874</td>\n",
              "      <td>0.140297</td>\n",
              "      <td>0.047417</td>\n",
              "      <td>-0.009229</td>\n",
              "      <td>0.222393</td>\n",
              "      <td>0.352980</td>\n",
              "      <td>0.234779</td>\n",
              "      <td>-0.171445</td>\n",
              "    </tr>\n",
              "    <tr>\n",
              "      <th>bedrooms</th>\n",
              "      <td>0.366494</td>\n",
              "      <td>0.151858</td>\n",
              "      <td>1.000000</td>\n",
              "      <td>0.373930</td>\n",
              "      <td>0.408564</td>\n",
              "      <td>-0.012033</td>\n",
              "      <td>0.080549</td>\n",
              "      <td>0.097312</td>\n",
              "      <td>0.046049</td>\n",
              "      <td>0.160603</td>\n",
              "      <td>0.139270</td>\n",
              "      <td>0.079023</td>\n",
              "      <td>-0.123244</td>\n",
              "    </tr>\n",
              "    <tr>\n",
              "      <th>bathrooms</th>\n",
              "      <td>0.517545</td>\n",
              "      <td>0.193820</td>\n",
              "      <td>0.373930</td>\n",
              "      <td>1.000000</td>\n",
              "      <td>0.326165</td>\n",
              "      <td>0.042398</td>\n",
              "      <td>0.126469</td>\n",
              "      <td>0.102106</td>\n",
              "      <td>0.067159</td>\n",
              "      <td>0.186915</td>\n",
              "      <td>0.177496</td>\n",
              "      <td>0.063472</td>\n",
              "      <td>-0.143559</td>\n",
              "    </tr>\n",
              "    <tr>\n",
              "      <th>stories</th>\n",
              "      <td>0.420712</td>\n",
              "      <td>0.083996</td>\n",
              "      <td>0.408564</td>\n",
              "      <td>0.326165</td>\n",
              "      <td>1.000000</td>\n",
              "      <td>0.121706</td>\n",
              "      <td>0.043538</td>\n",
              "      <td>-0.172394</td>\n",
              "      <td>0.018847</td>\n",
              "      <td>0.293602</td>\n",
              "      <td>0.045547</td>\n",
              "      <td>0.044425</td>\n",
              "      <td>-0.104672</td>\n",
              "    </tr>\n",
              "    <tr>\n",
              "      <th>mainroad</th>\n",
              "      <td>0.296898</td>\n",
              "      <td>0.288874</td>\n",
              "      <td>-0.012033</td>\n",
              "      <td>0.042398</td>\n",
              "      <td>0.121706</td>\n",
              "      <td>1.000000</td>\n",
              "      <td>0.092337</td>\n",
              "      <td>0.044002</td>\n",
              "      <td>-0.011781</td>\n",
              "      <td>0.105423</td>\n",
              "      <td>0.204433</td>\n",
              "      <td>0.199876</td>\n",
              "      <td>-0.156726</td>\n",
              "    </tr>\n",
              "    <tr>\n",
              "      <th>guestroom</th>\n",
              "      <td>0.255517</td>\n",
              "      <td>0.140297</td>\n",
              "      <td>0.080549</td>\n",
              "      <td>0.126469</td>\n",
              "      <td>0.043538</td>\n",
              "      <td>0.092337</td>\n",
              "      <td>1.000000</td>\n",
              "      <td>0.372066</td>\n",
              "      <td>-0.010308</td>\n",
              "      <td>0.138179</td>\n",
              "      <td>0.037466</td>\n",
              "      <td>0.160897</td>\n",
              "      <td>-0.118328</td>\n",
              "    </tr>\n",
              "    <tr>\n",
              "      <th>basement</th>\n",
              "      <td>0.187057</td>\n",
              "      <td>0.047417</td>\n",
              "      <td>0.097312</td>\n",
              "      <td>0.102106</td>\n",
              "      <td>-0.172394</td>\n",
              "      <td>0.044002</td>\n",
              "      <td>0.372066</td>\n",
              "      <td>1.000000</td>\n",
              "      <td>0.004385</td>\n",
              "      <td>0.047341</td>\n",
              "      <td>0.051497</td>\n",
              "      <td>0.228083</td>\n",
              "      <td>-0.112831</td>\n",
              "    </tr>\n",
              "    <tr>\n",
              "      <th>hotwaterheating</th>\n",
              "      <td>0.093073</td>\n",
              "      <td>-0.009229</td>\n",
              "      <td>0.046049</td>\n",
              "      <td>0.067159</td>\n",
              "      <td>0.018847</td>\n",
              "      <td>-0.011781</td>\n",
              "      <td>-0.010308</td>\n",
              "      <td>0.004385</td>\n",
              "      <td>1.000000</td>\n",
              "      <td>-0.130023</td>\n",
              "      <td>0.067864</td>\n",
              "      <td>-0.059411</td>\n",
              "      <td>-0.031628</td>\n",
              "    </tr>\n",
              "    <tr>\n",
              "      <th>airconditioning</th>\n",
              "      <td>0.452954</td>\n",
              "      <td>0.222393</td>\n",
              "      <td>0.160603</td>\n",
              "      <td>0.186915</td>\n",
              "      <td>0.293602</td>\n",
              "      <td>0.105423</td>\n",
              "      <td>0.138179</td>\n",
              "      <td>0.047341</td>\n",
              "      <td>-0.130023</td>\n",
              "      <td>1.000000</td>\n",
              "      <td>0.159173</td>\n",
              "      <td>0.117382</td>\n",
              "      <td>-0.150477</td>\n",
              "    </tr>\n",
              "    <tr>\n",
              "      <th>parking</th>\n",
              "      <td>0.384394</td>\n",
              "      <td>0.352980</td>\n",
              "      <td>0.139270</td>\n",
              "      <td>0.177496</td>\n",
              "      <td>0.045547</td>\n",
              "      <td>0.204433</td>\n",
              "      <td>0.037466</td>\n",
              "      <td>0.051497</td>\n",
              "      <td>0.067864</td>\n",
              "      <td>0.159173</td>\n",
              "      <td>1.000000</td>\n",
              "      <td>0.091627</td>\n",
              "      <td>-0.177539</td>\n",
              "    </tr>\n",
              "    <tr>\n",
              "      <th>prefarea</th>\n",
              "      <td>0.329777</td>\n",
              "      <td>0.234779</td>\n",
              "      <td>0.079023</td>\n",
              "      <td>0.063472</td>\n",
              "      <td>0.044425</td>\n",
              "      <td>0.199876</td>\n",
              "      <td>0.160897</td>\n",
              "      <td>0.228083</td>\n",
              "      <td>-0.059411</td>\n",
              "      <td>0.117382</td>\n",
              "      <td>0.091627</td>\n",
              "      <td>1.000000</td>\n",
              "      <td>-0.107686</td>\n",
              "    </tr>\n",
              "    <tr>\n",
              "      <th>furnishingstatus</th>\n",
              "      <td>-0.304721</td>\n",
              "      <td>-0.171445</td>\n",
              "      <td>-0.123244</td>\n",
              "      <td>-0.143559</td>\n",
              "      <td>-0.104672</td>\n",
              "      <td>-0.156726</td>\n",
              "      <td>-0.118328</td>\n",
              "      <td>-0.112831</td>\n",
              "      <td>-0.031628</td>\n",
              "      <td>-0.150477</td>\n",
              "      <td>-0.177539</td>\n",
              "      <td>-0.107686</td>\n",
              "      <td>1.000000</td>\n",
              "    </tr>\n",
              "  </tbody>\n",
              "</table>\n",
              "</div>\n",
              "    <div class=\"colab-df-buttons\">\n",
              "\n",
              "  <div class=\"colab-df-container\">\n",
              "    <button class=\"colab-df-convert\" onclick=\"convertToInteractive('df-f89b2b43-ef7a-4c65-9c55-d6b7ab54523b')\"\n",
              "            title=\"Convert this dataframe to an interactive table.\"\n",
              "            style=\"display:none;\">\n",
              "\n",
              "  <svg xmlns=\"http://www.w3.org/2000/svg\" height=\"24px\" viewBox=\"0 -960 960 960\">\n",
              "    <path d=\"M120-120v-720h720v720H120Zm60-500h600v-160H180v160Zm220 220h160v-160H400v160Zm0 220h160v-160H400v160ZM180-400h160v-160H180v160Zm440 0h160v-160H620v160ZM180-180h160v-160H180v160Zm440 0h160v-160H620v160Z\"/>\n",
              "  </svg>\n",
              "    </button>\n",
              "\n",
              "  <style>\n",
              "    .colab-df-container {\n",
              "      display:flex;\n",
              "      gap: 12px;\n",
              "    }\n",
              "\n",
              "    .colab-df-convert {\n",
              "      background-color: #E8F0FE;\n",
              "      border: none;\n",
              "      border-radius: 50%;\n",
              "      cursor: pointer;\n",
              "      display: none;\n",
              "      fill: #1967D2;\n",
              "      height: 32px;\n",
              "      padding: 0 0 0 0;\n",
              "      width: 32px;\n",
              "    }\n",
              "\n",
              "    .colab-df-convert:hover {\n",
              "      background-color: #E2EBFA;\n",
              "      box-shadow: 0px 1px 2px rgba(60, 64, 67, 0.3), 0px 1px 3px 1px rgba(60, 64, 67, 0.15);\n",
              "      fill: #174EA6;\n",
              "    }\n",
              "\n",
              "    .colab-df-buttons div {\n",
              "      margin-bottom: 4px;\n",
              "    }\n",
              "\n",
              "    [theme=dark] .colab-df-convert {\n",
              "      background-color: #3B4455;\n",
              "      fill: #D2E3FC;\n",
              "    }\n",
              "\n",
              "    [theme=dark] .colab-df-convert:hover {\n",
              "      background-color: #434B5C;\n",
              "      box-shadow: 0px 1px 3px 1px rgba(0, 0, 0, 0.15);\n",
              "      filter: drop-shadow(0px 1px 2px rgba(0, 0, 0, 0.3));\n",
              "      fill: #FFFFFF;\n",
              "    }\n",
              "  </style>\n",
              "\n",
              "    <script>\n",
              "      const buttonEl =\n",
              "        document.querySelector('#df-f89b2b43-ef7a-4c65-9c55-d6b7ab54523b button.colab-df-convert');\n",
              "      buttonEl.style.display =\n",
              "        google.colab.kernel.accessAllowed ? 'block' : 'none';\n",
              "\n",
              "      async function convertToInteractive(key) {\n",
              "        const element = document.querySelector('#df-f89b2b43-ef7a-4c65-9c55-d6b7ab54523b');\n",
              "        const dataTable =\n",
              "          await google.colab.kernel.invokeFunction('convertToInteractive',\n",
              "                                                    [key], {});\n",
              "        if (!dataTable) return;\n",
              "\n",
              "        const docLinkHtml = 'Like what you see? Visit the ' +\n",
              "          '<a target=\"_blank\" href=https://colab.research.google.com/notebooks/data_table.ipynb>data table notebook</a>'\n",
              "          + ' to learn more about interactive tables.';\n",
              "        element.innerHTML = '';\n",
              "        dataTable['output_type'] = 'display_data';\n",
              "        await google.colab.output.renderOutput(dataTable, element);\n",
              "        const docLink = document.createElement('div');\n",
              "        docLink.innerHTML = docLinkHtml;\n",
              "        element.appendChild(docLink);\n",
              "      }\n",
              "    </script>\n",
              "  </div>\n",
              "\n",
              "\n",
              "<div id=\"df-096326d2-82c0-4458-a3f5-5c202f293a95\">\n",
              "  <button class=\"colab-df-quickchart\" onclick=\"quickchart('df-096326d2-82c0-4458-a3f5-5c202f293a95')\"\n",
              "            title=\"Suggest charts\"\n",
              "            style=\"display:none;\">\n",
              "\n",
              "<svg xmlns=\"http://www.w3.org/2000/svg\" height=\"24px\"viewBox=\"0 0 24 24\"\n",
              "     width=\"24px\">\n",
              "    <g>\n",
              "        <path d=\"M19 3H5c-1.1 0-2 .9-2 2v14c0 1.1.9 2 2 2h14c1.1 0 2-.9 2-2V5c0-1.1-.9-2-2-2zM9 17H7v-7h2v7zm4 0h-2V7h2v10zm4 0h-2v-4h2v4z\"/>\n",
              "    </g>\n",
              "</svg>\n",
              "  </button>\n",
              "\n",
              "<style>\n",
              "  .colab-df-quickchart {\n",
              "      --bg-color: #E8F0FE;\n",
              "      --fill-color: #1967D2;\n",
              "      --hover-bg-color: #E2EBFA;\n",
              "      --hover-fill-color: #174EA6;\n",
              "      --disabled-fill-color: #AAA;\n",
              "      --disabled-bg-color: #DDD;\n",
              "  }\n",
              "\n",
              "  [theme=dark] .colab-df-quickchart {\n",
              "      --bg-color: #3B4455;\n",
              "      --fill-color: #D2E3FC;\n",
              "      --hover-bg-color: #434B5C;\n",
              "      --hover-fill-color: #FFFFFF;\n",
              "      --disabled-bg-color: #3B4455;\n",
              "      --disabled-fill-color: #666;\n",
              "  }\n",
              "\n",
              "  .colab-df-quickchart {\n",
              "    background-color: var(--bg-color);\n",
              "    border: none;\n",
              "    border-radius: 50%;\n",
              "    cursor: pointer;\n",
              "    display: none;\n",
              "    fill: var(--fill-color);\n",
              "    height: 32px;\n",
              "    padding: 0;\n",
              "    width: 32px;\n",
              "  }\n",
              "\n",
              "  .colab-df-quickchart:hover {\n",
              "    background-color: var(--hover-bg-color);\n",
              "    box-shadow: 0 1px 2px rgba(60, 64, 67, 0.3), 0 1px 3px 1px rgba(60, 64, 67, 0.15);\n",
              "    fill: var(--button-hover-fill-color);\n",
              "  }\n",
              "\n",
              "  .colab-df-quickchart-complete:disabled,\n",
              "  .colab-df-quickchart-complete:disabled:hover {\n",
              "    background-color: var(--disabled-bg-color);\n",
              "    fill: var(--disabled-fill-color);\n",
              "    box-shadow: none;\n",
              "  }\n",
              "\n",
              "  .colab-df-spinner {\n",
              "    border: 2px solid var(--fill-color);\n",
              "    border-color: transparent;\n",
              "    border-bottom-color: var(--fill-color);\n",
              "    animation:\n",
              "      spin 1s steps(1) infinite;\n",
              "  }\n",
              "\n",
              "  @keyframes spin {\n",
              "    0% {\n",
              "      border-color: transparent;\n",
              "      border-bottom-color: var(--fill-color);\n",
              "      border-left-color: var(--fill-color);\n",
              "    }\n",
              "    20% {\n",
              "      border-color: transparent;\n",
              "      border-left-color: var(--fill-color);\n",
              "      border-top-color: var(--fill-color);\n",
              "    }\n",
              "    30% {\n",
              "      border-color: transparent;\n",
              "      border-left-color: var(--fill-color);\n",
              "      border-top-color: var(--fill-color);\n",
              "      border-right-color: var(--fill-color);\n",
              "    }\n",
              "    40% {\n",
              "      border-color: transparent;\n",
              "      border-right-color: var(--fill-color);\n",
              "      border-top-color: var(--fill-color);\n",
              "    }\n",
              "    60% {\n",
              "      border-color: transparent;\n",
              "      border-right-color: var(--fill-color);\n",
              "    }\n",
              "    80% {\n",
              "      border-color: transparent;\n",
              "      border-right-color: var(--fill-color);\n",
              "      border-bottom-color: var(--fill-color);\n",
              "    }\n",
              "    90% {\n",
              "      border-color: transparent;\n",
              "      border-bottom-color: var(--fill-color);\n",
              "    }\n",
              "  }\n",
              "</style>\n",
              "\n",
              "  <script>\n",
              "    async function quickchart(key) {\n",
              "      const quickchartButtonEl =\n",
              "        document.querySelector('#' + key + ' button');\n",
              "      quickchartButtonEl.disabled = true;  // To prevent multiple clicks.\n",
              "      quickchartButtonEl.classList.add('colab-df-spinner');\n",
              "      try {\n",
              "        const charts = await google.colab.kernel.invokeFunction(\n",
              "            'suggestCharts', [key], {});\n",
              "      } catch (error) {\n",
              "        console.error('Error during call to suggestCharts:', error);\n",
              "      }\n",
              "      quickchartButtonEl.classList.remove('colab-df-spinner');\n",
              "      quickchartButtonEl.classList.add('colab-df-quickchart-complete');\n",
              "    }\n",
              "    (() => {\n",
              "      let quickchartButtonEl =\n",
              "        document.querySelector('#df-096326d2-82c0-4458-a3f5-5c202f293a95 button');\n",
              "      quickchartButtonEl.style.display =\n",
              "        google.colab.kernel.accessAllowed ? 'block' : 'none';\n",
              "    })();\n",
              "  </script>\n",
              "</div>\n",
              "\n",
              "    </div>\n",
              "  </div>\n"
            ],
            "application/vnd.google.colaboratory.intrinsic+json": {
              "type": "dataframe",
              "summary": "{\n  \"name\": \"dev\",\n  \"rows\": 13,\n  \"fields\": [\n    {\n      \"column\": \"price\",\n      \"properties\": {\n        \"dtype\": \"number\",\n        \"std\": 0.29376627685135526,\n        \"min\": -0.3047214615374342,\n        \"max\": 1.0,\n        \"num_unique_values\": 13,\n        \"samples\": [\n          0.32977704986810746,\n          0.4529540842560477,\n          1.0\n        ],\n        \"semantic_type\": \"\",\n        \"description\": \"\"\n      }\n    },\n    {\n      \"column\": \"area\",\n      \"properties\": {\n        \"dtype\": \"number\",\n        \"std\": 0.2876913941630651,\n        \"min\": -0.17144536095782587,\n        \"max\": 1.0,\n        \"num_unique_values\": 13,\n        \"samples\": [\n          0.234778798393511,\n          0.2223931035389804,\n          0.5359973457780797\n        ],\n        \"semantic_type\": \"\",\n        \"description\": \"\"\n      }\n    },\n    {\n      \"column\": \"bedrooms\",\n      \"properties\": {\n        \"dtype\": \"number\",\n        \"std\": 0.28276058362967477,\n        \"min\": -0.12324399876430857,\n        \"max\": 1.0,\n        \"num_unique_values\": 13,\n        \"samples\": [\n          0.07902306408232203,\n          0.16060325689743948,\n          0.36649402577386964\n        ],\n        \"semantic_type\": \"\",\n        \"description\": \"\"\n      }\n    },\n    {\n      \"column\": \"bathrooms\",\n      \"properties\": {\n        \"dtype\": \"number\",\n        \"std\": 0.28392859942678583,\n        \"min\": -0.14355949825183334,\n        \"max\": 1.0,\n        \"num_unique_values\": 13,\n        \"samples\": [\n          0.06347174021699561,\n          0.18691502783239133,\n          0.517545339455012\n        ],\n        \"semantic_type\": \"\",\n        \"description\": \"\"\n      }\n    },\n    {\n      \"column\": \"stories\",\n      \"properties\": {\n        \"dtype\": \"number\",\n        \"std\": 0.3045434793527196,\n        \"min\": -0.1723936174865975,\n        \"max\": 1.0,\n        \"num_unique_values\": 13,\n        \"samples\": [\n          0.04442487225791426,\n          0.29360200037394213,\n          0.42071236618861724\n        ],\n        \"semantic_type\": \"\",\n        \"description\": \"\"\n      }\n    },\n    {\n      \"column\": \"mainroad\",\n      \"properties\": {\n        \"dtype\": \"number\",\n        \"std\": 0.2797070611679358,\n        \"min\": -0.15672586313241485,\n        \"max\": 1.0,\n        \"num_unique_values\": 13,\n        \"samples\": [\n          0.19987577692800673,\n          0.105422998072852,\n          0.2968984892639758\n        ],\n        \"semantic_type\": \"\",\n        \"description\": \"\"\n      }\n    },\n    {\n      \"column\": \"guestroom\",\n      \"properties\": {\n        \"dtype\": \"number\",\n        \"std\": 0.2743542109277363,\n        \"min\": -0.11832756557090923,\n        \"max\": 1.0,\n        \"num_unique_values\": 13,\n        \"samples\": [\n          0.1608969362404531,\n          0.13817876660914374,\n          0.2555172899350002\n        ],\n        \"semantic_type\": \"\",\n        \"description\": \"\"\n      }\n    },\n    {\n      \"column\": \"basement\",\n      \"properties\": {\n        \"dtype\": \"number\",\n        \"std\": 0.291597763179291,\n        \"min\": -0.1723936174865975,\n        \"max\": 1.0,\n        \"num_unique_values\": 13,\n        \"samples\": [\n          0.22808285272642276,\n          0.04734118851852905,\n          0.18705659793805265\n        ],\n        \"semantic_type\": \"\",\n        \"description\": \"\"\n      }\n    },\n    {\n      \"column\": \"hotwaterheating\",\n      \"properties\": {\n        \"dtype\": \"number\",\n        \"std\": 0.28255359766359034,\n        \"min\": -0.13002283342067683,\n        \"max\": 1.0,\n        \"num_unique_values\": 13,\n        \"samples\": [\n          -0.05941138180401149,\n          -0.13002283342067683,\n          0.09307284392139716\n        ],\n        \"semantic_type\": \"\",\n        \"description\": \"\"\n      }\n    },\n    {\n      \"column\": \"airconditioning\",\n      \"properties\": {\n        \"dtype\": \"number\",\n        \"std\": 0.28741438197193225,\n        \"min\": -0.1504772857737464,\n        \"max\": 1.0,\n        \"num_unique_values\": 13,\n        \"samples\": [\n          0.11738209724461157,\n          1.0,\n          0.4529540842560477\n        ],\n        \"semantic_type\": \"\",\n        \"description\": \"\"\n      }\n    },\n    {\n      \"column\": \"parking\",\n      \"properties\": {\n        \"dtype\": \"number\",\n        \"std\": 0.2809238317490268,\n        \"min\": -0.1775386068072433,\n        \"max\": 1.0,\n        \"num_unique_values\": 13,\n        \"samples\": [\n          0.09162706193381093,\n          0.15917268297096523,\n          0.38439364863572645\n        ],\n        \"semantic_type\": \"\",\n        \"description\": \"\"\n      }\n    },\n    {\n      \"column\": \"prefarea\",\n      \"properties\": {\n        \"dtype\": \"number\",\n        \"std\": 0.2730592346236721,\n        \"min\": -0.10768597141348123,\n        \"max\": 1.0,\n        \"num_unique_values\": 13,\n        \"samples\": [\n          1.0,\n          0.11738209724461157,\n          0.32977704986810746\n        ],\n        \"semantic_type\": \"\",\n        \"description\": \"\"\n      }\n    },\n    {\n      \"column\": \"furnishingstatus\",\n      \"properties\": {\n        \"dtype\": \"number\",\n        \"std\": 0.32262697198303947,\n        \"min\": -0.3047214615374342,\n        \"max\": 1.0,\n        \"num_unique_values\": 13,\n        \"samples\": [\n          -0.10768597141348123,\n          -0.1504772857737464,\n          -0.3047214615374342\n        ],\n        \"semantic_type\": \"\",\n        \"description\": \"\"\n      }\n    }\n  ]\n}"
            }
          },
          "metadata": {},
          "execution_count": 71
        }
      ]
    },
    {
      "cell_type": "code",
      "source": [
        "dev.corr()['price'].sort_values(ascending=False)"
      ],
      "metadata": {
        "colab": {
          "base_uri": "https://localhost:8080/"
        },
        "id": "R18boZW3E1Ll",
        "outputId": "bb36c5eb-f52a-463c-bd27-9cd190e712ca"
      },
      "execution_count": 72,
      "outputs": [
        {
          "output_type": "execute_result",
          "data": {
            "text/plain": [
              "price               1.000000\n",
              "area                0.535997\n",
              "bathrooms           0.517545\n",
              "airconditioning     0.452954\n",
              "stories             0.420712\n",
              "parking             0.384394\n",
              "bedrooms            0.366494\n",
              "prefarea            0.329777\n",
              "mainroad            0.296898\n",
              "guestroom           0.255517\n",
              "basement            0.187057\n",
              "hotwaterheating     0.093073\n",
              "furnishingstatus   -0.304721\n",
              "Name: price, dtype: float64"
            ]
          },
          "metadata": {},
          "execution_count": 72
        }
      ]
    },
    {
      "cell_type": "code",
      "source": [],
      "metadata": {
        "id": "lhAAWBQvYcx8"
      },
      "execution_count": null,
      "outputs": []
    },
    {
      "cell_type": "markdown",
      "source": [
        "**keeping less effective parameters can cause the model to overfit**"
      ],
      "metadata": {
        "id": "CW6fHhyzUJ9k"
      }
    },
    {
      "cell_type": "code",
      "source": [
        "less_effective=['hotwaterheating','basement','guestroom']"
      ],
      "metadata": {
        "id": "nB4UHQBHUJEJ"
      },
      "execution_count": 73,
      "outputs": []
    },
    {
      "cell_type": "code",
      "source": [
        "for i in less_effective:\n",
        "  dev.drop(i,axis=1,inplace=True)"
      ],
      "metadata": {
        "id": "P5AvByotY63H"
      },
      "execution_count": 88,
      "outputs": []
    },
    {
      "cell_type": "markdown",
      "source": [
        "**splitting the data in train and test**"
      ],
      "metadata": {
        "id": "Hnbo5hKBomA3"
      }
    },
    {
      "cell_type": "code",
      "source": [
        "from sklearn.model_selection import train_test_split"
      ],
      "metadata": {
        "id": "vpSy5D78Y7EY"
      },
      "execution_count": 75,
      "outputs": []
    },
    {
      "cell_type": "code",
      "source": [
        "harsh=dev.price\n",
        "dev.drop('price',axis=1,inplace=True)"
      ],
      "metadata": {
        "id": "BYVl6pAGY--O"
      },
      "execution_count": 76,
      "outputs": []
    },
    {
      "cell_type": "code",
      "source": [
        "xtrain,xtest,ytrain,ytest=train_test_split(dev,harsh,test_size=0.2)"
      ],
      "metadata": {
        "id": "xkrB-e9lZHta"
      },
      "execution_count": 77,
      "outputs": []
    },
    {
      "cell_type": "markdown",
      "source": [
        "**algorithms to be applied**\n",
        "1>SGD Regressor\n",
        "2>Lasso\n",
        "3>Elastic Net\n",
        "4>Random Forest\n",
        "5>Neural Network"
      ],
      "metadata": {
        "id": "eilctkNqX3LW"
      }
    },
    {
      "cell_type": "markdown",
      "source": [
        "**SGD Regressor**"
      ],
      "metadata": {
        "id": "SOUdVkqhZVpY"
      }
    },
    {
      "cell_type": "code",
      "source": [
        "import numpy as np\n",
        "from sklearn.linear_model import SGDRegressor\n",
        "from sklearn.pipeline import make_pipeline\n",
        "from sklearn.preprocessing import StandardScaler\n",
        "n_samples, n_features = 10, 5\n",
        "rng = np.random.RandomState(0)\n",
        "y = rng.randn(n_samples)\n",
        "X = rng.randn(n_samples, n_features)\n",
        "model1= make_pipeline(StandardScaler(),\n",
        "                    SGDRegressor(max_iter=1000, tol=1e-3))\n",
        "model1.fit(xtrain, ytrain)"
      ],
      "metadata": {
        "colab": {
          "base_uri": "https://localhost:8080/",
          "height": 125
        },
        "id": "lVjc53LEVdCt",
        "outputId": "6fdb12c5-fd10-4aa7-8469-d3915dc64a08"
      },
      "execution_count": 89,
      "outputs": [
        {
          "output_type": "execute_result",
          "data": {
            "text/plain": [
              "Pipeline(steps=[('standardscaler', StandardScaler()),\n",
              "                ('sgdregressor', SGDRegressor())])"
            ],
            "text/html": [
              "<style>#sk-container-id-6 {color: black;background-color: white;}#sk-container-id-6 pre{padding: 0;}#sk-container-id-6 div.sk-toggleable {background-color: white;}#sk-container-id-6 label.sk-toggleable__label {cursor: pointer;display: block;width: 100%;margin-bottom: 0;padding: 0.3em;box-sizing: border-box;text-align: center;}#sk-container-id-6 label.sk-toggleable__label-arrow:before {content: \"▸\";float: left;margin-right: 0.25em;color: #696969;}#sk-container-id-6 label.sk-toggleable__label-arrow:hover:before {color: black;}#sk-container-id-6 div.sk-estimator:hover label.sk-toggleable__label-arrow:before {color: black;}#sk-container-id-6 div.sk-toggleable__content {max-height: 0;max-width: 0;overflow: hidden;text-align: left;background-color: #f0f8ff;}#sk-container-id-6 div.sk-toggleable__content pre {margin: 0.2em;color: black;border-radius: 0.25em;background-color: #f0f8ff;}#sk-container-id-6 input.sk-toggleable__control:checked~div.sk-toggleable__content {max-height: 200px;max-width: 100%;overflow: auto;}#sk-container-id-6 input.sk-toggleable__control:checked~label.sk-toggleable__label-arrow:before {content: \"▾\";}#sk-container-id-6 div.sk-estimator input.sk-toggleable__control:checked~label.sk-toggleable__label {background-color: #d4ebff;}#sk-container-id-6 div.sk-label input.sk-toggleable__control:checked~label.sk-toggleable__label {background-color: #d4ebff;}#sk-container-id-6 input.sk-hidden--visually {border: 0;clip: rect(1px 1px 1px 1px);clip: rect(1px, 1px, 1px, 1px);height: 1px;margin: -1px;overflow: hidden;padding: 0;position: absolute;width: 1px;}#sk-container-id-6 div.sk-estimator {font-family: monospace;background-color: #f0f8ff;border: 1px dotted black;border-radius: 0.25em;box-sizing: border-box;margin-bottom: 0.5em;}#sk-container-id-6 div.sk-estimator:hover {background-color: #d4ebff;}#sk-container-id-6 div.sk-parallel-item::after {content: \"\";width: 100%;border-bottom: 1px solid gray;flex-grow: 1;}#sk-container-id-6 div.sk-label:hover label.sk-toggleable__label {background-color: #d4ebff;}#sk-container-id-6 div.sk-serial::before {content: \"\";position: absolute;border-left: 1px solid gray;box-sizing: border-box;top: 0;bottom: 0;left: 50%;z-index: 0;}#sk-container-id-6 div.sk-serial {display: flex;flex-direction: column;align-items: center;background-color: white;padding-right: 0.2em;padding-left: 0.2em;position: relative;}#sk-container-id-6 div.sk-item {position: relative;z-index: 1;}#sk-container-id-6 div.sk-parallel {display: flex;align-items: stretch;justify-content: center;background-color: white;position: relative;}#sk-container-id-6 div.sk-item::before, #sk-container-id-6 div.sk-parallel-item::before {content: \"\";position: absolute;border-left: 1px solid gray;box-sizing: border-box;top: 0;bottom: 0;left: 50%;z-index: -1;}#sk-container-id-6 div.sk-parallel-item {display: flex;flex-direction: column;z-index: 1;position: relative;background-color: white;}#sk-container-id-6 div.sk-parallel-item:first-child::after {align-self: flex-end;width: 50%;}#sk-container-id-6 div.sk-parallel-item:last-child::after {align-self: flex-start;width: 50%;}#sk-container-id-6 div.sk-parallel-item:only-child::after {width: 0;}#sk-container-id-6 div.sk-dashed-wrapped {border: 1px dashed gray;margin: 0 0.4em 0.5em 0.4em;box-sizing: border-box;padding-bottom: 0.4em;background-color: white;}#sk-container-id-6 div.sk-label label {font-family: monospace;font-weight: bold;display: inline-block;line-height: 1.2em;}#sk-container-id-6 div.sk-label-container {text-align: center;}#sk-container-id-6 div.sk-container {/* jupyter's `normalize.less` sets `[hidden] { display: none; }` but bootstrap.min.css set `[hidden] { display: none !important; }` so we also need the `!important` here to be able to override the default hidden behavior on the sphinx rendered scikit-learn.org. See: https://github.com/scikit-learn/scikit-learn/issues/21755 */display: inline-block !important;position: relative;}#sk-container-id-6 div.sk-text-repr-fallback {display: none;}</style><div id=\"sk-container-id-6\" class=\"sk-top-container\"><div class=\"sk-text-repr-fallback\"><pre>Pipeline(steps=[(&#x27;standardscaler&#x27;, StandardScaler()),\n",
              "                (&#x27;sgdregressor&#x27;, SGDRegressor())])</pre><b>In a Jupyter environment, please rerun this cell to show the HTML representation or trust the notebook. <br />On GitHub, the HTML representation is unable to render, please try loading this page with nbviewer.org.</b></div><div class=\"sk-container\" hidden><div class=\"sk-item sk-dashed-wrapped\"><div class=\"sk-label-container\"><div class=\"sk-label sk-toggleable\"><input class=\"sk-toggleable__control sk-hidden--visually\" id=\"sk-estimator-id-10\" type=\"checkbox\" ><label for=\"sk-estimator-id-10\" class=\"sk-toggleable__label sk-toggleable__label-arrow\">Pipeline</label><div class=\"sk-toggleable__content\"><pre>Pipeline(steps=[(&#x27;standardscaler&#x27;, StandardScaler()),\n",
              "                (&#x27;sgdregressor&#x27;, SGDRegressor())])</pre></div></div></div><div class=\"sk-serial\"><div class=\"sk-item\"><div class=\"sk-estimator sk-toggleable\"><input class=\"sk-toggleable__control sk-hidden--visually\" id=\"sk-estimator-id-11\" type=\"checkbox\" ><label for=\"sk-estimator-id-11\" class=\"sk-toggleable__label sk-toggleable__label-arrow\">StandardScaler</label><div class=\"sk-toggleable__content\"><pre>StandardScaler()</pre></div></div></div><div class=\"sk-item\"><div class=\"sk-estimator sk-toggleable\"><input class=\"sk-toggleable__control sk-hidden--visually\" id=\"sk-estimator-id-12\" type=\"checkbox\" ><label for=\"sk-estimator-id-12\" class=\"sk-toggleable__label sk-toggleable__label-arrow\">SGDRegressor</label><div class=\"sk-toggleable__content\"><pre>SGDRegressor()</pre></div></div></div></div></div></div></div>"
            ]
          },
          "metadata": {},
          "execution_count": 89
        }
      ]
    },
    {
      "cell_type": "code",
      "source": [
        "model1_score=model1.score(xtest,ytest)"
      ],
      "metadata": {
        "id": "iikE85s5ZPWm"
      },
      "execution_count": 90,
      "outputs": []
    },
    {
      "cell_type": "code",
      "source": [
        "model1_score"
      ],
      "metadata": {
        "colab": {
          "base_uri": "https://localhost:8080/"
        },
        "id": "mOgYJuJla1ea",
        "outputId": "247904ef-1a54-4238-fb6c-e8d2972ddba8"
      },
      "execution_count": 91,
      "outputs": [
        {
          "output_type": "execute_result",
          "data": {
            "text/plain": [
              "0.6962399877516714"
            ]
          },
          "metadata": {},
          "execution_count": 91
        }
      ]
    },
    {
      "cell_type": "markdown",
      "source": [
        "**Lasso**"
      ],
      "metadata": {
        "id": "5QqSqCHPZmjU"
      }
    },
    {
      "cell_type": "code",
      "source": [
        "from sklearn import linear_model\n",
        "model2 = linear_model.Lasso(alpha=0.1)\n",
        "model2.fit(xtrain,ytrain)"
      ],
      "metadata": {
        "colab": {
          "base_uri": "https://localhost:8080/",
          "height": 74
        },
        "id": "FScyv-q5ZlGV",
        "outputId": "78b4bde4-d9fb-41a7-ddd3-5db1e9964e1d"
      },
      "execution_count": 92,
      "outputs": [
        {
          "output_type": "execute_result",
          "data": {
            "text/plain": [
              "Lasso(alpha=0.1)"
            ],
            "text/html": [
              "<style>#sk-container-id-7 {color: black;background-color: white;}#sk-container-id-7 pre{padding: 0;}#sk-container-id-7 div.sk-toggleable {background-color: white;}#sk-container-id-7 label.sk-toggleable__label {cursor: pointer;display: block;width: 100%;margin-bottom: 0;padding: 0.3em;box-sizing: border-box;text-align: center;}#sk-container-id-7 label.sk-toggleable__label-arrow:before {content: \"▸\";float: left;margin-right: 0.25em;color: #696969;}#sk-container-id-7 label.sk-toggleable__label-arrow:hover:before {color: black;}#sk-container-id-7 div.sk-estimator:hover label.sk-toggleable__label-arrow:before {color: black;}#sk-container-id-7 div.sk-toggleable__content {max-height: 0;max-width: 0;overflow: hidden;text-align: left;background-color: #f0f8ff;}#sk-container-id-7 div.sk-toggleable__content pre {margin: 0.2em;color: black;border-radius: 0.25em;background-color: #f0f8ff;}#sk-container-id-7 input.sk-toggleable__control:checked~div.sk-toggleable__content {max-height: 200px;max-width: 100%;overflow: auto;}#sk-container-id-7 input.sk-toggleable__control:checked~label.sk-toggleable__label-arrow:before {content: \"▾\";}#sk-container-id-7 div.sk-estimator input.sk-toggleable__control:checked~label.sk-toggleable__label {background-color: #d4ebff;}#sk-container-id-7 div.sk-label input.sk-toggleable__control:checked~label.sk-toggleable__label {background-color: #d4ebff;}#sk-container-id-7 input.sk-hidden--visually {border: 0;clip: rect(1px 1px 1px 1px);clip: rect(1px, 1px, 1px, 1px);height: 1px;margin: -1px;overflow: hidden;padding: 0;position: absolute;width: 1px;}#sk-container-id-7 div.sk-estimator {font-family: monospace;background-color: #f0f8ff;border: 1px dotted black;border-radius: 0.25em;box-sizing: border-box;margin-bottom: 0.5em;}#sk-container-id-7 div.sk-estimator:hover {background-color: #d4ebff;}#sk-container-id-7 div.sk-parallel-item::after {content: \"\";width: 100%;border-bottom: 1px solid gray;flex-grow: 1;}#sk-container-id-7 div.sk-label:hover label.sk-toggleable__label {background-color: #d4ebff;}#sk-container-id-7 div.sk-serial::before {content: \"\";position: absolute;border-left: 1px solid gray;box-sizing: border-box;top: 0;bottom: 0;left: 50%;z-index: 0;}#sk-container-id-7 div.sk-serial {display: flex;flex-direction: column;align-items: center;background-color: white;padding-right: 0.2em;padding-left: 0.2em;position: relative;}#sk-container-id-7 div.sk-item {position: relative;z-index: 1;}#sk-container-id-7 div.sk-parallel {display: flex;align-items: stretch;justify-content: center;background-color: white;position: relative;}#sk-container-id-7 div.sk-item::before, #sk-container-id-7 div.sk-parallel-item::before {content: \"\";position: absolute;border-left: 1px solid gray;box-sizing: border-box;top: 0;bottom: 0;left: 50%;z-index: -1;}#sk-container-id-7 div.sk-parallel-item {display: flex;flex-direction: column;z-index: 1;position: relative;background-color: white;}#sk-container-id-7 div.sk-parallel-item:first-child::after {align-self: flex-end;width: 50%;}#sk-container-id-7 div.sk-parallel-item:last-child::after {align-self: flex-start;width: 50%;}#sk-container-id-7 div.sk-parallel-item:only-child::after {width: 0;}#sk-container-id-7 div.sk-dashed-wrapped {border: 1px dashed gray;margin: 0 0.4em 0.5em 0.4em;box-sizing: border-box;padding-bottom: 0.4em;background-color: white;}#sk-container-id-7 div.sk-label label {font-family: monospace;font-weight: bold;display: inline-block;line-height: 1.2em;}#sk-container-id-7 div.sk-label-container {text-align: center;}#sk-container-id-7 div.sk-container {/* jupyter's `normalize.less` sets `[hidden] { display: none; }` but bootstrap.min.css set `[hidden] { display: none !important; }` so we also need the `!important` here to be able to override the default hidden behavior on the sphinx rendered scikit-learn.org. See: https://github.com/scikit-learn/scikit-learn/issues/21755 */display: inline-block !important;position: relative;}#sk-container-id-7 div.sk-text-repr-fallback {display: none;}</style><div id=\"sk-container-id-7\" class=\"sk-top-container\"><div class=\"sk-text-repr-fallback\"><pre>Lasso(alpha=0.1)</pre><b>In a Jupyter environment, please rerun this cell to show the HTML representation or trust the notebook. <br />On GitHub, the HTML representation is unable to render, please try loading this page with nbviewer.org.</b></div><div class=\"sk-container\" hidden><div class=\"sk-item\"><div class=\"sk-estimator sk-toggleable\"><input class=\"sk-toggleable__control sk-hidden--visually\" id=\"sk-estimator-id-13\" type=\"checkbox\" checked><label for=\"sk-estimator-id-13\" class=\"sk-toggleable__label sk-toggleable__label-arrow\">Lasso</label><div class=\"sk-toggleable__content\"><pre>Lasso(alpha=0.1)</pre></div></div></div></div></div>"
            ]
          },
          "metadata": {},
          "execution_count": 92
        }
      ]
    },
    {
      "cell_type": "code",
      "source": [
        "model2_score=model2.score(xtest,ytest)"
      ],
      "metadata": {
        "id": "0g5-X2yEZ4DD"
      },
      "execution_count": 93,
      "outputs": []
    },
    {
      "cell_type": "markdown",
      "source": [
        "**elastic net**"
      ],
      "metadata": {
        "id": "ebB7cPu6aM25"
      }
    },
    {
      "cell_type": "code",
      "source": [
        "from sklearn.linear_model import ElasticNet\n",
        "model3= ElasticNet(alpha=0.1)\n",
        "model3.fit(xtrain,ytrain)"
      ],
      "metadata": {
        "colab": {
          "base_uri": "https://localhost:8080/",
          "height": 74
        },
        "id": "PUQk3E0yZ8Fr",
        "outputId": "b5f3ff1f-f07d-4d35-f95b-63d01fe83858"
      },
      "execution_count": 94,
      "outputs": [
        {
          "output_type": "execute_result",
          "data": {
            "text/plain": [
              "ElasticNet(alpha=0.1)"
            ],
            "text/html": [
              "<style>#sk-container-id-8 {color: black;background-color: white;}#sk-container-id-8 pre{padding: 0;}#sk-container-id-8 div.sk-toggleable {background-color: white;}#sk-container-id-8 label.sk-toggleable__label {cursor: pointer;display: block;width: 100%;margin-bottom: 0;padding: 0.3em;box-sizing: border-box;text-align: center;}#sk-container-id-8 label.sk-toggleable__label-arrow:before {content: \"▸\";float: left;margin-right: 0.25em;color: #696969;}#sk-container-id-8 label.sk-toggleable__label-arrow:hover:before {color: black;}#sk-container-id-8 div.sk-estimator:hover label.sk-toggleable__label-arrow:before {color: black;}#sk-container-id-8 div.sk-toggleable__content {max-height: 0;max-width: 0;overflow: hidden;text-align: left;background-color: #f0f8ff;}#sk-container-id-8 div.sk-toggleable__content pre {margin: 0.2em;color: black;border-radius: 0.25em;background-color: #f0f8ff;}#sk-container-id-8 input.sk-toggleable__control:checked~div.sk-toggleable__content {max-height: 200px;max-width: 100%;overflow: auto;}#sk-container-id-8 input.sk-toggleable__control:checked~label.sk-toggleable__label-arrow:before {content: \"▾\";}#sk-container-id-8 div.sk-estimator input.sk-toggleable__control:checked~label.sk-toggleable__label {background-color: #d4ebff;}#sk-container-id-8 div.sk-label input.sk-toggleable__control:checked~label.sk-toggleable__label {background-color: #d4ebff;}#sk-container-id-8 input.sk-hidden--visually {border: 0;clip: rect(1px 1px 1px 1px);clip: rect(1px, 1px, 1px, 1px);height: 1px;margin: -1px;overflow: hidden;padding: 0;position: absolute;width: 1px;}#sk-container-id-8 div.sk-estimator {font-family: monospace;background-color: #f0f8ff;border: 1px dotted black;border-radius: 0.25em;box-sizing: border-box;margin-bottom: 0.5em;}#sk-container-id-8 div.sk-estimator:hover {background-color: #d4ebff;}#sk-container-id-8 div.sk-parallel-item::after {content: \"\";width: 100%;border-bottom: 1px solid gray;flex-grow: 1;}#sk-container-id-8 div.sk-label:hover label.sk-toggleable__label {background-color: #d4ebff;}#sk-container-id-8 div.sk-serial::before {content: \"\";position: absolute;border-left: 1px solid gray;box-sizing: border-box;top: 0;bottom: 0;left: 50%;z-index: 0;}#sk-container-id-8 div.sk-serial {display: flex;flex-direction: column;align-items: center;background-color: white;padding-right: 0.2em;padding-left: 0.2em;position: relative;}#sk-container-id-8 div.sk-item {position: relative;z-index: 1;}#sk-container-id-8 div.sk-parallel {display: flex;align-items: stretch;justify-content: center;background-color: white;position: relative;}#sk-container-id-8 div.sk-item::before, #sk-container-id-8 div.sk-parallel-item::before {content: \"\";position: absolute;border-left: 1px solid gray;box-sizing: border-box;top: 0;bottom: 0;left: 50%;z-index: -1;}#sk-container-id-8 div.sk-parallel-item {display: flex;flex-direction: column;z-index: 1;position: relative;background-color: white;}#sk-container-id-8 div.sk-parallel-item:first-child::after {align-self: flex-end;width: 50%;}#sk-container-id-8 div.sk-parallel-item:last-child::after {align-self: flex-start;width: 50%;}#sk-container-id-8 div.sk-parallel-item:only-child::after {width: 0;}#sk-container-id-8 div.sk-dashed-wrapped {border: 1px dashed gray;margin: 0 0.4em 0.5em 0.4em;box-sizing: border-box;padding-bottom: 0.4em;background-color: white;}#sk-container-id-8 div.sk-label label {font-family: monospace;font-weight: bold;display: inline-block;line-height: 1.2em;}#sk-container-id-8 div.sk-label-container {text-align: center;}#sk-container-id-8 div.sk-container {/* jupyter's `normalize.less` sets `[hidden] { display: none; }` but bootstrap.min.css set `[hidden] { display: none !important; }` so we also need the `!important` here to be able to override the default hidden behavior on the sphinx rendered scikit-learn.org. See: https://github.com/scikit-learn/scikit-learn/issues/21755 */display: inline-block !important;position: relative;}#sk-container-id-8 div.sk-text-repr-fallback {display: none;}</style><div id=\"sk-container-id-8\" class=\"sk-top-container\"><div class=\"sk-text-repr-fallback\"><pre>ElasticNet(alpha=0.1)</pre><b>In a Jupyter environment, please rerun this cell to show the HTML representation or trust the notebook. <br />On GitHub, the HTML representation is unable to render, please try loading this page with nbviewer.org.</b></div><div class=\"sk-container\" hidden><div class=\"sk-item\"><div class=\"sk-estimator sk-toggleable\"><input class=\"sk-toggleable__control sk-hidden--visually\" id=\"sk-estimator-id-14\" type=\"checkbox\" checked><label for=\"sk-estimator-id-14\" class=\"sk-toggleable__label sk-toggleable__label-arrow\">ElasticNet</label><div class=\"sk-toggleable__content\"><pre>ElasticNet(alpha=0.1)</pre></div></div></div></div></div>"
            ]
          },
          "metadata": {},
          "execution_count": 94
        }
      ]
    },
    {
      "cell_type": "code",
      "source": [
        "model3_score=model3.score(xtest,ytest)"
      ],
      "metadata": {
        "id": "_8PRw0WlaSO0"
      },
      "execution_count": 95,
      "outputs": []
    },
    {
      "cell_type": "markdown",
      "source": [
        "**random Forest Regressor**"
      ],
      "metadata": {
        "id": "wmecpBuiaV-q"
      }
    },
    {
      "cell_type": "code",
      "source": [
        "from sklearn.ensemble import RandomForestRegressor\n",
        "model4=RandomForestRegressor()\n",
        "model4.fit(xtrain,ytrain)"
      ],
      "metadata": {
        "colab": {
          "base_uri": "https://localhost:8080/",
          "height": 74
        },
        "id": "scMGl8Y_aa_G",
        "outputId": "07b8b843-4429-458f-8ea4-9196fd372ef0"
      },
      "execution_count": 96,
      "outputs": [
        {
          "output_type": "execute_result",
          "data": {
            "text/plain": [
              "RandomForestRegressor()"
            ],
            "text/html": [
              "<style>#sk-container-id-9 {color: black;background-color: white;}#sk-container-id-9 pre{padding: 0;}#sk-container-id-9 div.sk-toggleable {background-color: white;}#sk-container-id-9 label.sk-toggleable__label {cursor: pointer;display: block;width: 100%;margin-bottom: 0;padding: 0.3em;box-sizing: border-box;text-align: center;}#sk-container-id-9 label.sk-toggleable__label-arrow:before {content: \"▸\";float: left;margin-right: 0.25em;color: #696969;}#sk-container-id-9 label.sk-toggleable__label-arrow:hover:before {color: black;}#sk-container-id-9 div.sk-estimator:hover label.sk-toggleable__label-arrow:before {color: black;}#sk-container-id-9 div.sk-toggleable__content {max-height: 0;max-width: 0;overflow: hidden;text-align: left;background-color: #f0f8ff;}#sk-container-id-9 div.sk-toggleable__content pre {margin: 0.2em;color: black;border-radius: 0.25em;background-color: #f0f8ff;}#sk-container-id-9 input.sk-toggleable__control:checked~div.sk-toggleable__content {max-height: 200px;max-width: 100%;overflow: auto;}#sk-container-id-9 input.sk-toggleable__control:checked~label.sk-toggleable__label-arrow:before {content: \"▾\";}#sk-container-id-9 div.sk-estimator input.sk-toggleable__control:checked~label.sk-toggleable__label {background-color: #d4ebff;}#sk-container-id-9 div.sk-label input.sk-toggleable__control:checked~label.sk-toggleable__label {background-color: #d4ebff;}#sk-container-id-9 input.sk-hidden--visually {border: 0;clip: rect(1px 1px 1px 1px);clip: rect(1px, 1px, 1px, 1px);height: 1px;margin: -1px;overflow: hidden;padding: 0;position: absolute;width: 1px;}#sk-container-id-9 div.sk-estimator {font-family: monospace;background-color: #f0f8ff;border: 1px dotted black;border-radius: 0.25em;box-sizing: border-box;margin-bottom: 0.5em;}#sk-container-id-9 div.sk-estimator:hover {background-color: #d4ebff;}#sk-container-id-9 div.sk-parallel-item::after {content: \"\";width: 100%;border-bottom: 1px solid gray;flex-grow: 1;}#sk-container-id-9 div.sk-label:hover label.sk-toggleable__label {background-color: #d4ebff;}#sk-container-id-9 div.sk-serial::before {content: \"\";position: absolute;border-left: 1px solid gray;box-sizing: border-box;top: 0;bottom: 0;left: 50%;z-index: 0;}#sk-container-id-9 div.sk-serial {display: flex;flex-direction: column;align-items: center;background-color: white;padding-right: 0.2em;padding-left: 0.2em;position: relative;}#sk-container-id-9 div.sk-item {position: relative;z-index: 1;}#sk-container-id-9 div.sk-parallel {display: flex;align-items: stretch;justify-content: center;background-color: white;position: relative;}#sk-container-id-9 div.sk-item::before, #sk-container-id-9 div.sk-parallel-item::before {content: \"\";position: absolute;border-left: 1px solid gray;box-sizing: border-box;top: 0;bottom: 0;left: 50%;z-index: -1;}#sk-container-id-9 div.sk-parallel-item {display: flex;flex-direction: column;z-index: 1;position: relative;background-color: white;}#sk-container-id-9 div.sk-parallel-item:first-child::after {align-self: flex-end;width: 50%;}#sk-container-id-9 div.sk-parallel-item:last-child::after {align-self: flex-start;width: 50%;}#sk-container-id-9 div.sk-parallel-item:only-child::after {width: 0;}#sk-container-id-9 div.sk-dashed-wrapped {border: 1px dashed gray;margin: 0 0.4em 0.5em 0.4em;box-sizing: border-box;padding-bottom: 0.4em;background-color: white;}#sk-container-id-9 div.sk-label label {font-family: monospace;font-weight: bold;display: inline-block;line-height: 1.2em;}#sk-container-id-9 div.sk-label-container {text-align: center;}#sk-container-id-9 div.sk-container {/* jupyter's `normalize.less` sets `[hidden] { display: none; }` but bootstrap.min.css set `[hidden] { display: none !important; }` so we also need the `!important` here to be able to override the default hidden behavior on the sphinx rendered scikit-learn.org. See: https://github.com/scikit-learn/scikit-learn/issues/21755 */display: inline-block !important;position: relative;}#sk-container-id-9 div.sk-text-repr-fallback {display: none;}</style><div id=\"sk-container-id-9\" class=\"sk-top-container\"><div class=\"sk-text-repr-fallback\"><pre>RandomForestRegressor()</pre><b>In a Jupyter environment, please rerun this cell to show the HTML representation or trust the notebook. <br />On GitHub, the HTML representation is unable to render, please try loading this page with nbviewer.org.</b></div><div class=\"sk-container\" hidden><div class=\"sk-item\"><div class=\"sk-estimator sk-toggleable\"><input class=\"sk-toggleable__control sk-hidden--visually\" id=\"sk-estimator-id-15\" type=\"checkbox\" checked><label for=\"sk-estimator-id-15\" class=\"sk-toggleable__label sk-toggleable__label-arrow\">RandomForestRegressor</label><div class=\"sk-toggleable__content\"><pre>RandomForestRegressor()</pre></div></div></div></div></div>"
            ]
          },
          "metadata": {},
          "execution_count": 96
        }
      ]
    },
    {
      "cell_type": "code",
      "source": [
        "model4_score=model4.score(xtest,ytest)"
      ],
      "metadata": {
        "id": "cpYYscJoafKE"
      },
      "execution_count": 97,
      "outputs": []
    },
    {
      "cell_type": "markdown",
      "source": [
        "**hyperparameter tuning of Random Forest using RandomizedSearchCV**"
      ],
      "metadata": {
        "id": "RDzrgHjNbD9u"
      }
    },
    {
      "cell_type": "code",
      "source": [
        "from sklearn.model_selection import GridSearchCV\n",
        "from sklearn.model_selection import RandomizedSearchCV"
      ],
      "metadata": {
        "id": "R3WiELZFbKjs"
      },
      "execution_count": 98,
      "outputs": []
    },
    {
      "cell_type": "code",
      "source": [
        "grid={'n_estimators':[10,20,30,40,50,60,70,80,90,100],\n",
        "'max_depth':[1,2,3,4,5,6,7,8,9,10],\n",
        "'min_samples_split':[2,3,4,5,6,7,8,9,10],\n",
        "'min_samples_leaf':[1,2,3,4,5,6,7,8,9,10],\n",
        "'max_features':['auto','sqrt','log2']}"
      ],
      "metadata": {
        "id": "3QHbq6rtb8Oj"
      },
      "execution_count": 100,
      "outputs": []
    },
    {
      "cell_type": "code",
      "source": [
        "ee=RandomizedSearchCV(estimator=model4,param_distributions=grid,n_iter=100,cv=5,verbose=2)"
      ],
      "metadata": {
        "id": "CPOoNVKictZA"
      },
      "execution_count": 110,
      "outputs": []
    },
    {
      "cell_type": "code",
      "source": [
        "ee.fit(xtrain,ytrain)"
      ],
      "metadata": {
        "colab": {
          "base_uri": "https://localhost:8080/",
          "height": 1000
        },
        "id": "XWcRweKKc6qe",
        "outputId": "a6bee5de-8cf6-40c3-b5c8-2fb96825cbd5"
      },
      "execution_count": 111,
      "outputs": [
        {
          "output_type": "stream",
          "name": "stdout",
          "text": [
            "Fitting 5 folds for each of 100 candidates, totalling 500 fits\n",
            "[CV] END max_depth=9, max_features=sqrt, min_samples_leaf=6, min_samples_split=9, n_estimators=20; total time=   0.0s\n",
            "[CV] END max_depth=9, max_features=sqrt, min_samples_leaf=6, min_samples_split=9, n_estimators=20; total time=   0.0s\n",
            "[CV] END max_depth=9, max_features=sqrt, min_samples_leaf=6, min_samples_split=9, n_estimators=20; total time=   0.0s\n",
            "[CV] END max_depth=9, max_features=sqrt, min_samples_leaf=6, min_samples_split=9, n_estimators=20; total time=   0.0s\n",
            "[CV] END max_depth=9, max_features=sqrt, min_samples_leaf=6, min_samples_split=9, n_estimators=20; total time=   0.0s\n",
            "[CV] END max_depth=1, max_features=sqrt, min_samples_leaf=3, min_samples_split=10, n_estimators=80; total time=   0.1s\n",
            "[CV] END max_depth=1, max_features=sqrt, min_samples_leaf=3, min_samples_split=10, n_estimators=80; total time=   0.1s\n",
            "[CV] END max_depth=1, max_features=sqrt, min_samples_leaf=3, min_samples_split=10, n_estimators=80; total time=   0.1s\n",
            "[CV] END max_depth=1, max_features=sqrt, min_samples_leaf=3, min_samples_split=10, n_estimators=80; total time=   0.1s\n",
            "[CV] END max_depth=1, max_features=sqrt, min_samples_leaf=3, min_samples_split=10, n_estimators=80; total time=   0.1s\n",
            "[CV] END max_depth=10, max_features=log2, min_samples_leaf=2, min_samples_split=3, n_estimators=60; total time=   0.1s\n",
            "[CV] END max_depth=10, max_features=log2, min_samples_leaf=2, min_samples_split=3, n_estimators=60; total time=   0.1s\n",
            "[CV] END max_depth=10, max_features=log2, min_samples_leaf=2, min_samples_split=3, n_estimators=60; total time=   0.1s\n",
            "[CV] END max_depth=10, max_features=log2, min_samples_leaf=2, min_samples_split=3, n_estimators=60; total time=   0.1s\n",
            "[CV] END max_depth=10, max_features=log2, min_samples_leaf=2, min_samples_split=3, n_estimators=60; total time=   0.1s\n",
            "[CV] END max_depth=7, max_features=log2, min_samples_leaf=9, min_samples_split=9, n_estimators=20; total time=   0.0s\n",
            "[CV] END max_depth=7, max_features=log2, min_samples_leaf=9, min_samples_split=9, n_estimators=20; total time=   0.0s\n",
            "[CV] END max_depth=7, max_features=log2, min_samples_leaf=9, min_samples_split=9, n_estimators=20; total time=   0.0s\n",
            "[CV] END max_depth=7, max_features=log2, min_samples_leaf=9, min_samples_split=9, n_estimators=20; total time=   0.0s\n",
            "[CV] END max_depth=7, max_features=log2, min_samples_leaf=9, min_samples_split=9, n_estimators=20; total time=   0.0s\n",
            "[CV] END max_depth=9, max_features=sqrt, min_samples_leaf=5, min_samples_split=2, n_estimators=20; total time=   0.0s\n",
            "[CV] END max_depth=9, max_features=sqrt, min_samples_leaf=5, min_samples_split=2, n_estimators=20; total time=   0.0s\n",
            "[CV] END max_depth=9, max_features=sqrt, min_samples_leaf=5, min_samples_split=2, n_estimators=20; total time=   0.0s\n",
            "[CV] END max_depth=9, max_features=sqrt, min_samples_leaf=5, min_samples_split=2, n_estimators=20; total time=   0.1s\n",
            "[CV] END max_depth=9, max_features=sqrt, min_samples_leaf=5, min_samples_split=2, n_estimators=20; total time=   0.1s\n"
          ]
        },
        {
          "output_type": "stream",
          "name": "stderr",
          "text": [
            "/usr/local/lib/python3.10/dist-packages/sklearn/ensemble/_forest.py:413: FutureWarning: `max_features='auto'` has been deprecated in 1.1 and will be removed in 1.3. To keep the past behaviour, explicitly set `max_features=1.0` or remove this parameter as it is also the default value for RandomForestRegressors and ExtraTreesRegressors.\n",
            "  warn(\n",
            "/usr/local/lib/python3.10/dist-packages/sklearn/ensemble/_forest.py:413: FutureWarning: `max_features='auto'` has been deprecated in 1.1 and will be removed in 1.3. To keep the past behaviour, explicitly set `max_features=1.0` or remove this parameter as it is also the default value for RandomForestRegressors and ExtraTreesRegressors.\n",
            "  warn(\n"
          ]
        },
        {
          "output_type": "stream",
          "name": "stdout",
          "text": [
            "[CV] END max_depth=9, max_features=auto, min_samples_leaf=3, min_samples_split=5, n_estimators=30; total time=   0.1s\n",
            "[CV] END max_depth=9, max_features=auto, min_samples_leaf=3, min_samples_split=5, n_estimators=30; total time=   0.1s\n"
          ]
        },
        {
          "output_type": "stream",
          "name": "stderr",
          "text": [
            "/usr/local/lib/python3.10/dist-packages/sklearn/ensemble/_forest.py:413: FutureWarning: `max_features='auto'` has been deprecated in 1.1 and will be removed in 1.3. To keep the past behaviour, explicitly set `max_features=1.0` or remove this parameter as it is also the default value for RandomForestRegressors and ExtraTreesRegressors.\n",
            "  warn(\n",
            "/usr/local/lib/python3.10/dist-packages/sklearn/ensemble/_forest.py:413: FutureWarning: `max_features='auto'` has been deprecated in 1.1 and will be removed in 1.3. To keep the past behaviour, explicitly set `max_features=1.0` or remove this parameter as it is also the default value for RandomForestRegressors and ExtraTreesRegressors.\n",
            "  warn(\n",
            "/usr/local/lib/python3.10/dist-packages/sklearn/ensemble/_forest.py:413: FutureWarning: `max_features='auto'` has been deprecated in 1.1 and will be removed in 1.3. To keep the past behaviour, explicitly set `max_features=1.0` or remove this parameter as it is also the default value for RandomForestRegressors and ExtraTreesRegressors.\n",
            "  warn(\n"
          ]
        },
        {
          "output_type": "stream",
          "name": "stdout",
          "text": [
            "[CV] END max_depth=9, max_features=auto, min_samples_leaf=3, min_samples_split=5, n_estimators=30; total time=   0.1s\n",
            "[CV] END max_depth=9, max_features=auto, min_samples_leaf=3, min_samples_split=5, n_estimators=30; total time=   0.1s\n",
            "[CV] END max_depth=9, max_features=auto, min_samples_leaf=3, min_samples_split=5, n_estimators=30; total time=   0.1s\n",
            "[CV] END max_depth=3, max_features=log2, min_samples_leaf=10, min_samples_split=7, n_estimators=70; total time=   0.2s\n",
            "[CV] END max_depth=3, max_features=log2, min_samples_leaf=10, min_samples_split=7, n_estimators=70; total time=   0.2s\n",
            "[CV] END max_depth=3, max_features=log2, min_samples_leaf=10, min_samples_split=7, n_estimators=70; total time=   0.2s\n",
            "[CV] END max_depth=3, max_features=log2, min_samples_leaf=10, min_samples_split=7, n_estimators=70; total time=   0.2s\n",
            "[CV] END max_depth=3, max_features=log2, min_samples_leaf=10, min_samples_split=7, n_estimators=70; total time=   0.1s\n",
            "[CV] END max_depth=10, max_features=sqrt, min_samples_leaf=8, min_samples_split=5, n_estimators=10; total time=   0.0s\n",
            "[CV] END max_depth=10, max_features=sqrt, min_samples_leaf=8, min_samples_split=5, n_estimators=10; total time=   0.0s\n",
            "[CV] END max_depth=10, max_features=sqrt, min_samples_leaf=8, min_samples_split=5, n_estimators=10; total time=   0.0s\n",
            "[CV] END max_depth=10, max_features=sqrt, min_samples_leaf=8, min_samples_split=5, n_estimators=10; total time=   0.0s\n",
            "[CV] END max_depth=10, max_features=sqrt, min_samples_leaf=8, min_samples_split=5, n_estimators=10; total time=   0.0s\n"
          ]
        },
        {
          "output_type": "stream",
          "name": "stderr",
          "text": [
            "/usr/local/lib/python3.10/dist-packages/sklearn/ensemble/_forest.py:413: FutureWarning: `max_features='auto'` has been deprecated in 1.1 and will be removed in 1.3. To keep the past behaviour, explicitly set `max_features=1.0` or remove this parameter as it is also the default value for RandomForestRegressors and ExtraTreesRegressors.\n",
            "  warn(\n",
            "/usr/local/lib/python3.10/dist-packages/sklearn/ensemble/_forest.py:413: FutureWarning: `max_features='auto'` has been deprecated in 1.1 and will be removed in 1.3. To keep the past behaviour, explicitly set `max_features=1.0` or remove this parameter as it is also the default value for RandomForestRegressors and ExtraTreesRegressors.\n",
            "  warn(\n"
          ]
        },
        {
          "output_type": "stream",
          "name": "stdout",
          "text": [
            "[CV] END max_depth=7, max_features=auto, min_samples_leaf=2, min_samples_split=2, n_estimators=40; total time=   0.1s\n",
            "[CV] END max_depth=7, max_features=auto, min_samples_leaf=2, min_samples_split=2, n_estimators=40; total time=   0.1s\n"
          ]
        },
        {
          "output_type": "stream",
          "name": "stderr",
          "text": [
            "/usr/local/lib/python3.10/dist-packages/sklearn/ensemble/_forest.py:413: FutureWarning: `max_features='auto'` has been deprecated in 1.1 and will be removed in 1.3. To keep the past behaviour, explicitly set `max_features=1.0` or remove this parameter as it is also the default value for RandomForestRegressors and ExtraTreesRegressors.\n",
            "  warn(\n",
            "/usr/local/lib/python3.10/dist-packages/sklearn/ensemble/_forest.py:413: FutureWarning: `max_features='auto'` has been deprecated in 1.1 and will be removed in 1.3. To keep the past behaviour, explicitly set `max_features=1.0` or remove this parameter as it is also the default value for RandomForestRegressors and ExtraTreesRegressors.\n",
            "  warn(\n"
          ]
        },
        {
          "output_type": "stream",
          "name": "stdout",
          "text": [
            "[CV] END max_depth=7, max_features=auto, min_samples_leaf=2, min_samples_split=2, n_estimators=40; total time=   0.1s\n",
            "[CV] END max_depth=7, max_features=auto, min_samples_leaf=2, min_samples_split=2, n_estimators=40; total time=   0.1s\n"
          ]
        },
        {
          "output_type": "stream",
          "name": "stderr",
          "text": [
            "/usr/local/lib/python3.10/dist-packages/sklearn/ensemble/_forest.py:413: FutureWarning: `max_features='auto'` has been deprecated in 1.1 and will be removed in 1.3. To keep the past behaviour, explicitly set `max_features=1.0` or remove this parameter as it is also the default value for RandomForestRegressors and ExtraTreesRegressors.\n",
            "  warn(\n",
            "/usr/local/lib/python3.10/dist-packages/sklearn/ensemble/_forest.py:413: FutureWarning: `max_features='auto'` has been deprecated in 1.1 and will be removed in 1.3. To keep the past behaviour, explicitly set `max_features=1.0` or remove this parameter as it is also the default value for RandomForestRegressors and ExtraTreesRegressors.\n",
            "  warn(\n"
          ]
        },
        {
          "output_type": "stream",
          "name": "stdout",
          "text": [
            "[CV] END max_depth=7, max_features=auto, min_samples_leaf=2, min_samples_split=2, n_estimators=40; total time=   0.1s\n",
            "[CV] END max_depth=4, max_features=auto, min_samples_leaf=9, min_samples_split=4, n_estimators=50; total time=   0.1s\n"
          ]
        },
        {
          "output_type": "stream",
          "name": "stderr",
          "text": [
            "/usr/local/lib/python3.10/dist-packages/sklearn/ensemble/_forest.py:413: FutureWarning: `max_features='auto'` has been deprecated in 1.1 and will be removed in 1.3. To keep the past behaviour, explicitly set `max_features=1.0` or remove this parameter as it is also the default value for RandomForestRegressors and ExtraTreesRegressors.\n",
            "  warn(\n",
            "/usr/local/lib/python3.10/dist-packages/sklearn/ensemble/_forest.py:413: FutureWarning: `max_features='auto'` has been deprecated in 1.1 and will be removed in 1.3. To keep the past behaviour, explicitly set `max_features=1.0` or remove this parameter as it is also the default value for RandomForestRegressors and ExtraTreesRegressors.\n",
            "  warn(\n"
          ]
        },
        {
          "output_type": "stream",
          "name": "stdout",
          "text": [
            "[CV] END max_depth=4, max_features=auto, min_samples_leaf=9, min_samples_split=4, n_estimators=50; total time=   0.1s\n",
            "[CV] END max_depth=4, max_features=auto, min_samples_leaf=9, min_samples_split=4, n_estimators=50; total time=   0.2s\n"
          ]
        },
        {
          "output_type": "stream",
          "name": "stderr",
          "text": [
            "/usr/local/lib/python3.10/dist-packages/sklearn/ensemble/_forest.py:413: FutureWarning: `max_features='auto'` has been deprecated in 1.1 and will be removed in 1.3. To keep the past behaviour, explicitly set `max_features=1.0` or remove this parameter as it is also the default value for RandomForestRegressors and ExtraTreesRegressors.\n",
            "  warn(\n",
            "/usr/local/lib/python3.10/dist-packages/sklearn/ensemble/_forest.py:413: FutureWarning: `max_features='auto'` has been deprecated in 1.1 and will be removed in 1.3. To keep the past behaviour, explicitly set `max_features=1.0` or remove this parameter as it is also the default value for RandomForestRegressors and ExtraTreesRegressors.\n",
            "  warn(\n"
          ]
        },
        {
          "output_type": "stream",
          "name": "stdout",
          "text": [
            "[CV] END max_depth=4, max_features=auto, min_samples_leaf=9, min_samples_split=4, n_estimators=50; total time=   0.2s\n",
            "[CV] END max_depth=4, max_features=auto, min_samples_leaf=9, min_samples_split=4, n_estimators=50; total time=   0.1s\n"
          ]
        },
        {
          "output_type": "stream",
          "name": "stderr",
          "text": [
            "/usr/local/lib/python3.10/dist-packages/sklearn/ensemble/_forest.py:413: FutureWarning: `max_features='auto'` has been deprecated in 1.1 and will be removed in 1.3. To keep the past behaviour, explicitly set `max_features=1.0` or remove this parameter as it is also the default value for RandomForestRegressors and ExtraTreesRegressors.\n",
            "  warn(\n",
            "/usr/local/lib/python3.10/dist-packages/sklearn/ensemble/_forest.py:413: FutureWarning: `max_features='auto'` has been deprecated in 1.1 and will be removed in 1.3. To keep the past behaviour, explicitly set `max_features=1.0` or remove this parameter as it is also the default value for RandomForestRegressors and ExtraTreesRegressors.\n",
            "  warn(\n",
            "/usr/local/lib/python3.10/dist-packages/sklearn/ensemble/_forest.py:413: FutureWarning: `max_features='auto'` has been deprecated in 1.1 and will be removed in 1.3. To keep the past behaviour, explicitly set `max_features=1.0` or remove this parameter as it is also the default value for RandomForestRegressors and ExtraTreesRegressors.\n",
            "  warn(\n"
          ]
        },
        {
          "output_type": "stream",
          "name": "stdout",
          "text": [
            "[CV] END max_depth=1, max_features=auto, min_samples_leaf=1, min_samples_split=10, n_estimators=30; total time=   0.1s\n",
            "[CV] END max_depth=1, max_features=auto, min_samples_leaf=1, min_samples_split=10, n_estimators=30; total time=   0.1s\n",
            "[CV] END max_depth=1, max_features=auto, min_samples_leaf=1, min_samples_split=10, n_estimators=30; total time=   0.1s\n",
            "[CV] END max_depth=1, max_features=auto, min_samples_leaf=1, min_samples_split=10, n_estimators=30; total time=   0.1s\n"
          ]
        },
        {
          "output_type": "stream",
          "name": "stderr",
          "text": [
            "/usr/local/lib/python3.10/dist-packages/sklearn/ensemble/_forest.py:413: FutureWarning: `max_features='auto'` has been deprecated in 1.1 and will be removed in 1.3. To keep the past behaviour, explicitly set `max_features=1.0` or remove this parameter as it is also the default value for RandomForestRegressors and ExtraTreesRegressors.\n",
            "  warn(\n",
            "/usr/local/lib/python3.10/dist-packages/sklearn/ensemble/_forest.py:413: FutureWarning: `max_features='auto'` has been deprecated in 1.1 and will be removed in 1.3. To keep the past behaviour, explicitly set `max_features=1.0` or remove this parameter as it is also the default value for RandomForestRegressors and ExtraTreesRegressors.\n",
            "  warn(\n"
          ]
        },
        {
          "output_type": "stream",
          "name": "stdout",
          "text": [
            "[CV] END max_depth=1, max_features=auto, min_samples_leaf=1, min_samples_split=10, n_estimators=30; total time=   0.1s\n",
            "[CV] END max_depth=3, max_features=sqrt, min_samples_leaf=3, min_samples_split=9, n_estimators=10; total time=   0.0s\n",
            "[CV] END max_depth=3, max_features=sqrt, min_samples_leaf=3, min_samples_split=9, n_estimators=10; total time=   0.0s\n",
            "[CV] END max_depth=3, max_features=sqrt, min_samples_leaf=3, min_samples_split=9, n_estimators=10; total time=   0.0s\n",
            "[CV] END max_depth=3, max_features=sqrt, min_samples_leaf=3, min_samples_split=9, n_estimators=10; total time=   0.0s\n",
            "[CV] END max_depth=3, max_features=sqrt, min_samples_leaf=3, min_samples_split=9, n_estimators=10; total time=   0.0s\n",
            "[CV] END max_depth=4, max_features=sqrt, min_samples_leaf=4, min_samples_split=9, n_estimators=10; total time=   0.0s\n",
            "[CV] END max_depth=4, max_features=sqrt, min_samples_leaf=4, min_samples_split=9, n_estimators=10; total time=   0.0s\n",
            "[CV] END max_depth=4, max_features=sqrt, min_samples_leaf=4, min_samples_split=9, n_estimators=10; total time=   0.0s\n",
            "[CV] END max_depth=4, max_features=sqrt, min_samples_leaf=4, min_samples_split=9, n_estimators=10; total time=   0.0s\n",
            "[CV] END max_depth=4, max_features=sqrt, min_samples_leaf=4, min_samples_split=9, n_estimators=10; total time=   0.0s\n",
            "[CV] END max_depth=9, max_features=sqrt, min_samples_leaf=8, min_samples_split=6, n_estimators=80; total time=   0.1s\n",
            "[CV] END max_depth=9, max_features=sqrt, min_samples_leaf=8, min_samples_split=6, n_estimators=80; total time=   0.1s\n",
            "[CV] END max_depth=9, max_features=sqrt, min_samples_leaf=8, min_samples_split=6, n_estimators=80; total time=   0.1s\n",
            "[CV] END max_depth=9, max_features=sqrt, min_samples_leaf=8, min_samples_split=6, n_estimators=80; total time=   0.1s\n",
            "[CV] END max_depth=9, max_features=sqrt, min_samples_leaf=8, min_samples_split=6, n_estimators=80; total time=   0.1s\n",
            "[CV] END max_depth=3, max_features=sqrt, min_samples_leaf=8, min_samples_split=3, n_estimators=60; total time=   0.1s\n",
            "[CV] END max_depth=3, max_features=sqrt, min_samples_leaf=8, min_samples_split=3, n_estimators=60; total time=   0.1s\n",
            "[CV] END max_depth=3, max_features=sqrt, min_samples_leaf=8, min_samples_split=3, n_estimators=60; total time=   0.1s\n",
            "[CV] END max_depth=3, max_features=sqrt, min_samples_leaf=8, min_samples_split=3, n_estimators=60; total time=   0.1s\n",
            "[CV] END max_depth=3, max_features=sqrt, min_samples_leaf=8, min_samples_split=3, n_estimators=60; total time=   0.1s\n",
            "[CV] END max_depth=1, max_features=log2, min_samples_leaf=7, min_samples_split=2, n_estimators=20; total time=   0.0s\n",
            "[CV] END max_depth=1, max_features=log2, min_samples_leaf=7, min_samples_split=2, n_estimators=20; total time=   0.0s\n",
            "[CV] END max_depth=1, max_features=log2, min_samples_leaf=7, min_samples_split=2, n_estimators=20; total time=   0.0s\n",
            "[CV] END max_depth=1, max_features=log2, min_samples_leaf=7, min_samples_split=2, n_estimators=20; total time=   0.0s\n",
            "[CV] END max_depth=1, max_features=log2, min_samples_leaf=7, min_samples_split=2, n_estimators=20; total time=   0.0s\n",
            "[CV] END max_depth=5, max_features=auto, min_samples_leaf=7, min_samples_split=3, n_estimators=20; total time=   0.0s\n"
          ]
        },
        {
          "output_type": "stream",
          "name": "stderr",
          "text": [
            "/usr/local/lib/python3.10/dist-packages/sklearn/ensemble/_forest.py:413: FutureWarning: `max_features='auto'` has been deprecated in 1.1 and will be removed in 1.3. To keep the past behaviour, explicitly set `max_features=1.0` or remove this parameter as it is also the default value for RandomForestRegressors and ExtraTreesRegressors.\n",
            "  warn(\n",
            "/usr/local/lib/python3.10/dist-packages/sklearn/ensemble/_forest.py:413: FutureWarning: `max_features='auto'` has been deprecated in 1.1 and will be removed in 1.3. To keep the past behaviour, explicitly set `max_features=1.0` or remove this parameter as it is also the default value for RandomForestRegressors and ExtraTreesRegressors.\n",
            "  warn(\n",
            "/usr/local/lib/python3.10/dist-packages/sklearn/ensemble/_forest.py:413: FutureWarning: `max_features='auto'` has been deprecated in 1.1 and will be removed in 1.3. To keep the past behaviour, explicitly set `max_features=1.0` or remove this parameter as it is also the default value for RandomForestRegressors and ExtraTreesRegressors.\n",
            "  warn(\n",
            "/usr/local/lib/python3.10/dist-packages/sklearn/ensemble/_forest.py:413: FutureWarning: `max_features='auto'` has been deprecated in 1.1 and will be removed in 1.3. To keep the past behaviour, explicitly set `max_features=1.0` or remove this parameter as it is also the default value for RandomForestRegressors and ExtraTreesRegressors.\n",
            "  warn(\n",
            "/usr/local/lib/python3.10/dist-packages/sklearn/ensemble/_forest.py:413: FutureWarning: `max_features='auto'` has been deprecated in 1.1 and will be removed in 1.3. To keep the past behaviour, explicitly set `max_features=1.0` or remove this parameter as it is also the default value for RandomForestRegressors and ExtraTreesRegressors.\n",
            "  warn(\n"
          ]
        },
        {
          "output_type": "stream",
          "name": "stdout",
          "text": [
            "[CV] END max_depth=5, max_features=auto, min_samples_leaf=7, min_samples_split=3, n_estimators=20; total time=   0.0s\n",
            "[CV] END max_depth=5, max_features=auto, min_samples_leaf=7, min_samples_split=3, n_estimators=20; total time=   0.0s\n",
            "[CV] END max_depth=5, max_features=auto, min_samples_leaf=7, min_samples_split=3, n_estimators=20; total time=   0.0s\n",
            "[CV] END max_depth=5, max_features=auto, min_samples_leaf=7, min_samples_split=3, n_estimators=20; total time=   0.0s\n",
            "[CV] END max_depth=7, max_features=auto, min_samples_leaf=3, min_samples_split=8, n_estimators=20; total time=   0.0s\n"
          ]
        },
        {
          "output_type": "stream",
          "name": "stderr",
          "text": [
            "/usr/local/lib/python3.10/dist-packages/sklearn/ensemble/_forest.py:413: FutureWarning: `max_features='auto'` has been deprecated in 1.1 and will be removed in 1.3. To keep the past behaviour, explicitly set `max_features=1.0` or remove this parameter as it is also the default value for RandomForestRegressors and ExtraTreesRegressors.\n",
            "  warn(\n",
            "/usr/local/lib/python3.10/dist-packages/sklearn/ensemble/_forest.py:413: FutureWarning: `max_features='auto'` has been deprecated in 1.1 and will be removed in 1.3. To keep the past behaviour, explicitly set `max_features=1.0` or remove this parameter as it is also the default value for RandomForestRegressors and ExtraTreesRegressors.\n",
            "  warn(\n",
            "/usr/local/lib/python3.10/dist-packages/sklearn/ensemble/_forest.py:413: FutureWarning: `max_features='auto'` has been deprecated in 1.1 and will be removed in 1.3. To keep the past behaviour, explicitly set `max_features=1.0` or remove this parameter as it is also the default value for RandomForestRegressors and ExtraTreesRegressors.\n",
            "  warn(\n",
            "/usr/local/lib/python3.10/dist-packages/sklearn/ensemble/_forest.py:413: FutureWarning: `max_features='auto'` has been deprecated in 1.1 and will be removed in 1.3. To keep the past behaviour, explicitly set `max_features=1.0` or remove this parameter as it is also the default value for RandomForestRegressors and ExtraTreesRegressors.\n",
            "  warn(\n",
            "/usr/local/lib/python3.10/dist-packages/sklearn/ensemble/_forest.py:413: FutureWarning: `max_features='auto'` has been deprecated in 1.1 and will be removed in 1.3. To keep the past behaviour, explicitly set `max_features=1.0` or remove this parameter as it is also the default value for RandomForestRegressors and ExtraTreesRegressors.\n",
            "  warn(\n"
          ]
        },
        {
          "output_type": "stream",
          "name": "stdout",
          "text": [
            "[CV] END max_depth=7, max_features=auto, min_samples_leaf=3, min_samples_split=8, n_estimators=20; total time=   0.0s\n",
            "[CV] END max_depth=7, max_features=auto, min_samples_leaf=3, min_samples_split=8, n_estimators=20; total time=   0.0s\n",
            "[CV] END max_depth=7, max_features=auto, min_samples_leaf=3, min_samples_split=8, n_estimators=20; total time=   0.0s\n",
            "[CV] END max_depth=7, max_features=auto, min_samples_leaf=3, min_samples_split=8, n_estimators=20; total time=   0.0s\n",
            "[CV] END max_depth=5, max_features=log2, min_samples_leaf=7, min_samples_split=10, n_estimators=40; total time=   0.1s\n",
            "[CV] END max_depth=5, max_features=log2, min_samples_leaf=7, min_samples_split=10, n_estimators=40; total time=   0.1s\n",
            "[CV] END max_depth=5, max_features=log2, min_samples_leaf=7, min_samples_split=10, n_estimators=40; total time=   0.1s\n",
            "[CV] END max_depth=5, max_features=log2, min_samples_leaf=7, min_samples_split=10, n_estimators=40; total time=   0.1s\n",
            "[CV] END max_depth=5, max_features=log2, min_samples_leaf=7, min_samples_split=10, n_estimators=40; total time=   0.1s\n",
            "[CV] END max_depth=10, max_features=sqrt, min_samples_leaf=1, min_samples_split=3, n_estimators=20; total time=   0.0s\n",
            "[CV] END max_depth=10, max_features=sqrt, min_samples_leaf=1, min_samples_split=3, n_estimators=20; total time=   0.0s\n",
            "[CV] END max_depth=10, max_features=sqrt, min_samples_leaf=1, min_samples_split=3, n_estimators=20; total time=   0.0s\n",
            "[CV] END max_depth=10, max_features=sqrt, min_samples_leaf=1, min_samples_split=3, n_estimators=20; total time=   0.0s\n",
            "[CV] END max_depth=10, max_features=sqrt, min_samples_leaf=1, min_samples_split=3, n_estimators=20; total time=   0.0s\n"
          ]
        },
        {
          "output_type": "stream",
          "name": "stderr",
          "text": [
            "/usr/local/lib/python3.10/dist-packages/sklearn/ensemble/_forest.py:413: FutureWarning: `max_features='auto'` has been deprecated in 1.1 and will be removed in 1.3. To keep the past behaviour, explicitly set `max_features=1.0` or remove this parameter as it is also the default value for RandomForestRegressors and ExtraTreesRegressors.\n",
            "  warn(\n",
            "/usr/local/lib/python3.10/dist-packages/sklearn/ensemble/_forest.py:413: FutureWarning: `max_features='auto'` has been deprecated in 1.1 and will be removed in 1.3. To keep the past behaviour, explicitly set `max_features=1.0` or remove this parameter as it is also the default value for RandomForestRegressors and ExtraTreesRegressors.\n",
            "  warn(\n",
            "/usr/local/lib/python3.10/dist-packages/sklearn/ensemble/_forest.py:413: FutureWarning: `max_features='auto'` has been deprecated in 1.1 and will be removed in 1.3. To keep the past behaviour, explicitly set `max_features=1.0` or remove this parameter as it is also the default value for RandomForestRegressors and ExtraTreesRegressors.\n",
            "  warn(\n",
            "/usr/local/lib/python3.10/dist-packages/sklearn/ensemble/_forest.py:413: FutureWarning: `max_features='auto'` has been deprecated in 1.1 and will be removed in 1.3. To keep the past behaviour, explicitly set `max_features=1.0` or remove this parameter as it is also the default value for RandomForestRegressors and ExtraTreesRegressors.\n",
            "  warn(\n"
          ]
        },
        {
          "output_type": "stream",
          "name": "stdout",
          "text": [
            "[CV] END max_depth=8, max_features=auto, min_samples_leaf=7, min_samples_split=2, n_estimators=30; total time=   0.1s\n",
            "[CV] END max_depth=8, max_features=auto, min_samples_leaf=7, min_samples_split=2, n_estimators=30; total time=   0.1s\n",
            "[CV] END max_depth=8, max_features=auto, min_samples_leaf=7, min_samples_split=2, n_estimators=30; total time=   0.1s\n",
            "[CV] END max_depth=8, max_features=auto, min_samples_leaf=7, min_samples_split=2, n_estimators=30; total time=   0.1s\n"
          ]
        },
        {
          "output_type": "stream",
          "name": "stderr",
          "text": [
            "/usr/local/lib/python3.10/dist-packages/sklearn/ensemble/_forest.py:413: FutureWarning: `max_features='auto'` has been deprecated in 1.1 and will be removed in 1.3. To keep the past behaviour, explicitly set `max_features=1.0` or remove this parameter as it is also the default value for RandomForestRegressors and ExtraTreesRegressors.\n",
            "  warn(\n",
            "/usr/local/lib/python3.10/dist-packages/sklearn/ensemble/_forest.py:413: FutureWarning: `max_features='auto'` has been deprecated in 1.1 and will be removed in 1.3. To keep the past behaviour, explicitly set `max_features=1.0` or remove this parameter as it is also the default value for RandomForestRegressors and ExtraTreesRegressors.\n",
            "  warn(\n",
            "/usr/local/lib/python3.10/dist-packages/sklearn/ensemble/_forest.py:413: FutureWarning: `max_features='auto'` has been deprecated in 1.1 and will be removed in 1.3. To keep the past behaviour, explicitly set `max_features=1.0` or remove this parameter as it is also the default value for RandomForestRegressors and ExtraTreesRegressors.\n",
            "  warn(\n",
            "/usr/local/lib/python3.10/dist-packages/sklearn/ensemble/_forest.py:413: FutureWarning: `max_features='auto'` has been deprecated in 1.1 and will be removed in 1.3. To keep the past behaviour, explicitly set `max_features=1.0` or remove this parameter as it is also the default value for RandomForestRegressors and ExtraTreesRegressors.\n",
            "  warn(\n",
            "/usr/local/lib/python3.10/dist-packages/sklearn/ensemble/_forest.py:413: FutureWarning: `max_features='auto'` has been deprecated in 1.1 and will be removed in 1.3. To keep the past behaviour, explicitly set `max_features=1.0` or remove this parameter as it is also the default value for RandomForestRegressors and ExtraTreesRegressors.\n",
            "  warn(\n"
          ]
        },
        {
          "output_type": "stream",
          "name": "stdout",
          "text": [
            "[CV] END max_depth=8, max_features=auto, min_samples_leaf=7, min_samples_split=2, n_estimators=30; total time=   0.1s\n",
            "[CV] END max_depth=5, max_features=auto, min_samples_leaf=4, min_samples_split=5, n_estimators=20; total time=   0.0s\n",
            "[CV] END max_depth=5, max_features=auto, min_samples_leaf=4, min_samples_split=5, n_estimators=20; total time=   0.0s\n",
            "[CV] END max_depth=5, max_features=auto, min_samples_leaf=4, min_samples_split=5, n_estimators=20; total time=   0.0s\n",
            "[CV] END max_depth=5, max_features=auto, min_samples_leaf=4, min_samples_split=5, n_estimators=20; total time=   0.0s\n"
          ]
        },
        {
          "output_type": "stream",
          "name": "stderr",
          "text": [
            "/usr/local/lib/python3.10/dist-packages/sklearn/ensemble/_forest.py:413: FutureWarning: `max_features='auto'` has been deprecated in 1.1 and will be removed in 1.3. To keep the past behaviour, explicitly set `max_features=1.0` or remove this parameter as it is also the default value for RandomForestRegressors and ExtraTreesRegressors.\n",
            "  warn(\n"
          ]
        },
        {
          "output_type": "stream",
          "name": "stdout",
          "text": [
            "[CV] END max_depth=5, max_features=auto, min_samples_leaf=4, min_samples_split=5, n_estimators=20; total time=   0.0s\n",
            "[CV] END max_depth=10, max_features=sqrt, min_samples_leaf=2, min_samples_split=2, n_estimators=20; total time=   0.0s\n",
            "[CV] END max_depth=10, max_features=sqrt, min_samples_leaf=2, min_samples_split=2, n_estimators=20; total time=   0.0s\n",
            "[CV] END max_depth=10, max_features=sqrt, min_samples_leaf=2, min_samples_split=2, n_estimators=20; total time=   0.0s\n",
            "[CV] END max_depth=10, max_features=sqrt, min_samples_leaf=2, min_samples_split=2, n_estimators=20; total time=   0.0s\n",
            "[CV] END max_depth=10, max_features=sqrt, min_samples_leaf=2, min_samples_split=2, n_estimators=20; total time=   0.0s\n"
          ]
        },
        {
          "output_type": "stream",
          "name": "stderr",
          "text": [
            "/usr/local/lib/python3.10/dist-packages/sklearn/ensemble/_forest.py:413: FutureWarning: `max_features='auto'` has been deprecated in 1.1 and will be removed in 1.3. To keep the past behaviour, explicitly set `max_features=1.0` or remove this parameter as it is also the default value for RandomForestRegressors and ExtraTreesRegressors.\n",
            "  warn(\n",
            "/usr/local/lib/python3.10/dist-packages/sklearn/ensemble/_forest.py:413: FutureWarning: `max_features='auto'` has been deprecated in 1.1 and will be removed in 1.3. To keep the past behaviour, explicitly set `max_features=1.0` or remove this parameter as it is also the default value for RandomForestRegressors and ExtraTreesRegressors.\n",
            "  warn(\n",
            "/usr/local/lib/python3.10/dist-packages/sklearn/ensemble/_forest.py:413: FutureWarning: `max_features='auto'` has been deprecated in 1.1 and will be removed in 1.3. To keep the past behaviour, explicitly set `max_features=1.0` or remove this parameter as it is also the default value for RandomForestRegressors and ExtraTreesRegressors.\n",
            "  warn(\n"
          ]
        },
        {
          "output_type": "stream",
          "name": "stdout",
          "text": [
            "[CV] END max_depth=1, max_features=auto, min_samples_leaf=10, min_samples_split=5, n_estimators=50; total time=   0.1s\n",
            "[CV] END max_depth=1, max_features=auto, min_samples_leaf=10, min_samples_split=5, n_estimators=50; total time=   0.1s\n",
            "[CV] END max_depth=1, max_features=auto, min_samples_leaf=10, min_samples_split=5, n_estimators=50; total time=   0.1s\n"
          ]
        },
        {
          "output_type": "stream",
          "name": "stderr",
          "text": [
            "/usr/local/lib/python3.10/dist-packages/sklearn/ensemble/_forest.py:413: FutureWarning: `max_features='auto'` has been deprecated in 1.1 and will be removed in 1.3. To keep the past behaviour, explicitly set `max_features=1.0` or remove this parameter as it is also the default value for RandomForestRegressors and ExtraTreesRegressors.\n",
            "  warn(\n",
            "/usr/local/lib/python3.10/dist-packages/sklearn/ensemble/_forest.py:413: FutureWarning: `max_features='auto'` has been deprecated in 1.1 and will be removed in 1.3. To keep the past behaviour, explicitly set `max_features=1.0` or remove this parameter as it is also the default value for RandomForestRegressors and ExtraTreesRegressors.\n",
            "  warn(\n"
          ]
        },
        {
          "output_type": "stream",
          "name": "stdout",
          "text": [
            "[CV] END max_depth=1, max_features=auto, min_samples_leaf=10, min_samples_split=5, n_estimators=50; total time=   0.1s\n",
            "[CV] END max_depth=1, max_features=auto, min_samples_leaf=10, min_samples_split=5, n_estimators=50; total time=   0.1s\n",
            "[CV] END max_depth=4, max_features=sqrt, min_samples_leaf=2, min_samples_split=4, n_estimators=50; total time=   0.1s\n",
            "[CV] END max_depth=4, max_features=sqrt, min_samples_leaf=2, min_samples_split=4, n_estimators=50; total time=   0.1s\n",
            "[CV] END max_depth=4, max_features=sqrt, min_samples_leaf=2, min_samples_split=4, n_estimators=50; total time=   0.1s\n",
            "[CV] END max_depth=4, max_features=sqrt, min_samples_leaf=2, min_samples_split=4, n_estimators=50; total time=   0.1s\n",
            "[CV] END max_depth=4, max_features=sqrt, min_samples_leaf=2, min_samples_split=4, n_estimators=50; total time=   0.1s\n",
            "[CV] END max_depth=10, max_features=sqrt, min_samples_leaf=10, min_samples_split=2, n_estimators=20; total time=   0.0s\n",
            "[CV] END max_depth=10, max_features=sqrt, min_samples_leaf=10, min_samples_split=2, n_estimators=20; total time=   0.0s\n",
            "[CV] END max_depth=10, max_features=sqrt, min_samples_leaf=10, min_samples_split=2, n_estimators=20; total time=   0.0s\n",
            "[CV] END max_depth=10, max_features=sqrt, min_samples_leaf=10, min_samples_split=2, n_estimators=20; total time=   0.0s\n",
            "[CV] END max_depth=10, max_features=sqrt, min_samples_leaf=10, min_samples_split=2, n_estimators=20; total time=   0.0s\n",
            "[CV] END max_depth=5, max_features=sqrt, min_samples_leaf=6, min_samples_split=10, n_estimators=20; total time=   0.0s\n",
            "[CV] END max_depth=5, max_features=sqrt, min_samples_leaf=6, min_samples_split=10, n_estimators=20; total time=   0.0s\n",
            "[CV] END max_depth=5, max_features=sqrt, min_samples_leaf=6, min_samples_split=10, n_estimators=20; total time=   0.0s\n",
            "[CV] END max_depth=5, max_features=sqrt, min_samples_leaf=6, min_samples_split=10, n_estimators=20; total time=   0.0s\n",
            "[CV] END max_depth=5, max_features=sqrt, min_samples_leaf=6, min_samples_split=10, n_estimators=20; total time=   0.0s\n",
            "[CV] END max_depth=9, max_features=log2, min_samples_leaf=6, min_samples_split=10, n_estimators=70; total time=   0.1s\n",
            "[CV] END max_depth=9, max_features=log2, min_samples_leaf=6, min_samples_split=10, n_estimators=70; total time=   0.1s\n",
            "[CV] END max_depth=9, max_features=log2, min_samples_leaf=6, min_samples_split=10, n_estimators=70; total time=   0.1s\n",
            "[CV] END max_depth=9, max_features=log2, min_samples_leaf=6, min_samples_split=10, n_estimators=70; total time=   0.1s\n",
            "[CV] END max_depth=9, max_features=log2, min_samples_leaf=6, min_samples_split=10, n_estimators=70; total time=   0.1s\n"
          ]
        },
        {
          "output_type": "stream",
          "name": "stderr",
          "text": [
            "/usr/local/lib/python3.10/dist-packages/sklearn/ensemble/_forest.py:413: FutureWarning: `max_features='auto'` has been deprecated in 1.1 and will be removed in 1.3. To keep the past behaviour, explicitly set `max_features=1.0` or remove this parameter as it is also the default value for RandomForestRegressors and ExtraTreesRegressors.\n",
            "  warn(\n",
            "/usr/local/lib/python3.10/dist-packages/sklearn/ensemble/_forest.py:413: FutureWarning: `max_features='auto'` has been deprecated in 1.1 and will be removed in 1.3. To keep the past behaviour, explicitly set `max_features=1.0` or remove this parameter as it is also the default value for RandomForestRegressors and ExtraTreesRegressors.\n",
            "  warn(\n"
          ]
        },
        {
          "output_type": "stream",
          "name": "stdout",
          "text": [
            "[CV] END max_depth=7, max_features=auto, min_samples_leaf=7, min_samples_split=4, n_estimators=80; total time=   0.1s\n",
            "[CV] END max_depth=7, max_features=auto, min_samples_leaf=7, min_samples_split=4, n_estimators=80; total time=   0.2s\n"
          ]
        },
        {
          "output_type": "stream",
          "name": "stderr",
          "text": [
            "/usr/local/lib/python3.10/dist-packages/sklearn/ensemble/_forest.py:413: FutureWarning: `max_features='auto'` has been deprecated in 1.1 and will be removed in 1.3. To keep the past behaviour, explicitly set `max_features=1.0` or remove this parameter as it is also the default value for RandomForestRegressors and ExtraTreesRegressors.\n",
            "  warn(\n",
            "/usr/local/lib/python3.10/dist-packages/sklearn/ensemble/_forest.py:413: FutureWarning: `max_features='auto'` has been deprecated in 1.1 and will be removed in 1.3. To keep the past behaviour, explicitly set `max_features=1.0` or remove this parameter as it is also the default value for RandomForestRegressors and ExtraTreesRegressors.\n",
            "  warn(\n"
          ]
        },
        {
          "output_type": "stream",
          "name": "stdout",
          "text": [
            "[CV] END max_depth=7, max_features=auto, min_samples_leaf=7, min_samples_split=4, n_estimators=80; total time=   0.2s\n",
            "[CV] END max_depth=7, max_features=auto, min_samples_leaf=7, min_samples_split=4, n_estimators=80; total time=   0.1s\n"
          ]
        },
        {
          "output_type": "stream",
          "name": "stderr",
          "text": [
            "/usr/local/lib/python3.10/dist-packages/sklearn/ensemble/_forest.py:413: FutureWarning: `max_features='auto'` has been deprecated in 1.1 and will be removed in 1.3. To keep the past behaviour, explicitly set `max_features=1.0` or remove this parameter as it is also the default value for RandomForestRegressors and ExtraTreesRegressors.\n",
            "  warn(\n"
          ]
        },
        {
          "output_type": "stream",
          "name": "stdout",
          "text": [
            "[CV] END max_depth=7, max_features=auto, min_samples_leaf=7, min_samples_split=4, n_estimators=80; total time=   0.2s\n",
            "[CV] END max_depth=6, max_features=log2, min_samples_leaf=4, min_samples_split=8, n_estimators=100; total time=   0.1s\n",
            "[CV] END max_depth=6, max_features=log2, min_samples_leaf=4, min_samples_split=8, n_estimators=100; total time=   0.2s\n",
            "[CV] END max_depth=6, max_features=log2, min_samples_leaf=4, min_samples_split=8, n_estimators=100; total time=   0.1s\n",
            "[CV] END max_depth=6, max_features=log2, min_samples_leaf=4, min_samples_split=8, n_estimators=100; total time=   0.1s\n",
            "[CV] END max_depth=6, max_features=log2, min_samples_leaf=4, min_samples_split=8, n_estimators=100; total time=   0.2s\n"
          ]
        },
        {
          "output_type": "stream",
          "name": "stderr",
          "text": [
            "/usr/local/lib/python3.10/dist-packages/sklearn/ensemble/_forest.py:413: FutureWarning: `max_features='auto'` has been deprecated in 1.1 and will be removed in 1.3. To keep the past behaviour, explicitly set `max_features=1.0` or remove this parameter as it is also the default value for RandomForestRegressors and ExtraTreesRegressors.\n",
            "  warn(\n",
            "/usr/local/lib/python3.10/dist-packages/sklearn/ensemble/_forest.py:413: FutureWarning: `max_features='auto'` has been deprecated in 1.1 and will be removed in 1.3. To keep the past behaviour, explicitly set `max_features=1.0` or remove this parameter as it is also the default value for RandomForestRegressors and ExtraTreesRegressors.\n",
            "  warn(\n",
            "/usr/local/lib/python3.10/dist-packages/sklearn/ensemble/_forest.py:413: FutureWarning: `max_features='auto'` has been deprecated in 1.1 and will be removed in 1.3. To keep the past behaviour, explicitly set `max_features=1.0` or remove this parameter as it is also the default value for RandomForestRegressors and ExtraTreesRegressors.\n",
            "  warn(\n"
          ]
        },
        {
          "output_type": "stream",
          "name": "stdout",
          "text": [
            "[CV] END max_depth=4, max_features=auto, min_samples_leaf=7, min_samples_split=6, n_estimators=40; total time=   0.1s\n",
            "[CV] END max_depth=4, max_features=auto, min_samples_leaf=7, min_samples_split=6, n_estimators=40; total time=   0.1s\n",
            "[CV] END max_depth=4, max_features=auto, min_samples_leaf=7, min_samples_split=6, n_estimators=40; total time=   0.1s\n"
          ]
        },
        {
          "output_type": "stream",
          "name": "stderr",
          "text": [
            "/usr/local/lib/python3.10/dist-packages/sklearn/ensemble/_forest.py:413: FutureWarning: `max_features='auto'` has been deprecated in 1.1 and will be removed in 1.3. To keep the past behaviour, explicitly set `max_features=1.0` or remove this parameter as it is also the default value for RandomForestRegressors and ExtraTreesRegressors.\n",
            "  warn(\n",
            "/usr/local/lib/python3.10/dist-packages/sklearn/ensemble/_forest.py:413: FutureWarning: `max_features='auto'` has been deprecated in 1.1 and will be removed in 1.3. To keep the past behaviour, explicitly set `max_features=1.0` or remove this parameter as it is also the default value for RandomForestRegressors and ExtraTreesRegressors.\n",
            "  warn(\n"
          ]
        },
        {
          "output_type": "stream",
          "name": "stdout",
          "text": [
            "[CV] END max_depth=4, max_features=auto, min_samples_leaf=7, min_samples_split=6, n_estimators=40; total time=   0.1s\n",
            "[CV] END max_depth=4, max_features=auto, min_samples_leaf=7, min_samples_split=6, n_estimators=40; total time=   0.1s\n",
            "[CV] END max_depth=2, max_features=sqrt, min_samples_leaf=6, min_samples_split=5, n_estimators=90; total time=   0.1s\n",
            "[CV] END max_depth=2, max_features=sqrt, min_samples_leaf=6, min_samples_split=5, n_estimators=90; total time=   0.1s\n",
            "[CV] END max_depth=2, max_features=sqrt, min_samples_leaf=6, min_samples_split=5, n_estimators=90; total time=   0.1s\n",
            "[CV] END max_depth=2, max_features=sqrt, min_samples_leaf=6, min_samples_split=5, n_estimators=90; total time=   0.1s\n",
            "[CV] END max_depth=2, max_features=sqrt, min_samples_leaf=6, min_samples_split=5, n_estimators=90; total time=   0.1s\n",
            "[CV] END max_depth=3, max_features=log2, min_samples_leaf=9, min_samples_split=10, n_estimators=100; total time=   0.1s\n",
            "[CV] END max_depth=3, max_features=log2, min_samples_leaf=9, min_samples_split=10, n_estimators=100; total time=   0.2s\n",
            "[CV] END max_depth=3, max_features=log2, min_samples_leaf=9, min_samples_split=10, n_estimators=100; total time=   0.1s\n",
            "[CV] END max_depth=3, max_features=log2, min_samples_leaf=9, min_samples_split=10, n_estimators=100; total time=   0.1s\n",
            "[CV] END max_depth=3, max_features=log2, min_samples_leaf=9, min_samples_split=10, n_estimators=100; total time=   0.1s\n",
            "[CV] END max_depth=8, max_features=log2, min_samples_leaf=1, min_samples_split=3, n_estimators=60; total time=   0.1s\n",
            "[CV] END max_depth=8, max_features=log2, min_samples_leaf=1, min_samples_split=3, n_estimators=60; total time=   0.1s\n",
            "[CV] END max_depth=8, max_features=log2, min_samples_leaf=1, min_samples_split=3, n_estimators=60; total time=   0.1s\n",
            "[CV] END max_depth=8, max_features=log2, min_samples_leaf=1, min_samples_split=3, n_estimators=60; total time=   0.1s\n",
            "[CV] END max_depth=8, max_features=log2, min_samples_leaf=1, min_samples_split=3, n_estimators=60; total time=   0.1s\n"
          ]
        },
        {
          "output_type": "stream",
          "name": "stderr",
          "text": [
            "/usr/local/lib/python3.10/dist-packages/sklearn/ensemble/_forest.py:413: FutureWarning: `max_features='auto'` has been deprecated in 1.1 and will be removed in 1.3. To keep the past behaviour, explicitly set `max_features=1.0` or remove this parameter as it is also the default value for RandomForestRegressors and ExtraTreesRegressors.\n",
            "  warn(\n",
            "/usr/local/lib/python3.10/dist-packages/sklearn/ensemble/_forest.py:413: FutureWarning: `max_features='auto'` has been deprecated in 1.1 and will be removed in 1.3. To keep the past behaviour, explicitly set `max_features=1.0` or remove this parameter as it is also the default value for RandomForestRegressors and ExtraTreesRegressors.\n",
            "  warn(\n",
            "/usr/local/lib/python3.10/dist-packages/sklearn/ensemble/_forest.py:413: FutureWarning: `max_features='auto'` has been deprecated in 1.1 and will be removed in 1.3. To keep the past behaviour, explicitly set `max_features=1.0` or remove this parameter as it is also the default value for RandomForestRegressors and ExtraTreesRegressors.\n",
            "  warn(\n",
            "/usr/local/lib/python3.10/dist-packages/sklearn/ensemble/_forest.py:413: FutureWarning: `max_features='auto'` has been deprecated in 1.1 and will be removed in 1.3. To keep the past behaviour, explicitly set `max_features=1.0` or remove this parameter as it is also the default value for RandomForestRegressors and ExtraTreesRegressors.\n",
            "  warn(\n",
            "/usr/local/lib/python3.10/dist-packages/sklearn/ensemble/_forest.py:413: FutureWarning: `max_features='auto'` has been deprecated in 1.1 and will be removed in 1.3. To keep the past behaviour, explicitly set `max_features=1.0` or remove this parameter as it is also the default value for RandomForestRegressors and ExtraTreesRegressors.\n",
            "  warn(\n"
          ]
        },
        {
          "output_type": "stream",
          "name": "stdout",
          "text": [
            "[CV] END max_depth=7, max_features=auto, min_samples_leaf=4, min_samples_split=7, n_estimators=20; total time=   0.0s\n",
            "[CV] END max_depth=7, max_features=auto, min_samples_leaf=4, min_samples_split=7, n_estimators=20; total time=   0.0s\n",
            "[CV] END max_depth=7, max_features=auto, min_samples_leaf=4, min_samples_split=7, n_estimators=20; total time=   0.0s\n",
            "[CV] END max_depth=7, max_features=auto, min_samples_leaf=4, min_samples_split=7, n_estimators=20; total time=   0.0s\n",
            "[CV] END max_depth=7, max_features=auto, min_samples_leaf=4, min_samples_split=7, n_estimators=20; total time=   0.0s\n",
            "[CV] END max_depth=7, max_features=log2, min_samples_leaf=1, min_samples_split=6, n_estimators=80; total time=   0.1s\n",
            "[CV] END max_depth=7, max_features=log2, min_samples_leaf=1, min_samples_split=6, n_estimators=80; total time=   0.1s\n",
            "[CV] END max_depth=7, max_features=log2, min_samples_leaf=1, min_samples_split=6, n_estimators=80; total time=   0.1s\n",
            "[CV] END max_depth=7, max_features=log2, min_samples_leaf=1, min_samples_split=6, n_estimators=80; total time=   0.1s\n",
            "[CV] END max_depth=7, max_features=log2, min_samples_leaf=1, min_samples_split=6, n_estimators=80; total time=   0.1s\n",
            "[CV] END max_depth=3, max_features=sqrt, min_samples_leaf=8, min_samples_split=2, n_estimators=90; total time=   0.1s\n",
            "[CV] END max_depth=3, max_features=sqrt, min_samples_leaf=8, min_samples_split=2, n_estimators=90; total time=   0.1s\n",
            "[CV] END max_depth=3, max_features=sqrt, min_samples_leaf=8, min_samples_split=2, n_estimators=90; total time=   0.1s\n",
            "[CV] END max_depth=3, max_features=sqrt, min_samples_leaf=8, min_samples_split=2, n_estimators=90; total time=   0.1s\n",
            "[CV] END max_depth=3, max_features=sqrt, min_samples_leaf=8, min_samples_split=2, n_estimators=90; total time=   0.2s\n",
            "[CV] END max_depth=2, max_features=sqrt, min_samples_leaf=9, min_samples_split=8, n_estimators=90; total time=   0.2s\n",
            "[CV] END max_depth=2, max_features=sqrt, min_samples_leaf=9, min_samples_split=8, n_estimators=90; total time=   0.2s\n",
            "[CV] END max_depth=2, max_features=sqrt, min_samples_leaf=9, min_samples_split=8, n_estimators=90; total time=   0.2s\n",
            "[CV] END max_depth=2, max_features=sqrt, min_samples_leaf=9, min_samples_split=8, n_estimators=90; total time=   0.2s\n",
            "[CV] END max_depth=2, max_features=sqrt, min_samples_leaf=9, min_samples_split=8, n_estimators=90; total time=   0.2s\n",
            "[CV] END max_depth=2, max_features=log2, min_samples_leaf=5, min_samples_split=8, n_estimators=90; total time=   0.2s\n",
            "[CV] END max_depth=2, max_features=log2, min_samples_leaf=5, min_samples_split=8, n_estimators=90; total time=   0.2s\n",
            "[CV] END max_depth=2, max_features=log2, min_samples_leaf=5, min_samples_split=8, n_estimators=90; total time=   0.2s\n",
            "[CV] END max_depth=2, max_features=log2, min_samples_leaf=5, min_samples_split=8, n_estimators=90; total time=   0.2s\n",
            "[CV] END max_depth=2, max_features=log2, min_samples_leaf=5, min_samples_split=8, n_estimators=90; total time=   0.2s\n",
            "[CV] END max_depth=3, max_features=sqrt, min_samples_leaf=3, min_samples_split=8, n_estimators=20; total time=   0.1s\n",
            "[CV] END max_depth=3, max_features=sqrt, min_samples_leaf=3, min_samples_split=8, n_estimators=20; total time=   0.1s\n",
            "[CV] END max_depth=3, max_features=sqrt, min_samples_leaf=3, min_samples_split=8, n_estimators=20; total time=   0.0s\n",
            "[CV] END max_depth=3, max_features=sqrt, min_samples_leaf=3, min_samples_split=8, n_estimators=20; total time=   0.1s\n",
            "[CV] END max_depth=3, max_features=sqrt, min_samples_leaf=3, min_samples_split=8, n_estimators=20; total time=   0.1s\n"
          ]
        },
        {
          "output_type": "stream",
          "name": "stderr",
          "text": [
            "/usr/local/lib/python3.10/dist-packages/sklearn/ensemble/_forest.py:413: FutureWarning: `max_features='auto'` has been deprecated in 1.1 and will be removed in 1.3. To keep the past behaviour, explicitly set `max_features=1.0` or remove this parameter as it is also the default value for RandomForestRegressors and ExtraTreesRegressors.\n",
            "  warn(\n"
          ]
        },
        {
          "output_type": "stream",
          "name": "stdout",
          "text": [
            "[CV] END max_depth=5, max_features=auto, min_samples_leaf=10, min_samples_split=8, n_estimators=80; total time=   0.3s\n"
          ]
        },
        {
          "output_type": "stream",
          "name": "stderr",
          "text": [
            "/usr/local/lib/python3.10/dist-packages/sklearn/ensemble/_forest.py:413: FutureWarning: `max_features='auto'` has been deprecated in 1.1 and will be removed in 1.3. To keep the past behaviour, explicitly set `max_features=1.0` or remove this parameter as it is also the default value for RandomForestRegressors and ExtraTreesRegressors.\n",
            "  warn(\n"
          ]
        },
        {
          "output_type": "stream",
          "name": "stdout",
          "text": [
            "[CV] END max_depth=5, max_features=auto, min_samples_leaf=10, min_samples_split=8, n_estimators=80; total time=   0.2s\n"
          ]
        },
        {
          "output_type": "stream",
          "name": "stderr",
          "text": [
            "/usr/local/lib/python3.10/dist-packages/sklearn/ensemble/_forest.py:413: FutureWarning: `max_features='auto'` has been deprecated in 1.1 and will be removed in 1.3. To keep the past behaviour, explicitly set `max_features=1.0` or remove this parameter as it is also the default value for RandomForestRegressors and ExtraTreesRegressors.\n",
            "  warn(\n"
          ]
        },
        {
          "output_type": "stream",
          "name": "stdout",
          "text": [
            "[CV] END max_depth=5, max_features=auto, min_samples_leaf=10, min_samples_split=8, n_estimators=80; total time=   0.2s\n",
            "[CV] END max_depth=5, max_features=auto, min_samples_leaf=10, min_samples_split=8, n_estimators=80; total time=   0.1s\n"
          ]
        },
        {
          "output_type": "stream",
          "name": "stderr",
          "text": [
            "/usr/local/lib/python3.10/dist-packages/sklearn/ensemble/_forest.py:413: FutureWarning: `max_features='auto'` has been deprecated in 1.1 and will be removed in 1.3. To keep the past behaviour, explicitly set `max_features=1.0` or remove this parameter as it is also the default value for RandomForestRegressors and ExtraTreesRegressors.\n",
            "  warn(\n",
            "/usr/local/lib/python3.10/dist-packages/sklearn/ensemble/_forest.py:413: FutureWarning: `max_features='auto'` has been deprecated in 1.1 and will be removed in 1.3. To keep the past behaviour, explicitly set `max_features=1.0` or remove this parameter as it is also the default value for RandomForestRegressors and ExtraTreesRegressors.\n",
            "  warn(\n"
          ]
        },
        {
          "output_type": "stream",
          "name": "stdout",
          "text": [
            "[CV] END max_depth=5, max_features=auto, min_samples_leaf=10, min_samples_split=8, n_estimators=80; total time=   0.1s\n",
            "[CV] END max_depth=4, max_features=log2, min_samples_leaf=8, min_samples_split=10, n_estimators=20; total time=   0.0s\n",
            "[CV] END max_depth=4, max_features=log2, min_samples_leaf=8, min_samples_split=10, n_estimators=20; total time=   0.0s\n",
            "[CV] END max_depth=4, max_features=log2, min_samples_leaf=8, min_samples_split=10, n_estimators=20; total time=   0.0s\n",
            "[CV] END max_depth=4, max_features=log2, min_samples_leaf=8, min_samples_split=10, n_estimators=20; total time=   0.0s\n",
            "[CV] END max_depth=4, max_features=log2, min_samples_leaf=8, min_samples_split=10, n_estimators=20; total time=   0.0s\n",
            "[CV] END max_depth=3, max_features=log2, min_samples_leaf=9, min_samples_split=5, n_estimators=70; total time=   0.1s\n",
            "[CV] END max_depth=3, max_features=log2, min_samples_leaf=9, min_samples_split=5, n_estimators=70; total time=   0.1s\n",
            "[CV] END max_depth=3, max_features=log2, min_samples_leaf=9, min_samples_split=5, n_estimators=70; total time=   0.1s\n",
            "[CV] END max_depth=3, max_features=log2, min_samples_leaf=9, min_samples_split=5, n_estimators=70; total time=   0.1s\n",
            "[CV] END max_depth=3, max_features=log2, min_samples_leaf=9, min_samples_split=5, n_estimators=70; total time=   0.1s\n",
            "[CV] END max_depth=1, max_features=auto, min_samples_leaf=9, min_samples_split=6, n_estimators=10; total time=   0.0s\n",
            "[CV] END max_depth=1, max_features=auto, min_samples_leaf=9, min_samples_split=6, n_estimators=10; total time=   0.0s\n",
            "[CV] END max_depth=1, max_features=auto, min_samples_leaf=9, min_samples_split=6, n_estimators=10; total time=   0.0s\n",
            "[CV] END max_depth=1, max_features=auto, min_samples_leaf=9, min_samples_split=6, n_estimators=10; total time=   0.0s\n"
          ]
        },
        {
          "output_type": "stream",
          "name": "stderr",
          "text": [
            "/usr/local/lib/python3.10/dist-packages/sklearn/ensemble/_forest.py:413: FutureWarning: `max_features='auto'` has been deprecated in 1.1 and will be removed in 1.3. To keep the past behaviour, explicitly set `max_features=1.0` or remove this parameter as it is also the default value for RandomForestRegressors and ExtraTreesRegressors.\n",
            "  warn(\n",
            "/usr/local/lib/python3.10/dist-packages/sklearn/ensemble/_forest.py:413: FutureWarning: `max_features='auto'` has been deprecated in 1.1 and will be removed in 1.3. To keep the past behaviour, explicitly set `max_features=1.0` or remove this parameter as it is also the default value for RandomForestRegressors and ExtraTreesRegressors.\n",
            "  warn(\n",
            "/usr/local/lib/python3.10/dist-packages/sklearn/ensemble/_forest.py:413: FutureWarning: `max_features='auto'` has been deprecated in 1.1 and will be removed in 1.3. To keep the past behaviour, explicitly set `max_features=1.0` or remove this parameter as it is also the default value for RandomForestRegressors and ExtraTreesRegressors.\n",
            "  warn(\n",
            "/usr/local/lib/python3.10/dist-packages/sklearn/ensemble/_forest.py:413: FutureWarning: `max_features='auto'` has been deprecated in 1.1 and will be removed in 1.3. To keep the past behaviour, explicitly set `max_features=1.0` or remove this parameter as it is also the default value for RandomForestRegressors and ExtraTreesRegressors.\n",
            "  warn(\n",
            "/usr/local/lib/python3.10/dist-packages/sklearn/ensemble/_forest.py:413: FutureWarning: `max_features='auto'` has been deprecated in 1.1 and will be removed in 1.3. To keep the past behaviour, explicitly set `max_features=1.0` or remove this parameter as it is also the default value for RandomForestRegressors and ExtraTreesRegressors.\n",
            "  warn(\n"
          ]
        },
        {
          "output_type": "stream",
          "name": "stdout",
          "text": [
            "[CV] END max_depth=1, max_features=auto, min_samples_leaf=9, min_samples_split=6, n_estimators=10; total time=   0.0s\n",
            "[CV] END max_depth=6, max_features=sqrt, min_samples_leaf=5, min_samples_split=10, n_estimators=20; total time=   0.0s\n",
            "[CV] END max_depth=6, max_features=sqrt, min_samples_leaf=5, min_samples_split=10, n_estimators=20; total time=   0.0s\n",
            "[CV] END max_depth=6, max_features=sqrt, min_samples_leaf=5, min_samples_split=10, n_estimators=20; total time=   0.0s\n",
            "[CV] END max_depth=6, max_features=sqrt, min_samples_leaf=5, min_samples_split=10, n_estimators=20; total time=   0.0s\n",
            "[CV] END max_depth=6, max_features=sqrt, min_samples_leaf=5, min_samples_split=10, n_estimators=20; total time=   0.0s\n",
            "[CV] END max_depth=8, max_features=sqrt, min_samples_leaf=2, min_samples_split=9, n_estimators=80; total time=   0.1s\n",
            "[CV] END max_depth=8, max_features=sqrt, min_samples_leaf=2, min_samples_split=9, n_estimators=80; total time=   0.1s\n",
            "[CV] END max_depth=8, max_features=sqrt, min_samples_leaf=2, min_samples_split=9, n_estimators=80; total time=   0.1s\n",
            "[CV] END max_depth=8, max_features=sqrt, min_samples_leaf=2, min_samples_split=9, n_estimators=80; total time=   0.1s\n",
            "[CV] END max_depth=8, max_features=sqrt, min_samples_leaf=2, min_samples_split=9, n_estimators=80; total time=   0.1s\n",
            "[CV] END max_depth=5, max_features=log2, min_samples_leaf=10, min_samples_split=4, n_estimators=100; total time=   0.1s\n",
            "[CV] END max_depth=5, max_features=log2, min_samples_leaf=10, min_samples_split=4, n_estimators=100; total time=   0.1s\n",
            "[CV] END max_depth=5, max_features=log2, min_samples_leaf=10, min_samples_split=4, n_estimators=100; total time=   0.1s\n",
            "[CV] END max_depth=5, max_features=log2, min_samples_leaf=10, min_samples_split=4, n_estimators=100; total time=   0.1s\n",
            "[CV] END max_depth=5, max_features=log2, min_samples_leaf=10, min_samples_split=4, n_estimators=100; total time=   0.2s\n",
            "[CV] END max_depth=7, max_features=log2, min_samples_leaf=9, min_samples_split=8, n_estimators=10; total time=   0.0s\n",
            "[CV] END max_depth=7, max_features=log2, min_samples_leaf=9, min_samples_split=8, n_estimators=10; total time=   0.0s\n",
            "[CV] END max_depth=7, max_features=log2, min_samples_leaf=9, min_samples_split=8, n_estimators=10; total time=   0.0s\n",
            "[CV] END max_depth=7, max_features=log2, min_samples_leaf=9, min_samples_split=8, n_estimators=10; total time=   0.0s\n",
            "[CV] END max_depth=7, max_features=log2, min_samples_leaf=9, min_samples_split=8, n_estimators=10; total time=   0.0s\n",
            "[CV] END max_depth=10, max_features=log2, min_samples_leaf=4, min_samples_split=4, n_estimators=70; total time=   0.1s\n",
            "[CV] END max_depth=10, max_features=log2, min_samples_leaf=4, min_samples_split=4, n_estimators=70; total time=   0.1s\n",
            "[CV] END max_depth=10, max_features=log2, min_samples_leaf=4, min_samples_split=4, n_estimators=70; total time=   0.1s\n",
            "[CV] END max_depth=10, max_features=log2, min_samples_leaf=4, min_samples_split=4, n_estimators=70; total time=   0.1s\n",
            "[CV] END max_depth=10, max_features=log2, min_samples_leaf=4, min_samples_split=4, n_estimators=70; total time=   0.1s\n",
            "[CV] END max_depth=1, max_features=log2, min_samples_leaf=3, min_samples_split=6, n_estimators=30; total time=   0.0s\n",
            "[CV] END max_depth=1, max_features=log2, min_samples_leaf=3, min_samples_split=6, n_estimators=30; total time=   0.0s\n",
            "[CV] END max_depth=1, max_features=log2, min_samples_leaf=3, min_samples_split=6, n_estimators=30; total time=   0.1s\n",
            "[CV] END max_depth=1, max_features=log2, min_samples_leaf=3, min_samples_split=6, n_estimators=30; total time=   0.0s\n",
            "[CV] END max_depth=1, max_features=log2, min_samples_leaf=3, min_samples_split=6, n_estimators=30; total time=   0.0s\n",
            "[CV] END max_depth=9, max_features=auto, min_samples_leaf=4, min_samples_split=6, n_estimators=50; total time=   0.1s\n",
            "[CV] END max_depth=9, max_features=auto, min_samples_leaf=4, min_samples_split=6, n_estimators=50; total time=   0.1s\n"
          ]
        },
        {
          "output_type": "stream",
          "name": "stderr",
          "text": [
            "/usr/local/lib/python3.10/dist-packages/sklearn/ensemble/_forest.py:413: FutureWarning: `max_features='auto'` has been deprecated in 1.1 and will be removed in 1.3. To keep the past behaviour, explicitly set `max_features=1.0` or remove this parameter as it is also the default value for RandomForestRegressors and ExtraTreesRegressors.\n",
            "  warn(\n",
            "/usr/local/lib/python3.10/dist-packages/sklearn/ensemble/_forest.py:413: FutureWarning: `max_features='auto'` has been deprecated in 1.1 and will be removed in 1.3. To keep the past behaviour, explicitly set `max_features=1.0` or remove this parameter as it is also the default value for RandomForestRegressors and ExtraTreesRegressors.\n",
            "  warn(\n",
            "/usr/local/lib/python3.10/dist-packages/sklearn/ensemble/_forest.py:413: FutureWarning: `max_features='auto'` has been deprecated in 1.1 and will be removed in 1.3. To keep the past behaviour, explicitly set `max_features=1.0` or remove this parameter as it is also the default value for RandomForestRegressors and ExtraTreesRegressors.\n",
            "  warn(\n"
          ]
        },
        {
          "output_type": "stream",
          "name": "stdout",
          "text": [
            "[CV] END max_depth=9, max_features=auto, min_samples_leaf=4, min_samples_split=6, n_estimators=50; total time=   0.1s\n",
            "[CV] END max_depth=9, max_features=auto, min_samples_leaf=4, min_samples_split=6, n_estimators=50; total time=   0.1s\n",
            "[CV] END max_depth=9, max_features=auto, min_samples_leaf=4, min_samples_split=6, n_estimators=50; total time=   0.1s\n"
          ]
        },
        {
          "output_type": "stream",
          "name": "stderr",
          "text": [
            "/usr/local/lib/python3.10/dist-packages/sklearn/ensemble/_forest.py:413: FutureWarning: `max_features='auto'` has been deprecated in 1.1 and will be removed in 1.3. To keep the past behaviour, explicitly set `max_features=1.0` or remove this parameter as it is also the default value for RandomForestRegressors and ExtraTreesRegressors.\n",
            "  warn(\n",
            "/usr/local/lib/python3.10/dist-packages/sklearn/ensemble/_forest.py:413: FutureWarning: `max_features='auto'` has been deprecated in 1.1 and will be removed in 1.3. To keep the past behaviour, explicitly set `max_features=1.0` or remove this parameter as it is also the default value for RandomForestRegressors and ExtraTreesRegressors.\n",
            "  warn(\n"
          ]
        },
        {
          "output_type": "stream",
          "name": "stdout",
          "text": [
            "[CV] END max_depth=10, max_features=sqrt, min_samples_leaf=4, min_samples_split=4, n_estimators=50; total time=   0.1s\n",
            "[CV] END max_depth=10, max_features=sqrt, min_samples_leaf=4, min_samples_split=4, n_estimators=50; total time=   0.1s\n",
            "[CV] END max_depth=10, max_features=sqrt, min_samples_leaf=4, min_samples_split=4, n_estimators=50; total time=   0.1s\n",
            "[CV] END max_depth=10, max_features=sqrt, min_samples_leaf=4, min_samples_split=4, n_estimators=50; total time=   0.1s\n",
            "[CV] END max_depth=10, max_features=sqrt, min_samples_leaf=4, min_samples_split=4, n_estimators=50; total time=   0.1s\n",
            "[CV] END max_depth=6, max_features=auto, min_samples_leaf=10, min_samples_split=10, n_estimators=30; total time=   0.1s\n",
            "[CV] END max_depth=6, max_features=auto, min_samples_leaf=10, min_samples_split=10, n_estimators=30; total time=   0.1s\n"
          ]
        },
        {
          "output_type": "stream",
          "name": "stderr",
          "text": [
            "/usr/local/lib/python3.10/dist-packages/sklearn/ensemble/_forest.py:413: FutureWarning: `max_features='auto'` has been deprecated in 1.1 and will be removed in 1.3. To keep the past behaviour, explicitly set `max_features=1.0` or remove this parameter as it is also the default value for RandomForestRegressors and ExtraTreesRegressors.\n",
            "  warn(\n",
            "/usr/local/lib/python3.10/dist-packages/sklearn/ensemble/_forest.py:413: FutureWarning: `max_features='auto'` has been deprecated in 1.1 and will be removed in 1.3. To keep the past behaviour, explicitly set `max_features=1.0` or remove this parameter as it is also the default value for RandomForestRegressors and ExtraTreesRegressors.\n",
            "  warn(\n",
            "/usr/local/lib/python3.10/dist-packages/sklearn/ensemble/_forest.py:413: FutureWarning: `max_features='auto'` has been deprecated in 1.1 and will be removed in 1.3. To keep the past behaviour, explicitly set `max_features=1.0` or remove this parameter as it is also the default value for RandomForestRegressors and ExtraTreesRegressors.\n",
            "  warn(\n",
            "/usr/local/lib/python3.10/dist-packages/sklearn/ensemble/_forest.py:413: FutureWarning: `max_features='auto'` has been deprecated in 1.1 and will be removed in 1.3. To keep the past behaviour, explicitly set `max_features=1.0` or remove this parameter as it is also the default value for RandomForestRegressors and ExtraTreesRegressors.\n",
            "  warn(\n"
          ]
        },
        {
          "output_type": "stream",
          "name": "stdout",
          "text": [
            "[CV] END max_depth=6, max_features=auto, min_samples_leaf=10, min_samples_split=10, n_estimators=30; total time=   0.1s\n",
            "[CV] END max_depth=6, max_features=auto, min_samples_leaf=10, min_samples_split=10, n_estimators=30; total time=   0.1s\n",
            "[CV] END max_depth=6, max_features=auto, min_samples_leaf=10, min_samples_split=10, n_estimators=30; total time=   0.1s\n",
            "[CV] END max_depth=5, max_features=log2, min_samples_leaf=7, min_samples_split=7, n_estimators=40; total time=   0.1s\n"
          ]
        },
        {
          "output_type": "stream",
          "name": "stderr",
          "text": [
            "/usr/local/lib/python3.10/dist-packages/sklearn/ensemble/_forest.py:413: FutureWarning: `max_features='auto'` has been deprecated in 1.1 and will be removed in 1.3. To keep the past behaviour, explicitly set `max_features=1.0` or remove this parameter as it is also the default value for RandomForestRegressors and ExtraTreesRegressors.\n",
            "  warn(\n"
          ]
        },
        {
          "output_type": "stream",
          "name": "stdout",
          "text": [
            "[CV] END max_depth=5, max_features=log2, min_samples_leaf=7, min_samples_split=7, n_estimators=40; total time=   0.1s\n",
            "[CV] END max_depth=5, max_features=log2, min_samples_leaf=7, min_samples_split=7, n_estimators=40; total time=   0.1s\n",
            "[CV] END max_depth=5, max_features=log2, min_samples_leaf=7, min_samples_split=7, n_estimators=40; total time=   0.1s\n",
            "[CV] END max_depth=5, max_features=log2, min_samples_leaf=7, min_samples_split=7, n_estimators=40; total time=   0.1s\n",
            "[CV] END max_depth=9, max_features=sqrt, min_samples_leaf=8, min_samples_split=7, n_estimators=20; total time=   0.0s\n",
            "[CV] END max_depth=9, max_features=sqrt, min_samples_leaf=8, min_samples_split=7, n_estimators=20; total time=   0.0s\n",
            "[CV] END max_depth=9, max_features=sqrt, min_samples_leaf=8, min_samples_split=7, n_estimators=20; total time=   0.0s\n",
            "[CV] END max_depth=9, max_features=sqrt, min_samples_leaf=8, min_samples_split=7, n_estimators=20; total time=   0.0s\n",
            "[CV] END max_depth=9, max_features=sqrt, min_samples_leaf=8, min_samples_split=7, n_estimators=20; total time=   0.0s\n",
            "[CV] END max_depth=2, max_features=auto, min_samples_leaf=3, min_samples_split=6, n_estimators=10; total time=   0.0s\n",
            "[CV] END max_depth=2, max_features=auto, min_samples_leaf=3, min_samples_split=6, n_estimators=10; total time=   0.0s\n",
            "[CV] END max_depth=2, max_features=auto, min_samples_leaf=3, min_samples_split=6, n_estimators=10; total time=   0.0s\n"
          ]
        },
        {
          "output_type": "stream",
          "name": "stderr",
          "text": [
            "/usr/local/lib/python3.10/dist-packages/sklearn/ensemble/_forest.py:413: FutureWarning: `max_features='auto'` has been deprecated in 1.1 and will be removed in 1.3. To keep the past behaviour, explicitly set `max_features=1.0` or remove this parameter as it is also the default value for RandomForestRegressors and ExtraTreesRegressors.\n",
            "  warn(\n",
            "/usr/local/lib/python3.10/dist-packages/sklearn/ensemble/_forest.py:413: FutureWarning: `max_features='auto'` has been deprecated in 1.1 and will be removed in 1.3. To keep the past behaviour, explicitly set `max_features=1.0` or remove this parameter as it is also the default value for RandomForestRegressors and ExtraTreesRegressors.\n",
            "  warn(\n",
            "/usr/local/lib/python3.10/dist-packages/sklearn/ensemble/_forest.py:413: FutureWarning: `max_features='auto'` has been deprecated in 1.1 and will be removed in 1.3. To keep the past behaviour, explicitly set `max_features=1.0` or remove this parameter as it is also the default value for RandomForestRegressors and ExtraTreesRegressors.\n",
            "  warn(\n",
            "/usr/local/lib/python3.10/dist-packages/sklearn/ensemble/_forest.py:413: FutureWarning: `max_features='auto'` has been deprecated in 1.1 and will be removed in 1.3. To keep the past behaviour, explicitly set `max_features=1.0` or remove this parameter as it is also the default value for RandomForestRegressors and ExtraTreesRegressors.\n",
            "  warn(\n",
            "/usr/local/lib/python3.10/dist-packages/sklearn/ensemble/_forest.py:413: FutureWarning: `max_features='auto'` has been deprecated in 1.1 and will be removed in 1.3. To keep the past behaviour, explicitly set `max_features=1.0` or remove this parameter as it is also the default value for RandomForestRegressors and ExtraTreesRegressors.\n",
            "  warn(\n"
          ]
        },
        {
          "output_type": "stream",
          "name": "stdout",
          "text": [
            "[CV] END max_depth=2, max_features=auto, min_samples_leaf=3, min_samples_split=6, n_estimators=10; total time=   0.0s\n",
            "[CV] END max_depth=2, max_features=auto, min_samples_leaf=3, min_samples_split=6, n_estimators=10; total time=   0.0s\n",
            "[CV] END max_depth=3, max_features=log2, min_samples_leaf=1, min_samples_split=10, n_estimators=90; total time=   0.1s\n",
            "[CV] END max_depth=3, max_features=log2, min_samples_leaf=1, min_samples_split=10, n_estimators=90; total time=   0.1s\n",
            "[CV] END max_depth=3, max_features=log2, min_samples_leaf=1, min_samples_split=10, n_estimators=90; total time=   0.1s\n",
            "[CV] END max_depth=3, max_features=log2, min_samples_leaf=1, min_samples_split=10, n_estimators=90; total time=   0.1s\n",
            "[CV] END max_depth=3, max_features=log2, min_samples_leaf=1, min_samples_split=10, n_estimators=90; total time=   0.1s\n",
            "[CV] END max_depth=8, max_features=auto, min_samples_leaf=1, min_samples_split=2, n_estimators=20; total time=   0.0s\n"
          ]
        },
        {
          "output_type": "stream",
          "name": "stderr",
          "text": [
            "/usr/local/lib/python3.10/dist-packages/sklearn/ensemble/_forest.py:413: FutureWarning: `max_features='auto'` has been deprecated in 1.1 and will be removed in 1.3. To keep the past behaviour, explicitly set `max_features=1.0` or remove this parameter as it is also the default value for RandomForestRegressors and ExtraTreesRegressors.\n",
            "  warn(\n",
            "/usr/local/lib/python3.10/dist-packages/sklearn/ensemble/_forest.py:413: FutureWarning: `max_features='auto'` has been deprecated in 1.1 and will be removed in 1.3. To keep the past behaviour, explicitly set `max_features=1.0` or remove this parameter as it is also the default value for RandomForestRegressors and ExtraTreesRegressors.\n",
            "  warn(\n",
            "/usr/local/lib/python3.10/dist-packages/sklearn/ensemble/_forest.py:413: FutureWarning: `max_features='auto'` has been deprecated in 1.1 and will be removed in 1.3. To keep the past behaviour, explicitly set `max_features=1.0` or remove this parameter as it is also the default value for RandomForestRegressors and ExtraTreesRegressors.\n",
            "  warn(\n",
            "/usr/local/lib/python3.10/dist-packages/sklearn/ensemble/_forest.py:413: FutureWarning: `max_features='auto'` has been deprecated in 1.1 and will be removed in 1.3. To keep the past behaviour, explicitly set `max_features=1.0` or remove this parameter as it is also the default value for RandomForestRegressors and ExtraTreesRegressors.\n",
            "  warn(\n",
            "/usr/local/lib/python3.10/dist-packages/sklearn/ensemble/_forest.py:413: FutureWarning: `max_features='auto'` has been deprecated in 1.1 and will be removed in 1.3. To keep the past behaviour, explicitly set `max_features=1.0` or remove this parameter as it is also the default value for RandomForestRegressors and ExtraTreesRegressors.\n",
            "  warn(\n"
          ]
        },
        {
          "output_type": "stream",
          "name": "stdout",
          "text": [
            "[CV] END max_depth=8, max_features=auto, min_samples_leaf=1, min_samples_split=2, n_estimators=20; total time=   0.0s\n",
            "[CV] END max_depth=8, max_features=auto, min_samples_leaf=1, min_samples_split=2, n_estimators=20; total time=   0.0s\n",
            "[CV] END max_depth=8, max_features=auto, min_samples_leaf=1, min_samples_split=2, n_estimators=20; total time=   0.0s\n",
            "[CV] END max_depth=8, max_features=auto, min_samples_leaf=1, min_samples_split=2, n_estimators=20; total time=   0.1s\n",
            "[CV] END max_depth=8, max_features=sqrt, min_samples_leaf=9, min_samples_split=4, n_estimators=70; total time=   0.1s\n",
            "[CV] END max_depth=8, max_features=sqrt, min_samples_leaf=9, min_samples_split=4, n_estimators=70; total time=   0.1s\n",
            "[CV] END max_depth=8, max_features=sqrt, min_samples_leaf=9, min_samples_split=4, n_estimators=70; total time=   0.1s\n",
            "[CV] END max_depth=8, max_features=sqrt, min_samples_leaf=9, min_samples_split=4, n_estimators=70; total time=   0.1s\n",
            "[CV] END max_depth=8, max_features=sqrt, min_samples_leaf=9, min_samples_split=4, n_estimators=70; total time=   0.1s\n",
            "[CV] END max_depth=5, max_features=sqrt, min_samples_leaf=9, min_samples_split=10, n_estimators=70; total time=   0.1s\n",
            "[CV] END max_depth=5, max_features=sqrt, min_samples_leaf=9, min_samples_split=10, n_estimators=70; total time=   0.1s\n",
            "[CV] END max_depth=5, max_features=sqrt, min_samples_leaf=9, min_samples_split=10, n_estimators=70; total time=   0.1s\n",
            "[CV] END max_depth=5, max_features=sqrt, min_samples_leaf=9, min_samples_split=10, n_estimators=70; total time=   0.1s\n",
            "[CV] END max_depth=5, max_features=sqrt, min_samples_leaf=9, min_samples_split=10, n_estimators=70; total time=   0.1s\n",
            "[CV] END max_depth=10, max_features=sqrt, min_samples_leaf=3, min_samples_split=7, n_estimators=60; total time=   0.1s\n",
            "[CV] END max_depth=10, max_features=sqrt, min_samples_leaf=3, min_samples_split=7, n_estimators=60; total time=   0.1s\n",
            "[CV] END max_depth=10, max_features=sqrt, min_samples_leaf=3, min_samples_split=7, n_estimators=60; total time=   0.1s\n",
            "[CV] END max_depth=10, max_features=sqrt, min_samples_leaf=3, min_samples_split=7, n_estimators=60; total time=   0.1s\n",
            "[CV] END max_depth=10, max_features=sqrt, min_samples_leaf=3, min_samples_split=7, n_estimators=60; total time=   0.1s\n",
            "[CV] END max_depth=1, max_features=log2, min_samples_leaf=4, min_samples_split=10, n_estimators=40; total time=   0.1s\n",
            "[CV] END max_depth=1, max_features=log2, min_samples_leaf=4, min_samples_split=10, n_estimators=40; total time=   0.1s\n",
            "[CV] END max_depth=1, max_features=log2, min_samples_leaf=4, min_samples_split=10, n_estimators=40; total time=   0.1s\n",
            "[CV] END max_depth=1, max_features=log2, min_samples_leaf=4, min_samples_split=10, n_estimators=40; total time=   0.1s\n",
            "[CV] END max_depth=1, max_features=log2, min_samples_leaf=4, min_samples_split=10, n_estimators=40; total time=   0.1s\n",
            "[CV] END max_depth=7, max_features=sqrt, min_samples_leaf=7, min_samples_split=3, n_estimators=20; total time=   0.0s\n",
            "[CV] END max_depth=7, max_features=sqrt, min_samples_leaf=7, min_samples_split=3, n_estimators=20; total time=   0.0s\n",
            "[CV] END max_depth=7, max_features=sqrt, min_samples_leaf=7, min_samples_split=3, n_estimators=20; total time=   0.0s\n",
            "[CV] END max_depth=7, max_features=sqrt, min_samples_leaf=7, min_samples_split=3, n_estimators=20; total time=   0.0s\n",
            "[CV] END max_depth=7, max_features=sqrt, min_samples_leaf=7, min_samples_split=3, n_estimators=20; total time=   0.0s\n",
            "[CV] END max_depth=4, max_features=sqrt, min_samples_leaf=8, min_samples_split=6, n_estimators=70; total time=   0.1s\n",
            "[CV] END max_depth=4, max_features=sqrt, min_samples_leaf=8, min_samples_split=6, n_estimators=70; total time=   0.1s\n",
            "[CV] END max_depth=4, max_features=sqrt, min_samples_leaf=8, min_samples_split=6, n_estimators=70; total time=   0.1s\n",
            "[CV] END max_depth=4, max_features=sqrt, min_samples_leaf=8, min_samples_split=6, n_estimators=70; total time=   0.1s\n",
            "[CV] END max_depth=4, max_features=sqrt, min_samples_leaf=8, min_samples_split=6, n_estimators=70; total time=   0.1s\n",
            "[CV] END max_depth=9, max_features=log2, min_samples_leaf=6, min_samples_split=6, n_estimators=20; total time=   0.0s\n",
            "[CV] END max_depth=9, max_features=log2, min_samples_leaf=6, min_samples_split=6, n_estimators=20; total time=   0.0s\n",
            "[CV] END max_depth=9, max_features=log2, min_samples_leaf=6, min_samples_split=6, n_estimators=20; total time=   0.0s\n",
            "[CV] END max_depth=9, max_features=log2, min_samples_leaf=6, min_samples_split=6, n_estimators=20; total time=   0.0s\n",
            "[CV] END max_depth=9, max_features=log2, min_samples_leaf=6, min_samples_split=6, n_estimators=20; total time=   0.0s\n",
            "[CV] END max_depth=3, max_features=sqrt, min_samples_leaf=1, min_samples_split=9, n_estimators=40; total time=   0.1s\n",
            "[CV] END max_depth=3, max_features=sqrt, min_samples_leaf=1, min_samples_split=9, n_estimators=40; total time=   0.1s\n",
            "[CV] END max_depth=3, max_features=sqrt, min_samples_leaf=1, min_samples_split=9, n_estimators=40; total time=   0.1s\n",
            "[CV] END max_depth=3, max_features=sqrt, min_samples_leaf=1, min_samples_split=9, n_estimators=40; total time=   0.1s\n",
            "[CV] END max_depth=3, max_features=sqrt, min_samples_leaf=1, min_samples_split=9, n_estimators=40; total time=   0.1s\n",
            "[CV] END max_depth=10, max_features=log2, min_samples_leaf=9, min_samples_split=9, n_estimators=100; total time=   0.1s\n",
            "[CV] END max_depth=10, max_features=log2, min_samples_leaf=9, min_samples_split=9, n_estimators=100; total time=   0.1s\n",
            "[CV] END max_depth=10, max_features=log2, min_samples_leaf=9, min_samples_split=9, n_estimators=100; total time=   0.1s\n",
            "[CV] END max_depth=10, max_features=log2, min_samples_leaf=9, min_samples_split=9, n_estimators=100; total time=   0.1s\n",
            "[CV] END max_depth=10, max_features=log2, min_samples_leaf=9, min_samples_split=9, n_estimators=100; total time=   0.1s\n",
            "[CV] END max_depth=10, max_features=log2, min_samples_leaf=8, min_samples_split=9, n_estimators=60; total time=   0.1s\n",
            "[CV] END max_depth=10, max_features=log2, min_samples_leaf=8, min_samples_split=9, n_estimators=60; total time=   0.1s\n",
            "[CV] END max_depth=10, max_features=log2, min_samples_leaf=8, min_samples_split=9, n_estimators=60; total time=   0.1s\n",
            "[CV] END max_depth=10, max_features=log2, min_samples_leaf=8, min_samples_split=9, n_estimators=60; total time=   0.1s\n",
            "[CV] END max_depth=10, max_features=log2, min_samples_leaf=8, min_samples_split=9, n_estimators=60; total time=   0.2s\n",
            "[CV] END max_depth=4, max_features=auto, min_samples_leaf=4, min_samples_split=9, n_estimators=20; total time=   0.1s\n",
            "[CV] END max_depth=4, max_features=auto, min_samples_leaf=4, min_samples_split=9, n_estimators=20; total time=   0.1s\n",
            "[CV] END max_depth=4, max_features=auto, min_samples_leaf=4, min_samples_split=9, n_estimators=20; total time=   0.1s\n"
          ]
        },
        {
          "output_type": "stream",
          "name": "stderr",
          "text": [
            "/usr/local/lib/python3.10/dist-packages/sklearn/ensemble/_forest.py:413: FutureWarning: `max_features='auto'` has been deprecated in 1.1 and will be removed in 1.3. To keep the past behaviour, explicitly set `max_features=1.0` or remove this parameter as it is also the default value for RandomForestRegressors and ExtraTreesRegressors.\n",
            "  warn(\n",
            "/usr/local/lib/python3.10/dist-packages/sklearn/ensemble/_forest.py:413: FutureWarning: `max_features='auto'` has been deprecated in 1.1 and will be removed in 1.3. To keep the past behaviour, explicitly set `max_features=1.0` or remove this parameter as it is also the default value for RandomForestRegressors and ExtraTreesRegressors.\n",
            "  warn(\n",
            "/usr/local/lib/python3.10/dist-packages/sklearn/ensemble/_forest.py:413: FutureWarning: `max_features='auto'` has been deprecated in 1.1 and will be removed in 1.3. To keep the past behaviour, explicitly set `max_features=1.0` or remove this parameter as it is also the default value for RandomForestRegressors and ExtraTreesRegressors.\n",
            "  warn(\n",
            "/usr/local/lib/python3.10/dist-packages/sklearn/ensemble/_forest.py:413: FutureWarning: `max_features='auto'` has been deprecated in 1.1 and will be removed in 1.3. To keep the past behaviour, explicitly set `max_features=1.0` or remove this parameter as it is also the default value for RandomForestRegressors and ExtraTreesRegressors.\n",
            "  warn(\n"
          ]
        },
        {
          "output_type": "stream",
          "name": "stdout",
          "text": [
            "[CV] END max_depth=4, max_features=auto, min_samples_leaf=4, min_samples_split=9, n_estimators=20; total time=   0.1s\n",
            "[CV] END max_depth=4, max_features=auto, min_samples_leaf=4, min_samples_split=9, n_estimators=20; total time=   0.1s\n"
          ]
        },
        {
          "output_type": "stream",
          "name": "stderr",
          "text": [
            "/usr/local/lib/python3.10/dist-packages/sklearn/ensemble/_forest.py:413: FutureWarning: `max_features='auto'` has been deprecated in 1.1 and will be removed in 1.3. To keep the past behaviour, explicitly set `max_features=1.0` or remove this parameter as it is also the default value for RandomForestRegressors and ExtraTreesRegressors.\n",
            "  warn(\n"
          ]
        },
        {
          "output_type": "stream",
          "name": "stdout",
          "text": [
            "[CV] END max_depth=6, max_features=log2, min_samples_leaf=9, min_samples_split=5, n_estimators=70; total time=   0.2s\n",
            "[CV] END max_depth=6, max_features=log2, min_samples_leaf=9, min_samples_split=5, n_estimators=70; total time=   0.2s\n",
            "[CV] END max_depth=6, max_features=log2, min_samples_leaf=9, min_samples_split=5, n_estimators=70; total time=   0.1s\n",
            "[CV] END max_depth=6, max_features=log2, min_samples_leaf=9, min_samples_split=5, n_estimators=70; total time=   0.1s\n",
            "[CV] END max_depth=6, max_features=log2, min_samples_leaf=9, min_samples_split=5, n_estimators=70; total time=   0.2s\n",
            "[CV] END max_depth=9, max_features=auto, min_samples_leaf=4, min_samples_split=7, n_estimators=20; total time=   0.1s\n",
            "[CV] END max_depth=9, max_features=auto, min_samples_leaf=4, min_samples_split=7, n_estimators=20; total time=   0.1s\n"
          ]
        },
        {
          "output_type": "stream",
          "name": "stderr",
          "text": [
            "/usr/local/lib/python3.10/dist-packages/sklearn/ensemble/_forest.py:413: FutureWarning: `max_features='auto'` has been deprecated in 1.1 and will be removed in 1.3. To keep the past behaviour, explicitly set `max_features=1.0` or remove this parameter as it is also the default value for RandomForestRegressors and ExtraTreesRegressors.\n",
            "  warn(\n",
            "/usr/local/lib/python3.10/dist-packages/sklearn/ensemble/_forest.py:413: FutureWarning: `max_features='auto'` has been deprecated in 1.1 and will be removed in 1.3. To keep the past behaviour, explicitly set `max_features=1.0` or remove this parameter as it is also the default value for RandomForestRegressors and ExtraTreesRegressors.\n",
            "  warn(\n",
            "/usr/local/lib/python3.10/dist-packages/sklearn/ensemble/_forest.py:413: FutureWarning: `max_features='auto'` has been deprecated in 1.1 and will be removed in 1.3. To keep the past behaviour, explicitly set `max_features=1.0` or remove this parameter as it is also the default value for RandomForestRegressors and ExtraTreesRegressors.\n",
            "  warn(\n"
          ]
        },
        {
          "output_type": "stream",
          "name": "stdout",
          "text": [
            "[CV] END max_depth=9, max_features=auto, min_samples_leaf=4, min_samples_split=7, n_estimators=20; total time=   0.1s\n",
            "[CV] END max_depth=9, max_features=auto, min_samples_leaf=4, min_samples_split=7, n_estimators=20; total time=   0.1s\n",
            "[CV] END max_depth=9, max_features=auto, min_samples_leaf=4, min_samples_split=7, n_estimators=20; total time=   0.1s\n"
          ]
        },
        {
          "output_type": "stream",
          "name": "stderr",
          "text": [
            "/usr/local/lib/python3.10/dist-packages/sklearn/ensemble/_forest.py:413: FutureWarning: `max_features='auto'` has been deprecated in 1.1 and will be removed in 1.3. To keep the past behaviour, explicitly set `max_features=1.0` or remove this parameter as it is also the default value for RandomForestRegressors and ExtraTreesRegressors.\n",
            "  warn(\n",
            "/usr/local/lib/python3.10/dist-packages/sklearn/ensemble/_forest.py:413: FutureWarning: `max_features='auto'` has been deprecated in 1.1 and will be removed in 1.3. To keep the past behaviour, explicitly set `max_features=1.0` or remove this parameter as it is also the default value for RandomForestRegressors and ExtraTreesRegressors.\n",
            "  warn(\n",
            "/usr/local/lib/python3.10/dist-packages/sklearn/ensemble/_forest.py:413: FutureWarning: `max_features='auto'` has been deprecated in 1.1 and will be removed in 1.3. To keep the past behaviour, explicitly set `max_features=1.0` or remove this parameter as it is also the default value for RandomForestRegressors and ExtraTreesRegressors.\n",
            "  warn(\n"
          ]
        },
        {
          "output_type": "stream",
          "name": "stdout",
          "text": [
            "[CV] END max_depth=10, max_features=auto, min_samples_leaf=4, min_samples_split=7, n_estimators=70; total time=   0.2s\n",
            "[CV] END max_depth=10, max_features=auto, min_samples_leaf=4, min_samples_split=7, n_estimators=70; total time=   0.2s\n"
          ]
        },
        {
          "output_type": "stream",
          "name": "stderr",
          "text": [
            "/usr/local/lib/python3.10/dist-packages/sklearn/ensemble/_forest.py:413: FutureWarning: `max_features='auto'` has been deprecated in 1.1 and will be removed in 1.3. To keep the past behaviour, explicitly set `max_features=1.0` or remove this parameter as it is also the default value for RandomForestRegressors and ExtraTreesRegressors.\n",
            "  warn(\n",
            "/usr/local/lib/python3.10/dist-packages/sklearn/ensemble/_forest.py:413: FutureWarning: `max_features='auto'` has been deprecated in 1.1 and will be removed in 1.3. To keep the past behaviour, explicitly set `max_features=1.0` or remove this parameter as it is also the default value for RandomForestRegressors and ExtraTreesRegressors.\n",
            "  warn(\n"
          ]
        },
        {
          "output_type": "stream",
          "name": "stdout",
          "text": [
            "[CV] END max_depth=10, max_features=auto, min_samples_leaf=4, min_samples_split=7, n_estimators=70; total time=   0.2s\n"
          ]
        },
        {
          "output_type": "stream",
          "name": "stderr",
          "text": [
            "/usr/local/lib/python3.10/dist-packages/sklearn/ensemble/_forest.py:413: FutureWarning: `max_features='auto'` has been deprecated in 1.1 and will be removed in 1.3. To keep the past behaviour, explicitly set `max_features=1.0` or remove this parameter as it is also the default value for RandomForestRegressors and ExtraTreesRegressors.\n",
            "  warn(\n"
          ]
        },
        {
          "output_type": "stream",
          "name": "stdout",
          "text": [
            "[CV] END max_depth=10, max_features=auto, min_samples_leaf=4, min_samples_split=7, n_estimators=70; total time=   0.2s\n"
          ]
        },
        {
          "output_type": "stream",
          "name": "stderr",
          "text": [
            "/usr/local/lib/python3.10/dist-packages/sklearn/ensemble/_forest.py:413: FutureWarning: `max_features='auto'` has been deprecated in 1.1 and will be removed in 1.3. To keep the past behaviour, explicitly set `max_features=1.0` or remove this parameter as it is also the default value for RandomForestRegressors and ExtraTreesRegressors.\n",
            "  warn(\n"
          ]
        },
        {
          "output_type": "stream",
          "name": "stdout",
          "text": [
            "[CV] END max_depth=10, max_features=auto, min_samples_leaf=4, min_samples_split=7, n_estimators=70; total time=   0.2s\n",
            "[CV] END max_depth=6, max_features=auto, min_samples_leaf=6, min_samples_split=6, n_estimators=40; total time=   0.2s\n"
          ]
        },
        {
          "output_type": "stream",
          "name": "stderr",
          "text": [
            "/usr/local/lib/python3.10/dist-packages/sklearn/ensemble/_forest.py:413: FutureWarning: `max_features='auto'` has been deprecated in 1.1 and will be removed in 1.3. To keep the past behaviour, explicitly set `max_features=1.0` or remove this parameter as it is also the default value for RandomForestRegressors and ExtraTreesRegressors.\n",
            "  warn(\n",
            "/usr/local/lib/python3.10/dist-packages/sklearn/ensemble/_forest.py:413: FutureWarning: `max_features='auto'` has been deprecated in 1.1 and will be removed in 1.3. To keep the past behaviour, explicitly set `max_features=1.0` or remove this parameter as it is also the default value for RandomForestRegressors and ExtraTreesRegressors.\n",
            "  warn(\n"
          ]
        },
        {
          "output_type": "stream",
          "name": "stdout",
          "text": [
            "[CV] END max_depth=6, max_features=auto, min_samples_leaf=6, min_samples_split=6, n_estimators=40; total time=   0.1s\n",
            "[CV] END max_depth=6, max_features=auto, min_samples_leaf=6, min_samples_split=6, n_estimators=40; total time=   0.1s\n"
          ]
        },
        {
          "output_type": "stream",
          "name": "stderr",
          "text": [
            "/usr/local/lib/python3.10/dist-packages/sklearn/ensemble/_forest.py:413: FutureWarning: `max_features='auto'` has been deprecated in 1.1 and will be removed in 1.3. To keep the past behaviour, explicitly set `max_features=1.0` or remove this parameter as it is also the default value for RandomForestRegressors and ExtraTreesRegressors.\n",
            "  warn(\n",
            "/usr/local/lib/python3.10/dist-packages/sklearn/ensemble/_forest.py:413: FutureWarning: `max_features='auto'` has been deprecated in 1.1 and will be removed in 1.3. To keep the past behaviour, explicitly set `max_features=1.0` or remove this parameter as it is also the default value for RandomForestRegressors and ExtraTreesRegressors.\n",
            "  warn(\n"
          ]
        },
        {
          "output_type": "stream",
          "name": "stdout",
          "text": [
            "[CV] END max_depth=6, max_features=auto, min_samples_leaf=6, min_samples_split=6, n_estimators=40; total time=   0.1s\n",
            "[CV] END max_depth=6, max_features=auto, min_samples_leaf=6, min_samples_split=6, n_estimators=40; total time=   0.1s\n",
            "[CV] END max_depth=3, max_features=log2, min_samples_leaf=8, min_samples_split=8, n_estimators=30; total time=   0.0s\n"
          ]
        },
        {
          "output_type": "stream",
          "name": "stderr",
          "text": [
            "/usr/local/lib/python3.10/dist-packages/sklearn/ensemble/_forest.py:413: FutureWarning: `max_features='auto'` has been deprecated in 1.1 and will be removed in 1.3. To keep the past behaviour, explicitly set `max_features=1.0` or remove this parameter as it is also the default value for RandomForestRegressors and ExtraTreesRegressors.\n",
            "  warn(\n"
          ]
        },
        {
          "output_type": "stream",
          "name": "stdout",
          "text": [
            "[CV] END max_depth=3, max_features=log2, min_samples_leaf=8, min_samples_split=8, n_estimators=30; total time=   0.0s\n",
            "[CV] END max_depth=3, max_features=log2, min_samples_leaf=8, min_samples_split=8, n_estimators=30; total time=   0.1s\n",
            "[CV] END max_depth=3, max_features=log2, min_samples_leaf=8, min_samples_split=8, n_estimators=30; total time=   0.0s\n",
            "[CV] END max_depth=3, max_features=log2, min_samples_leaf=8, min_samples_split=8, n_estimators=30; total time=   0.1s\n",
            "[CV] END max_depth=6, max_features=log2, min_samples_leaf=1, min_samples_split=7, n_estimators=80; total time=   0.1s\n",
            "[CV] END max_depth=6, max_features=log2, min_samples_leaf=1, min_samples_split=7, n_estimators=80; total time=   0.1s\n",
            "[CV] END max_depth=6, max_features=log2, min_samples_leaf=1, min_samples_split=7, n_estimators=80; total time=   0.1s\n",
            "[CV] END max_depth=6, max_features=log2, min_samples_leaf=1, min_samples_split=7, n_estimators=80; total time=   0.1s\n",
            "[CV] END max_depth=6, max_features=log2, min_samples_leaf=1, min_samples_split=7, n_estimators=80; total time=   0.1s\n",
            "[CV] END max_depth=5, max_features=auto, min_samples_leaf=4, min_samples_split=3, n_estimators=10; total time=   0.0s\n",
            "[CV] END max_depth=5, max_features=auto, min_samples_leaf=4, min_samples_split=3, n_estimators=10; total time=   0.0s\n",
            "[CV] END max_depth=5, max_features=auto, min_samples_leaf=4, min_samples_split=3, n_estimators=10; total time=   0.0s\n",
            "[CV] END max_depth=5, max_features=auto, min_samples_leaf=4, min_samples_split=3, n_estimators=10; total time=   0.0s\n",
            "[CV] END max_depth=5, max_features=auto, min_samples_leaf=4, min_samples_split=3, n_estimators=10; total time=   0.0s\n"
          ]
        },
        {
          "output_type": "stream",
          "name": "stderr",
          "text": [
            "/usr/local/lib/python3.10/dist-packages/sklearn/ensemble/_forest.py:413: FutureWarning: `max_features='auto'` has been deprecated in 1.1 and will be removed in 1.3. To keep the past behaviour, explicitly set `max_features=1.0` or remove this parameter as it is also the default value for RandomForestRegressors and ExtraTreesRegressors.\n",
            "  warn(\n",
            "/usr/local/lib/python3.10/dist-packages/sklearn/ensemble/_forest.py:413: FutureWarning: `max_features='auto'` has been deprecated in 1.1 and will be removed in 1.3. To keep the past behaviour, explicitly set `max_features=1.0` or remove this parameter as it is also the default value for RandomForestRegressors and ExtraTreesRegressors.\n",
            "  warn(\n",
            "/usr/local/lib/python3.10/dist-packages/sklearn/ensemble/_forest.py:413: FutureWarning: `max_features='auto'` has been deprecated in 1.1 and will be removed in 1.3. To keep the past behaviour, explicitly set `max_features=1.0` or remove this parameter as it is also the default value for RandomForestRegressors and ExtraTreesRegressors.\n",
            "  warn(\n",
            "/usr/local/lib/python3.10/dist-packages/sklearn/ensemble/_forest.py:413: FutureWarning: `max_features='auto'` has been deprecated in 1.1 and will be removed in 1.3. To keep the past behaviour, explicitly set `max_features=1.0` or remove this parameter as it is also the default value for RandomForestRegressors and ExtraTreesRegressors.\n",
            "  warn(\n",
            "/usr/local/lib/python3.10/dist-packages/sklearn/ensemble/_forest.py:413: FutureWarning: `max_features='auto'` has been deprecated in 1.1 and will be removed in 1.3. To keep the past behaviour, explicitly set `max_features=1.0` or remove this parameter as it is also the default value for RandomForestRegressors and ExtraTreesRegressors.\n",
            "  warn(\n"
          ]
        },
        {
          "output_type": "stream",
          "name": "stdout",
          "text": [
            "[CV] END max_depth=6, max_features=sqrt, min_samples_leaf=2, min_samples_split=6, n_estimators=80; total time=   0.1s\n",
            "[CV] END max_depth=6, max_features=sqrt, min_samples_leaf=2, min_samples_split=6, n_estimators=80; total time=   0.1s\n",
            "[CV] END max_depth=6, max_features=sqrt, min_samples_leaf=2, min_samples_split=6, n_estimators=80; total time=   0.1s\n",
            "[CV] END max_depth=6, max_features=sqrt, min_samples_leaf=2, min_samples_split=6, n_estimators=80; total time=   0.1s\n",
            "[CV] END max_depth=6, max_features=sqrt, min_samples_leaf=2, min_samples_split=6, n_estimators=80; total time=   0.1s\n",
            "[CV] END max_depth=3, max_features=auto, min_samples_leaf=1, min_samples_split=9, n_estimators=20; total time=   0.0s\n",
            "[CV] END max_depth=3, max_features=auto, min_samples_leaf=1, min_samples_split=9, n_estimators=20; total time=   0.0s\n",
            "[CV] END max_depth=3, max_features=auto, min_samples_leaf=1, min_samples_split=9, n_estimators=20; total time=   0.0s\n",
            "[CV] END max_depth=3, max_features=auto, min_samples_leaf=1, min_samples_split=9, n_estimators=20; total time=   0.0s\n",
            "[CV] END max_depth=3, max_features=auto, min_samples_leaf=1, min_samples_split=9, n_estimators=20; total time=   0.0s\n"
          ]
        },
        {
          "output_type": "stream",
          "name": "stderr",
          "text": [
            "/usr/local/lib/python3.10/dist-packages/sklearn/ensemble/_forest.py:413: FutureWarning: `max_features='auto'` has been deprecated in 1.1 and will be removed in 1.3. To keep the past behaviour, explicitly set `max_features=1.0` or remove this parameter as it is also the default value for RandomForestRegressors and ExtraTreesRegressors.\n",
            "  warn(\n",
            "/usr/local/lib/python3.10/dist-packages/sklearn/ensemble/_forest.py:413: FutureWarning: `max_features='auto'` has been deprecated in 1.1 and will be removed in 1.3. To keep the past behaviour, explicitly set `max_features=1.0` or remove this parameter as it is also the default value for RandomForestRegressors and ExtraTreesRegressors.\n",
            "  warn(\n",
            "/usr/local/lib/python3.10/dist-packages/sklearn/ensemble/_forest.py:413: FutureWarning: `max_features='auto'` has been deprecated in 1.1 and will be removed in 1.3. To keep the past behaviour, explicitly set `max_features=1.0` or remove this parameter as it is also the default value for RandomForestRegressors and ExtraTreesRegressors.\n",
            "  warn(\n",
            "/usr/local/lib/python3.10/dist-packages/sklearn/ensemble/_forest.py:413: FutureWarning: `max_features='auto'` has been deprecated in 1.1 and will be removed in 1.3. To keep the past behaviour, explicitly set `max_features=1.0` or remove this parameter as it is also the default value for RandomForestRegressors and ExtraTreesRegressors.\n",
            "  warn(\n",
            "/usr/local/lib/python3.10/dist-packages/sklearn/ensemble/_forest.py:413: FutureWarning: `max_features='auto'` has been deprecated in 1.1 and will be removed in 1.3. To keep the past behaviour, explicitly set `max_features=1.0` or remove this parameter as it is also the default value for RandomForestRegressors and ExtraTreesRegressors.\n",
            "  warn(\n"
          ]
        },
        {
          "output_type": "stream",
          "name": "stdout",
          "text": [
            "[CV] END max_depth=3, max_features=sqrt, min_samples_leaf=10, min_samples_split=10, n_estimators=90; total time=   0.1s\n",
            "[CV] END max_depth=3, max_features=sqrt, min_samples_leaf=10, min_samples_split=10, n_estimators=90; total time=   0.1s\n",
            "[CV] END max_depth=3, max_features=sqrt, min_samples_leaf=10, min_samples_split=10, n_estimators=90; total time=   0.1s\n",
            "[CV] END max_depth=3, max_features=sqrt, min_samples_leaf=10, min_samples_split=10, n_estimators=90; total time=   0.1s\n",
            "[CV] END max_depth=3, max_features=sqrt, min_samples_leaf=10, min_samples_split=10, n_estimators=90; total time=   0.1s\n",
            "[CV] END max_depth=10, max_features=sqrt, min_samples_leaf=3, min_samples_split=3, n_estimators=100; total time=   0.2s\n",
            "[CV] END max_depth=10, max_features=sqrt, min_samples_leaf=3, min_samples_split=3, n_estimators=100; total time=   0.1s\n",
            "[CV] END max_depth=10, max_features=sqrt, min_samples_leaf=3, min_samples_split=3, n_estimators=100; total time=   0.2s\n",
            "[CV] END max_depth=10, max_features=sqrt, min_samples_leaf=3, min_samples_split=3, n_estimators=100; total time=   0.1s\n",
            "[CV] END max_depth=10, max_features=sqrt, min_samples_leaf=3, min_samples_split=3, n_estimators=100; total time=   0.1s\n",
            "[CV] END max_depth=7, max_features=auto, min_samples_leaf=6, min_samples_split=8, n_estimators=20; total time=   0.0s\n"
          ]
        },
        {
          "output_type": "stream",
          "name": "stderr",
          "text": [
            "/usr/local/lib/python3.10/dist-packages/sklearn/ensemble/_forest.py:413: FutureWarning: `max_features='auto'` has been deprecated in 1.1 and will be removed in 1.3. To keep the past behaviour, explicitly set `max_features=1.0` or remove this parameter as it is also the default value for RandomForestRegressors and ExtraTreesRegressors.\n",
            "  warn(\n",
            "/usr/local/lib/python3.10/dist-packages/sklearn/ensemble/_forest.py:413: FutureWarning: `max_features='auto'` has been deprecated in 1.1 and will be removed in 1.3. To keep the past behaviour, explicitly set `max_features=1.0` or remove this parameter as it is also the default value for RandomForestRegressors and ExtraTreesRegressors.\n",
            "  warn(\n",
            "/usr/local/lib/python3.10/dist-packages/sklearn/ensemble/_forest.py:413: FutureWarning: `max_features='auto'` has been deprecated in 1.1 and will be removed in 1.3. To keep the past behaviour, explicitly set `max_features=1.0` or remove this parameter as it is also the default value for RandomForestRegressors and ExtraTreesRegressors.\n",
            "  warn(\n",
            "/usr/local/lib/python3.10/dist-packages/sklearn/ensemble/_forest.py:413: FutureWarning: `max_features='auto'` has been deprecated in 1.1 and will be removed in 1.3. To keep the past behaviour, explicitly set `max_features=1.0` or remove this parameter as it is also the default value for RandomForestRegressors and ExtraTreesRegressors.\n",
            "  warn(\n",
            "/usr/local/lib/python3.10/dist-packages/sklearn/ensemble/_forest.py:413: FutureWarning: `max_features='auto'` has been deprecated in 1.1 and will be removed in 1.3. To keep the past behaviour, explicitly set `max_features=1.0` or remove this parameter as it is also the default value for RandomForestRegressors and ExtraTreesRegressors.\n",
            "  warn(\n"
          ]
        },
        {
          "output_type": "stream",
          "name": "stdout",
          "text": [
            "[CV] END max_depth=7, max_features=auto, min_samples_leaf=6, min_samples_split=8, n_estimators=20; total time=   0.1s\n",
            "[CV] END max_depth=7, max_features=auto, min_samples_leaf=6, min_samples_split=8, n_estimators=20; total time=   0.0s\n",
            "[CV] END max_depth=7, max_features=auto, min_samples_leaf=6, min_samples_split=8, n_estimators=20; total time=   0.0s\n",
            "[CV] END max_depth=7, max_features=auto, min_samples_leaf=6, min_samples_split=8, n_estimators=20; total time=   0.0s\n",
            "[CV] END max_depth=1, max_features=auto, min_samples_leaf=1, min_samples_split=2, n_estimators=40; total time=   0.1s\n"
          ]
        },
        {
          "output_type": "stream",
          "name": "stderr",
          "text": [
            "/usr/local/lib/python3.10/dist-packages/sklearn/ensemble/_forest.py:413: FutureWarning: `max_features='auto'` has been deprecated in 1.1 and will be removed in 1.3. To keep the past behaviour, explicitly set `max_features=1.0` or remove this parameter as it is also the default value for RandomForestRegressors and ExtraTreesRegressors.\n",
            "  warn(\n",
            "/usr/local/lib/python3.10/dist-packages/sklearn/ensemble/_forest.py:413: FutureWarning: `max_features='auto'` has been deprecated in 1.1 and will be removed in 1.3. To keep the past behaviour, explicitly set `max_features=1.0` or remove this parameter as it is also the default value for RandomForestRegressors and ExtraTreesRegressors.\n",
            "  warn(\n",
            "/usr/local/lib/python3.10/dist-packages/sklearn/ensemble/_forest.py:413: FutureWarning: `max_features='auto'` has been deprecated in 1.1 and will be removed in 1.3. To keep the past behaviour, explicitly set `max_features=1.0` or remove this parameter as it is also the default value for RandomForestRegressors and ExtraTreesRegressors.\n",
            "  warn(\n",
            "/usr/local/lib/python3.10/dist-packages/sklearn/ensemble/_forest.py:413: FutureWarning: `max_features='auto'` has been deprecated in 1.1 and will be removed in 1.3. To keep the past behaviour, explicitly set `max_features=1.0` or remove this parameter as it is also the default value for RandomForestRegressors and ExtraTreesRegressors.\n",
            "  warn(\n"
          ]
        },
        {
          "output_type": "stream",
          "name": "stdout",
          "text": [
            "[CV] END max_depth=1, max_features=auto, min_samples_leaf=1, min_samples_split=2, n_estimators=40; total time=   0.1s\n",
            "[CV] END max_depth=1, max_features=auto, min_samples_leaf=1, min_samples_split=2, n_estimators=40; total time=   0.1s\n",
            "[CV] END max_depth=1, max_features=auto, min_samples_leaf=1, min_samples_split=2, n_estimators=40; total time=   0.1s\n",
            "[CV] END max_depth=1, max_features=auto, min_samples_leaf=1, min_samples_split=2, n_estimators=40; total time=   0.1s\n"
          ]
        },
        {
          "output_type": "stream",
          "name": "stderr",
          "text": [
            "/usr/local/lib/python3.10/dist-packages/sklearn/ensemble/_forest.py:413: FutureWarning: `max_features='auto'` has been deprecated in 1.1 and will be removed in 1.3. To keep the past behaviour, explicitly set `max_features=1.0` or remove this parameter as it is also the default value for RandomForestRegressors and ExtraTreesRegressors.\n",
            "  warn(\n"
          ]
        },
        {
          "output_type": "stream",
          "name": "stdout",
          "text": [
            "[CV] END max_depth=10, max_features=sqrt, min_samples_leaf=5, min_samples_split=6, n_estimators=70; total time=   0.1s\n",
            "[CV] END max_depth=10, max_features=sqrt, min_samples_leaf=5, min_samples_split=6, n_estimators=70; total time=   0.1s\n",
            "[CV] END max_depth=10, max_features=sqrt, min_samples_leaf=5, min_samples_split=6, n_estimators=70; total time=   0.1s\n",
            "[CV] END max_depth=10, max_features=sqrt, min_samples_leaf=5, min_samples_split=6, n_estimators=70; total time=   0.1s\n",
            "[CV] END max_depth=10, max_features=sqrt, min_samples_leaf=5, min_samples_split=6, n_estimators=70; total time=   0.1s\n",
            "[CV] END max_depth=8, max_features=sqrt, min_samples_leaf=3, min_samples_split=8, n_estimators=90; total time=   0.1s\n",
            "[CV] END max_depth=8, max_features=sqrt, min_samples_leaf=3, min_samples_split=8, n_estimators=90; total time=   0.1s\n",
            "[CV] END max_depth=8, max_features=sqrt, min_samples_leaf=3, min_samples_split=8, n_estimators=90; total time=   0.1s\n",
            "[CV] END max_depth=8, max_features=sqrt, min_samples_leaf=3, min_samples_split=8, n_estimators=90; total time=   0.1s\n",
            "[CV] END max_depth=8, max_features=sqrt, min_samples_leaf=3, min_samples_split=8, n_estimators=90; total time=   0.1s\n",
            "[CV] END max_depth=1, max_features=log2, min_samples_leaf=6, min_samples_split=2, n_estimators=80; total time=   0.1s\n",
            "[CV] END max_depth=1, max_features=log2, min_samples_leaf=6, min_samples_split=2, n_estimators=80; total time=   0.1s\n",
            "[CV] END max_depth=1, max_features=log2, min_samples_leaf=6, min_samples_split=2, n_estimators=80; total time=   0.1s\n",
            "[CV] END max_depth=1, max_features=log2, min_samples_leaf=6, min_samples_split=2, n_estimators=80; total time=   0.1s\n",
            "[CV] END max_depth=1, max_features=log2, min_samples_leaf=6, min_samples_split=2, n_estimators=80; total time=   0.1s\n",
            "[CV] END max_depth=1, max_features=log2, min_samples_leaf=8, min_samples_split=9, n_estimators=50; total time=   0.1s\n",
            "[CV] END max_depth=1, max_features=log2, min_samples_leaf=8, min_samples_split=9, n_estimators=50; total time=   0.1s\n",
            "[CV] END max_depth=1, max_features=log2, min_samples_leaf=8, min_samples_split=9, n_estimators=50; total time=   0.1s\n",
            "[CV] END max_depth=1, max_features=log2, min_samples_leaf=8, min_samples_split=9, n_estimators=50; total time=   0.1s\n",
            "[CV] END max_depth=1, max_features=log2, min_samples_leaf=8, min_samples_split=9, n_estimators=50; total time=   0.1s\n",
            "[CV] END max_depth=10, max_features=auto, min_samples_leaf=4, min_samples_split=10, n_estimators=60; total time=   0.1s\n"
          ]
        },
        {
          "output_type": "stream",
          "name": "stderr",
          "text": [
            "/usr/local/lib/python3.10/dist-packages/sklearn/ensemble/_forest.py:413: FutureWarning: `max_features='auto'` has been deprecated in 1.1 and will be removed in 1.3. To keep the past behaviour, explicitly set `max_features=1.0` or remove this parameter as it is also the default value for RandomForestRegressors and ExtraTreesRegressors.\n",
            "  warn(\n",
            "/usr/local/lib/python3.10/dist-packages/sklearn/ensemble/_forest.py:413: FutureWarning: `max_features='auto'` has been deprecated in 1.1 and will be removed in 1.3. To keep the past behaviour, explicitly set `max_features=1.0` or remove this parameter as it is also the default value for RandomForestRegressors and ExtraTreesRegressors.\n",
            "  warn(\n"
          ]
        },
        {
          "output_type": "stream",
          "name": "stdout",
          "text": [
            "[CV] END max_depth=10, max_features=auto, min_samples_leaf=4, min_samples_split=10, n_estimators=60; total time=   0.1s\n",
            "[CV] END max_depth=10, max_features=auto, min_samples_leaf=4, min_samples_split=10, n_estimators=60; total time=   0.1s\n"
          ]
        },
        {
          "output_type": "stream",
          "name": "stderr",
          "text": [
            "/usr/local/lib/python3.10/dist-packages/sklearn/ensemble/_forest.py:413: FutureWarning: `max_features='auto'` has been deprecated in 1.1 and will be removed in 1.3. To keep the past behaviour, explicitly set `max_features=1.0` or remove this parameter as it is also the default value for RandomForestRegressors and ExtraTreesRegressors.\n",
            "  warn(\n",
            "/usr/local/lib/python3.10/dist-packages/sklearn/ensemble/_forest.py:413: FutureWarning: `max_features='auto'` has been deprecated in 1.1 and will be removed in 1.3. To keep the past behaviour, explicitly set `max_features=1.0` or remove this parameter as it is also the default value for RandomForestRegressors and ExtraTreesRegressors.\n",
            "  warn(\n"
          ]
        },
        {
          "output_type": "stream",
          "name": "stdout",
          "text": [
            "[CV] END max_depth=10, max_features=auto, min_samples_leaf=4, min_samples_split=10, n_estimators=60; total time=   0.1s\n",
            "[CV] END max_depth=10, max_features=auto, min_samples_leaf=4, min_samples_split=10, n_estimators=60; total time=   0.1s\n"
          ]
        },
        {
          "output_type": "stream",
          "name": "stderr",
          "text": [
            "/usr/local/lib/python3.10/dist-packages/sklearn/ensemble/_forest.py:413: FutureWarning: `max_features='auto'` has been deprecated in 1.1 and will be removed in 1.3. To keep the past behaviour, explicitly set `max_features=1.0` or remove this parameter as it is also the default value for RandomForestRegressors and ExtraTreesRegressors.\n",
            "  warn(\n",
            "/usr/local/lib/python3.10/dist-packages/sklearn/ensemble/_forest.py:413: FutureWarning: `max_features='auto'` has been deprecated in 1.1 and will be removed in 1.3. To keep the past behaviour, explicitly set `max_features=1.0` or remove this parameter as it is also the default value for RandomForestRegressors and ExtraTreesRegressors.\n",
            "  warn(\n"
          ]
        },
        {
          "output_type": "stream",
          "name": "stdout",
          "text": [
            "[CV] END max_depth=4, max_features=auto, min_samples_leaf=2, min_samples_split=5, n_estimators=90; total time=   0.1s\n",
            "[CV] END max_depth=4, max_features=auto, min_samples_leaf=2, min_samples_split=5, n_estimators=90; total time=   0.1s\n"
          ]
        },
        {
          "output_type": "stream",
          "name": "stderr",
          "text": [
            "/usr/local/lib/python3.10/dist-packages/sklearn/ensemble/_forest.py:413: FutureWarning: `max_features='auto'` has been deprecated in 1.1 and will be removed in 1.3. To keep the past behaviour, explicitly set `max_features=1.0` or remove this parameter as it is also the default value for RandomForestRegressors and ExtraTreesRegressors.\n",
            "  warn(\n",
            "/usr/local/lib/python3.10/dist-packages/sklearn/ensemble/_forest.py:413: FutureWarning: `max_features='auto'` has been deprecated in 1.1 and will be removed in 1.3. To keep the past behaviour, explicitly set `max_features=1.0` or remove this parameter as it is also the default value for RandomForestRegressors and ExtraTreesRegressors.\n",
            "  warn(\n"
          ]
        },
        {
          "output_type": "stream",
          "name": "stdout",
          "text": [
            "[CV] END max_depth=4, max_features=auto, min_samples_leaf=2, min_samples_split=5, n_estimators=90; total time=   0.2s\n",
            "[CV] END max_depth=4, max_features=auto, min_samples_leaf=2, min_samples_split=5, n_estimators=90; total time=   0.1s\n"
          ]
        },
        {
          "output_type": "stream",
          "name": "stderr",
          "text": [
            "/usr/local/lib/python3.10/dist-packages/sklearn/ensemble/_forest.py:413: FutureWarning: `max_features='auto'` has been deprecated in 1.1 and will be removed in 1.3. To keep the past behaviour, explicitly set `max_features=1.0` or remove this parameter as it is also the default value for RandomForestRegressors and ExtraTreesRegressors.\n",
            "  warn(\n",
            "/usr/local/lib/python3.10/dist-packages/sklearn/ensemble/_forest.py:413: FutureWarning: `max_features='auto'` has been deprecated in 1.1 and will be removed in 1.3. To keep the past behaviour, explicitly set `max_features=1.0` or remove this parameter as it is also the default value for RandomForestRegressors and ExtraTreesRegressors.\n",
            "  warn(\n"
          ]
        },
        {
          "output_type": "stream",
          "name": "stdout",
          "text": [
            "[CV] END max_depth=4, max_features=auto, min_samples_leaf=2, min_samples_split=5, n_estimators=90; total time=   0.2s\n",
            "[CV] END max_depth=8, max_features=log2, min_samples_leaf=9, min_samples_split=4, n_estimators=90; total time=   0.1s\n",
            "[CV] END max_depth=8, max_features=log2, min_samples_leaf=9, min_samples_split=4, n_estimators=90; total time=   0.1s\n",
            "[CV] END max_depth=8, max_features=log2, min_samples_leaf=9, min_samples_split=4, n_estimators=90; total time=   0.1s\n",
            "[CV] END max_depth=8, max_features=log2, min_samples_leaf=9, min_samples_split=4, n_estimators=90; total time=   0.1s\n",
            "[CV] END max_depth=8, max_features=log2, min_samples_leaf=9, min_samples_split=4, n_estimators=90; total time=   0.1s\n",
            "[CV] END max_depth=1, max_features=sqrt, min_samples_leaf=6, min_samples_split=5, n_estimators=90; total time=   0.1s\n",
            "[CV] END max_depth=1, max_features=sqrt, min_samples_leaf=6, min_samples_split=5, n_estimators=90; total time=   0.1s\n",
            "[CV] END max_depth=1, max_features=sqrt, min_samples_leaf=6, min_samples_split=5, n_estimators=90; total time=   0.1s\n",
            "[CV] END max_depth=1, max_features=sqrt, min_samples_leaf=6, min_samples_split=5, n_estimators=90; total time=   0.1s\n",
            "[CV] END max_depth=1, max_features=sqrt, min_samples_leaf=6, min_samples_split=5, n_estimators=90; total time=   0.1s\n",
            "[CV] END max_depth=6, max_features=sqrt, min_samples_leaf=3, min_samples_split=5, n_estimators=80; total time=   0.1s\n",
            "[CV] END max_depth=6, max_features=sqrt, min_samples_leaf=3, min_samples_split=5, n_estimators=80; total time=   0.1s\n",
            "[CV] END max_depth=6, max_features=sqrt, min_samples_leaf=3, min_samples_split=5, n_estimators=80; total time=   0.1s\n",
            "[CV] END max_depth=6, max_features=sqrt, min_samples_leaf=3, min_samples_split=5, n_estimators=80; total time=   0.1s\n",
            "[CV] END max_depth=6, max_features=sqrt, min_samples_leaf=3, min_samples_split=5, n_estimators=80; total time=   0.1s\n",
            "[CV] END max_depth=7, max_features=auto, min_samples_leaf=2, min_samples_split=10, n_estimators=20; total time=   0.0s\n"
          ]
        },
        {
          "output_type": "stream",
          "name": "stderr",
          "text": [
            "/usr/local/lib/python3.10/dist-packages/sklearn/ensemble/_forest.py:413: FutureWarning: `max_features='auto'` has been deprecated in 1.1 and will be removed in 1.3. To keep the past behaviour, explicitly set `max_features=1.0` or remove this parameter as it is also the default value for RandomForestRegressors and ExtraTreesRegressors.\n",
            "  warn(\n",
            "/usr/local/lib/python3.10/dist-packages/sklearn/ensemble/_forest.py:413: FutureWarning: `max_features='auto'` has been deprecated in 1.1 and will be removed in 1.3. To keep the past behaviour, explicitly set `max_features=1.0` or remove this parameter as it is also the default value for RandomForestRegressors and ExtraTreesRegressors.\n",
            "  warn(\n",
            "/usr/local/lib/python3.10/dist-packages/sklearn/ensemble/_forest.py:413: FutureWarning: `max_features='auto'` has been deprecated in 1.1 and will be removed in 1.3. To keep the past behaviour, explicitly set `max_features=1.0` or remove this parameter as it is also the default value for RandomForestRegressors and ExtraTreesRegressors.\n",
            "  warn(\n",
            "/usr/local/lib/python3.10/dist-packages/sklearn/ensemble/_forest.py:413: FutureWarning: `max_features='auto'` has been deprecated in 1.1 and will be removed in 1.3. To keep the past behaviour, explicitly set `max_features=1.0` or remove this parameter as it is also the default value for RandomForestRegressors and ExtraTreesRegressors.\n",
            "  warn(\n",
            "/usr/local/lib/python3.10/dist-packages/sklearn/ensemble/_forest.py:413: FutureWarning: `max_features='auto'` has been deprecated in 1.1 and will be removed in 1.3. To keep the past behaviour, explicitly set `max_features=1.0` or remove this parameter as it is also the default value for RandomForestRegressors and ExtraTreesRegressors.\n",
            "  warn(\n"
          ]
        },
        {
          "output_type": "stream",
          "name": "stdout",
          "text": [
            "[CV] END max_depth=7, max_features=auto, min_samples_leaf=2, min_samples_split=10, n_estimators=20; total time=   0.0s\n",
            "[CV] END max_depth=7, max_features=auto, min_samples_leaf=2, min_samples_split=10, n_estimators=20; total time=   0.0s\n",
            "[CV] END max_depth=7, max_features=auto, min_samples_leaf=2, min_samples_split=10, n_estimators=20; total time=   0.0s\n",
            "[CV] END max_depth=7, max_features=auto, min_samples_leaf=2, min_samples_split=10, n_estimators=20; total time=   0.1s\n",
            "[CV] END max_depth=7, max_features=sqrt, min_samples_leaf=7, min_samples_split=4, n_estimators=20; total time=   0.0s\n",
            "[CV] END max_depth=7, max_features=sqrt, min_samples_leaf=7, min_samples_split=4, n_estimators=20; total time=   0.0s\n",
            "[CV] END max_depth=7, max_features=sqrt, min_samples_leaf=7, min_samples_split=4, n_estimators=20; total time=   0.0s\n",
            "[CV] END max_depth=7, max_features=sqrt, min_samples_leaf=7, min_samples_split=4, n_estimators=20; total time=   0.0s\n",
            "[CV] END max_depth=7, max_features=sqrt, min_samples_leaf=7, min_samples_split=4, n_estimators=20; total time=   0.0s\n",
            "[CV] END max_depth=9, max_features=sqrt, min_samples_leaf=2, min_samples_split=2, n_estimators=40; total time=   0.1s\n",
            "[CV] END max_depth=9, max_features=sqrt, min_samples_leaf=2, min_samples_split=2, n_estimators=40; total time=   0.1s\n",
            "[CV] END max_depth=9, max_features=sqrt, min_samples_leaf=2, min_samples_split=2, n_estimators=40; total time=   0.1s\n",
            "[CV] END max_depth=9, max_features=sqrt, min_samples_leaf=2, min_samples_split=2, n_estimators=40; total time=   0.1s\n",
            "[CV] END max_depth=9, max_features=sqrt, min_samples_leaf=2, min_samples_split=2, n_estimators=40; total time=   0.1s\n",
            "[CV] END max_depth=4, max_features=sqrt, min_samples_leaf=5, min_samples_split=9, n_estimators=100; total time=   0.1s\n",
            "[CV] END max_depth=4, max_features=sqrt, min_samples_leaf=5, min_samples_split=9, n_estimators=100; total time=   0.2s\n",
            "[CV] END max_depth=4, max_features=sqrt, min_samples_leaf=5, min_samples_split=9, n_estimators=100; total time=   0.2s\n",
            "[CV] END max_depth=4, max_features=sqrt, min_samples_leaf=5, min_samples_split=9, n_estimators=100; total time=   0.2s\n",
            "[CV] END max_depth=4, max_features=sqrt, min_samples_leaf=5, min_samples_split=9, n_estimators=100; total time=   0.3s\n",
            "[CV] END max_depth=3, max_features=sqrt, min_samples_leaf=1, min_samples_split=4, n_estimators=60; total time=   0.1s\n",
            "[CV] END max_depth=3, max_features=sqrt, min_samples_leaf=1, min_samples_split=4, n_estimators=60; total time=   0.1s\n",
            "[CV] END max_depth=3, max_features=sqrt, min_samples_leaf=1, min_samples_split=4, n_estimators=60; total time=   0.1s\n",
            "[CV] END max_depth=3, max_features=sqrt, min_samples_leaf=1, min_samples_split=4, n_estimators=60; total time=   0.1s\n",
            "[CV] END max_depth=3, max_features=sqrt, min_samples_leaf=1, min_samples_split=4, n_estimators=60; total time=   0.1s\n",
            "[CV] END max_depth=10, max_features=sqrt, min_samples_leaf=5, min_samples_split=2, n_estimators=70; total time=   0.2s\n",
            "[CV] END max_depth=10, max_features=sqrt, min_samples_leaf=5, min_samples_split=2, n_estimators=70; total time=   0.2s\n",
            "[CV] END max_depth=10, max_features=sqrt, min_samples_leaf=5, min_samples_split=2, n_estimators=70; total time=   0.2s\n",
            "[CV] END max_depth=10, max_features=sqrt, min_samples_leaf=5, min_samples_split=2, n_estimators=70; total time=   0.2s\n",
            "[CV] END max_depth=10, max_features=sqrt, min_samples_leaf=5, min_samples_split=2, n_estimators=70; total time=   0.2s\n",
            "[CV] END max_depth=9, max_features=log2, min_samples_leaf=7, min_samples_split=7, n_estimators=10; total time=   0.0s\n",
            "[CV] END max_depth=9, max_features=log2, min_samples_leaf=7, min_samples_split=7, n_estimators=10; total time=   0.0s\n",
            "[CV] END max_depth=9, max_features=log2, min_samples_leaf=7, min_samples_split=7, n_estimators=10; total time=   0.0s\n",
            "[CV] END max_depth=9, max_features=log2, min_samples_leaf=7, min_samples_split=7, n_estimators=10; total time=   0.0s\n",
            "[CV] END max_depth=9, max_features=log2, min_samples_leaf=7, min_samples_split=7, n_estimators=10; total time=   0.0s\n",
            "[CV] END max_depth=3, max_features=log2, min_samples_leaf=4, min_samples_split=3, n_estimators=60; total time=   0.2s\n",
            "[CV] END max_depth=3, max_features=log2, min_samples_leaf=4, min_samples_split=3, n_estimators=60; total time=   0.2s\n",
            "[CV] END max_depth=3, max_features=log2, min_samples_leaf=4, min_samples_split=3, n_estimators=60; total time=   0.2s\n",
            "[CV] END max_depth=3, max_features=log2, min_samples_leaf=4, min_samples_split=3, n_estimators=60; total time=   0.2s\n",
            "[CV] END max_depth=3, max_features=log2, min_samples_leaf=4, min_samples_split=3, n_estimators=60; total time=   0.1s\n",
            "[CV] END max_depth=1, max_features=sqrt, min_samples_leaf=6, min_samples_split=2, n_estimators=100; total time=   0.2s\n",
            "[CV] END max_depth=1, max_features=sqrt, min_samples_leaf=6, min_samples_split=2, n_estimators=100; total time=   0.2s\n",
            "[CV] END max_depth=1, max_features=sqrt, min_samples_leaf=6, min_samples_split=2, n_estimators=100; total time=   0.2s\n",
            "[CV] END max_depth=1, max_features=sqrt, min_samples_leaf=6, min_samples_split=2, n_estimators=100; total time=   0.2s\n",
            "[CV] END max_depth=1, max_features=sqrt, min_samples_leaf=6, min_samples_split=2, n_estimators=100; total time=   0.2s\n"
          ]
        },
        {
          "output_type": "execute_result",
          "data": {
            "text/plain": [
              "RandomizedSearchCV(cv=5, estimator=RandomForestRegressor(), n_iter=100,\n",
              "                   param_distributions={'max_depth': [1, 2, 3, 4, 5, 6, 7, 8, 9,\n",
              "                                                      10],\n",
              "                                        'max_features': ['auto', 'sqrt',\n",
              "                                                         'log2'],\n",
              "                                        'min_samples_leaf': [1, 2, 3, 4, 5, 6,\n",
              "                                                             7, 8, 9, 10],\n",
              "                                        'min_samples_split': [2, 3, 4, 5, 6, 7,\n",
              "                                                              8, 9, 10],\n",
              "                                        'n_estimators': [10, 20, 30, 40, 50, 60,\n",
              "                                                         70, 80, 90, 100]},\n",
              "                   verbose=2)"
            ],
            "text/html": [
              "<style>#sk-container-id-13 {color: black;background-color: white;}#sk-container-id-13 pre{padding: 0;}#sk-container-id-13 div.sk-toggleable {background-color: white;}#sk-container-id-13 label.sk-toggleable__label {cursor: pointer;display: block;width: 100%;margin-bottom: 0;padding: 0.3em;box-sizing: border-box;text-align: center;}#sk-container-id-13 label.sk-toggleable__label-arrow:before {content: \"▸\";float: left;margin-right: 0.25em;color: #696969;}#sk-container-id-13 label.sk-toggleable__label-arrow:hover:before {color: black;}#sk-container-id-13 div.sk-estimator:hover label.sk-toggleable__label-arrow:before {color: black;}#sk-container-id-13 div.sk-toggleable__content {max-height: 0;max-width: 0;overflow: hidden;text-align: left;background-color: #f0f8ff;}#sk-container-id-13 div.sk-toggleable__content pre {margin: 0.2em;color: black;border-radius: 0.25em;background-color: #f0f8ff;}#sk-container-id-13 input.sk-toggleable__control:checked~div.sk-toggleable__content {max-height: 200px;max-width: 100%;overflow: auto;}#sk-container-id-13 input.sk-toggleable__control:checked~label.sk-toggleable__label-arrow:before {content: \"▾\";}#sk-container-id-13 div.sk-estimator input.sk-toggleable__control:checked~label.sk-toggleable__label {background-color: #d4ebff;}#sk-container-id-13 div.sk-label input.sk-toggleable__control:checked~label.sk-toggleable__label {background-color: #d4ebff;}#sk-container-id-13 input.sk-hidden--visually {border: 0;clip: rect(1px 1px 1px 1px);clip: rect(1px, 1px, 1px, 1px);height: 1px;margin: -1px;overflow: hidden;padding: 0;position: absolute;width: 1px;}#sk-container-id-13 div.sk-estimator {font-family: monospace;background-color: #f0f8ff;border: 1px dotted black;border-radius: 0.25em;box-sizing: border-box;margin-bottom: 0.5em;}#sk-container-id-13 div.sk-estimator:hover {background-color: #d4ebff;}#sk-container-id-13 div.sk-parallel-item::after {content: \"\";width: 100%;border-bottom: 1px solid gray;flex-grow: 1;}#sk-container-id-13 div.sk-label:hover label.sk-toggleable__label {background-color: #d4ebff;}#sk-container-id-13 div.sk-serial::before {content: \"\";position: absolute;border-left: 1px solid gray;box-sizing: border-box;top: 0;bottom: 0;left: 50%;z-index: 0;}#sk-container-id-13 div.sk-serial {display: flex;flex-direction: column;align-items: center;background-color: white;padding-right: 0.2em;padding-left: 0.2em;position: relative;}#sk-container-id-13 div.sk-item {position: relative;z-index: 1;}#sk-container-id-13 div.sk-parallel {display: flex;align-items: stretch;justify-content: center;background-color: white;position: relative;}#sk-container-id-13 div.sk-item::before, #sk-container-id-13 div.sk-parallel-item::before {content: \"\";position: absolute;border-left: 1px solid gray;box-sizing: border-box;top: 0;bottom: 0;left: 50%;z-index: -1;}#sk-container-id-13 div.sk-parallel-item {display: flex;flex-direction: column;z-index: 1;position: relative;background-color: white;}#sk-container-id-13 div.sk-parallel-item:first-child::after {align-self: flex-end;width: 50%;}#sk-container-id-13 div.sk-parallel-item:last-child::after {align-self: flex-start;width: 50%;}#sk-container-id-13 div.sk-parallel-item:only-child::after {width: 0;}#sk-container-id-13 div.sk-dashed-wrapped {border: 1px dashed gray;margin: 0 0.4em 0.5em 0.4em;box-sizing: border-box;padding-bottom: 0.4em;background-color: white;}#sk-container-id-13 div.sk-label label {font-family: monospace;font-weight: bold;display: inline-block;line-height: 1.2em;}#sk-container-id-13 div.sk-label-container {text-align: center;}#sk-container-id-13 div.sk-container {/* jupyter's `normalize.less` sets `[hidden] { display: none; }` but bootstrap.min.css set `[hidden] { display: none !important; }` so we also need the `!important` here to be able to override the default hidden behavior on the sphinx rendered scikit-learn.org. See: https://github.com/scikit-learn/scikit-learn/issues/21755 */display: inline-block !important;position: relative;}#sk-container-id-13 div.sk-text-repr-fallback {display: none;}</style><div id=\"sk-container-id-13\" class=\"sk-top-container\"><div class=\"sk-text-repr-fallback\"><pre>RandomizedSearchCV(cv=5, estimator=RandomForestRegressor(), n_iter=100,\n",
              "                   param_distributions={&#x27;max_depth&#x27;: [1, 2, 3, 4, 5, 6, 7, 8, 9,\n",
              "                                                      10],\n",
              "                                        &#x27;max_features&#x27;: [&#x27;auto&#x27;, &#x27;sqrt&#x27;,\n",
              "                                                         &#x27;log2&#x27;],\n",
              "                                        &#x27;min_samples_leaf&#x27;: [1, 2, 3, 4, 5, 6,\n",
              "                                                             7, 8, 9, 10],\n",
              "                                        &#x27;min_samples_split&#x27;: [2, 3, 4, 5, 6, 7,\n",
              "                                                              8, 9, 10],\n",
              "                                        &#x27;n_estimators&#x27;: [10, 20, 30, 40, 50, 60,\n",
              "                                                         70, 80, 90, 100]},\n",
              "                   verbose=2)</pre><b>In a Jupyter environment, please rerun this cell to show the HTML representation or trust the notebook. <br />On GitHub, the HTML representation is unable to render, please try loading this page with nbviewer.org.</b></div><div class=\"sk-container\" hidden><div class=\"sk-item sk-dashed-wrapped\"><div class=\"sk-label-container\"><div class=\"sk-label sk-toggleable\"><input class=\"sk-toggleable__control sk-hidden--visually\" id=\"sk-estimator-id-25\" type=\"checkbox\" ><label for=\"sk-estimator-id-25\" class=\"sk-toggleable__label sk-toggleable__label-arrow\">RandomizedSearchCV</label><div class=\"sk-toggleable__content\"><pre>RandomizedSearchCV(cv=5, estimator=RandomForestRegressor(), n_iter=100,\n",
              "                   param_distributions={&#x27;max_depth&#x27;: [1, 2, 3, 4, 5, 6, 7, 8, 9,\n",
              "                                                      10],\n",
              "                                        &#x27;max_features&#x27;: [&#x27;auto&#x27;, &#x27;sqrt&#x27;,\n",
              "                                                         &#x27;log2&#x27;],\n",
              "                                        &#x27;min_samples_leaf&#x27;: [1, 2, 3, 4, 5, 6,\n",
              "                                                             7, 8, 9, 10],\n",
              "                                        &#x27;min_samples_split&#x27;: [2, 3, 4, 5, 6, 7,\n",
              "                                                              8, 9, 10],\n",
              "                                        &#x27;n_estimators&#x27;: [10, 20, 30, 40, 50, 60,\n",
              "                                                         70, 80, 90, 100]},\n",
              "                   verbose=2)</pre></div></div></div><div class=\"sk-parallel\"><div class=\"sk-parallel-item\"><div class=\"sk-item\"><div class=\"sk-label-container\"><div class=\"sk-label sk-toggleable\"><input class=\"sk-toggleable__control sk-hidden--visually\" id=\"sk-estimator-id-26\" type=\"checkbox\" ><label for=\"sk-estimator-id-26\" class=\"sk-toggleable__label sk-toggleable__label-arrow\">estimator: RandomForestRegressor</label><div class=\"sk-toggleable__content\"><pre>RandomForestRegressor()</pre></div></div></div><div class=\"sk-serial\"><div class=\"sk-item\"><div class=\"sk-estimator sk-toggleable\"><input class=\"sk-toggleable__control sk-hidden--visually\" id=\"sk-estimator-id-27\" type=\"checkbox\" ><label for=\"sk-estimator-id-27\" class=\"sk-toggleable__label sk-toggleable__label-arrow\">RandomForestRegressor</label><div class=\"sk-toggleable__content\"><pre>RandomForestRegressor()</pre></div></div></div></div></div></div></div></div></div></div>"
            ]
          },
          "metadata": {},
          "execution_count": 111
        }
      ]
    },
    {
      "cell_type": "code",
      "source": [
        "ee.best_params_"
      ],
      "metadata": {
        "colab": {
          "base_uri": "https://localhost:8080/"
        },
        "id": "u_iuqjpKdPGa",
        "outputId": "594026b1-7400-4bed-e4ad-416fe0d7b9be"
      },
      "execution_count": 112,
      "outputs": [
        {
          "output_type": "execute_result",
          "data": {
            "text/plain": [
              "{'n_estimators': 60,\n",
              " 'min_samples_split': 3,\n",
              " 'min_samples_leaf': 1,\n",
              " 'max_features': 'log2',\n",
              " 'max_depth': 8}"
            ]
          },
          "metadata": {},
          "execution_count": 112
        }
      ]
    },
    {
      "cell_type": "markdown",
      "source": [
        "**random forest with hyperparameter tuning**"
      ],
      "metadata": {
        "id": "2nMnZLKQdvZ2"
      }
    },
    {
      "cell_type": "code",
      "source": [
        "from sklearn.ensemble import RandomForestRegressor\n",
        "model5=RandomForestRegressor(n_estimators=60,\n",
        " min_samples_split=3,\n",
        " min_samples_leaf=1,\n",
        " max_features='log2',\n",
        " max_depth=8)\n",
        "model5.fit(xtrain,ytrain)"
      ],
      "metadata": {
        "colab": {
          "base_uri": "https://localhost:8080/",
          "height": 92
        },
        "id": "eBHeVCbzdujS",
        "outputId": "f55db9f8-23ac-4bec-f6a7-74b37ef98895"
      },
      "execution_count": 117,
      "outputs": [
        {
          "output_type": "execute_result",
          "data": {
            "text/plain": [
              "RandomForestRegressor(max_depth=8, max_features='log2', min_samples_split=3,\n",
              "                      n_estimators=60)"
            ],
            "text/html": [
              "<style>#sk-container-id-16 {color: black;background-color: white;}#sk-container-id-16 pre{padding: 0;}#sk-container-id-16 div.sk-toggleable {background-color: white;}#sk-container-id-16 label.sk-toggleable__label {cursor: pointer;display: block;width: 100%;margin-bottom: 0;padding: 0.3em;box-sizing: border-box;text-align: center;}#sk-container-id-16 label.sk-toggleable__label-arrow:before {content: \"▸\";float: left;margin-right: 0.25em;color: #696969;}#sk-container-id-16 label.sk-toggleable__label-arrow:hover:before {color: black;}#sk-container-id-16 div.sk-estimator:hover label.sk-toggleable__label-arrow:before {color: black;}#sk-container-id-16 div.sk-toggleable__content {max-height: 0;max-width: 0;overflow: hidden;text-align: left;background-color: #f0f8ff;}#sk-container-id-16 div.sk-toggleable__content pre {margin: 0.2em;color: black;border-radius: 0.25em;background-color: #f0f8ff;}#sk-container-id-16 input.sk-toggleable__control:checked~div.sk-toggleable__content {max-height: 200px;max-width: 100%;overflow: auto;}#sk-container-id-16 input.sk-toggleable__control:checked~label.sk-toggleable__label-arrow:before {content: \"▾\";}#sk-container-id-16 div.sk-estimator input.sk-toggleable__control:checked~label.sk-toggleable__label {background-color: #d4ebff;}#sk-container-id-16 div.sk-label input.sk-toggleable__control:checked~label.sk-toggleable__label {background-color: #d4ebff;}#sk-container-id-16 input.sk-hidden--visually {border: 0;clip: rect(1px 1px 1px 1px);clip: rect(1px, 1px, 1px, 1px);height: 1px;margin: -1px;overflow: hidden;padding: 0;position: absolute;width: 1px;}#sk-container-id-16 div.sk-estimator {font-family: monospace;background-color: #f0f8ff;border: 1px dotted black;border-radius: 0.25em;box-sizing: border-box;margin-bottom: 0.5em;}#sk-container-id-16 div.sk-estimator:hover {background-color: #d4ebff;}#sk-container-id-16 div.sk-parallel-item::after {content: \"\";width: 100%;border-bottom: 1px solid gray;flex-grow: 1;}#sk-container-id-16 div.sk-label:hover label.sk-toggleable__label {background-color: #d4ebff;}#sk-container-id-16 div.sk-serial::before {content: \"\";position: absolute;border-left: 1px solid gray;box-sizing: border-box;top: 0;bottom: 0;left: 50%;z-index: 0;}#sk-container-id-16 div.sk-serial {display: flex;flex-direction: column;align-items: center;background-color: white;padding-right: 0.2em;padding-left: 0.2em;position: relative;}#sk-container-id-16 div.sk-item {position: relative;z-index: 1;}#sk-container-id-16 div.sk-parallel {display: flex;align-items: stretch;justify-content: center;background-color: white;position: relative;}#sk-container-id-16 div.sk-item::before, #sk-container-id-16 div.sk-parallel-item::before {content: \"\";position: absolute;border-left: 1px solid gray;box-sizing: border-box;top: 0;bottom: 0;left: 50%;z-index: -1;}#sk-container-id-16 div.sk-parallel-item {display: flex;flex-direction: column;z-index: 1;position: relative;background-color: white;}#sk-container-id-16 div.sk-parallel-item:first-child::after {align-self: flex-end;width: 50%;}#sk-container-id-16 div.sk-parallel-item:last-child::after {align-self: flex-start;width: 50%;}#sk-container-id-16 div.sk-parallel-item:only-child::after {width: 0;}#sk-container-id-16 div.sk-dashed-wrapped {border: 1px dashed gray;margin: 0 0.4em 0.5em 0.4em;box-sizing: border-box;padding-bottom: 0.4em;background-color: white;}#sk-container-id-16 div.sk-label label {font-family: monospace;font-weight: bold;display: inline-block;line-height: 1.2em;}#sk-container-id-16 div.sk-label-container {text-align: center;}#sk-container-id-16 div.sk-container {/* jupyter's `normalize.less` sets `[hidden] { display: none; }` but bootstrap.min.css set `[hidden] { display: none !important; }` so we also need the `!important` here to be able to override the default hidden behavior on the sphinx rendered scikit-learn.org. See: https://github.com/scikit-learn/scikit-learn/issues/21755 */display: inline-block !important;position: relative;}#sk-container-id-16 div.sk-text-repr-fallback {display: none;}</style><div id=\"sk-container-id-16\" class=\"sk-top-container\"><div class=\"sk-text-repr-fallback\"><pre>RandomForestRegressor(max_depth=8, max_features=&#x27;log2&#x27;, min_samples_split=3,\n",
              "                      n_estimators=60)</pre><b>In a Jupyter environment, please rerun this cell to show the HTML representation or trust the notebook. <br />On GitHub, the HTML representation is unable to render, please try loading this page with nbviewer.org.</b></div><div class=\"sk-container\" hidden><div class=\"sk-item\"><div class=\"sk-estimator sk-toggleable\"><input class=\"sk-toggleable__control sk-hidden--visually\" id=\"sk-estimator-id-30\" type=\"checkbox\" checked><label for=\"sk-estimator-id-30\" class=\"sk-toggleable__label sk-toggleable__label-arrow\">RandomForestRegressor</label><div class=\"sk-toggleable__content\"><pre>RandomForestRegressor(max_depth=8, max_features=&#x27;log2&#x27;, min_samples_split=3,\n",
              "                      n_estimators=60)</pre></div></div></div></div></div>"
            ]
          },
          "metadata": {},
          "execution_count": 117
        }
      ]
    },
    {
      "cell_type": "code",
      "source": [
        "model5.score(xtest,ytest)"
      ],
      "metadata": {
        "colab": {
          "base_uri": "https://localhost:8080/"
        },
        "id": "0NfpRqf3d231",
        "outputId": "89bc6976-4ebb-4889-9f27-15bb0fc0a960"
      },
      "execution_count": 118,
      "outputs": [
        {
          "output_type": "execute_result",
          "data": {
            "text/plain": [
              "0.6978315262224345"
            ]
          },
          "metadata": {},
          "execution_count": 118
        }
      ]
    },
    {
      "cell_type": "markdown",
      "source": [
        "**ANN**"
      ],
      "metadata": {
        "id": "lwEdsDUfeut_"
      }
    },
    {
      "cell_type": "code",
      "source": [
        "import tensorflow"
      ],
      "metadata": {
        "id": "hzptV2LeetYw"
      },
      "execution_count": 122,
      "outputs": []
    },
    {
      "cell_type": "code",
      "source": [
        "model=tensorflow.keras.Sequential([\n",
        "    tensorflow.keras.layers.Dense(164,activation='relu'),\n",
        "    tensorflow.keras.layers.Dense(128,activation='relu'),\n",
        "    tensorflow.keras.layers.Dense(164,activation='relu'),\n",
        "    tensorflow.keras.layers.Dense(128,activation='relu'),\n",
        "    tensorflow.keras.layers.Dense(116,activation='relu'),\n",
        "    tensorflow.keras.layers.Dense(32,activation='relu'),\n",
        "    tensorflow.keras.layers.Dense(1,activation='linear')\n",
        "])"
      ],
      "metadata": {
        "id": "4IYL8tkietbZ"
      },
      "execution_count": 191,
      "outputs": []
    },
    {
      "cell_type": "code",
      "source": [
        "model.summary()"
      ],
      "metadata": {
        "colab": {
          "base_uri": "https://localhost:8080/"
        },
        "id": "SJhHJFG1gXUw",
        "outputId": "fd802b00-b51b-4280-c8f5-c6ad5c45f7ce"
      },
      "execution_count": 214,
      "outputs": [
        {
          "output_type": "stream",
          "name": "stdout",
          "text": [
            "Model: \"sequential_15\"\n",
            "_________________________________________________________________\n",
            " Layer (type)                Output Shape              Param #   \n",
            "=================================================================\n",
            " dense_85 (Dense)            (None, 164)               2132      \n",
            "                                                                 \n",
            " dense_86 (Dense)            (None, 128)               21120     \n",
            "                                                                 \n",
            " dense_87 (Dense)            (None, 164)               21156     \n",
            "                                                                 \n",
            " dense_88 (Dense)            (None, 128)               21120     \n",
            "                                                                 \n",
            " dense_89 (Dense)            (None, 116)               14964     \n",
            "                                                                 \n",
            " dense_90 (Dense)            (None, 32)                3744      \n",
            "                                                                 \n",
            " dense_91 (Dense)            (None, 1)                 33        \n",
            "                                                                 \n",
            "=================================================================\n",
            "Total params: 84269 (329.18 KB)\n",
            "Trainable params: 84269 (329.18 KB)\n",
            "Non-trainable params: 0 (0.00 Byte)\n",
            "_________________________________________________________________\n"
          ]
        }
      ]
    },
    {
      "cell_type": "code",
      "source": [],
      "metadata": {
        "id": "fT0Y_zMFgXq0"
      },
      "execution_count": null,
      "outputs": []
    },
    {
      "cell_type": "code",
      "source": [
        "model.compile(optimizer=tensorflow.keras.optimizers.Adam(lr=0.1),loss='mean_absolute_error',metrics=['mean_squared_error'])"
      ],
      "metadata": {
        "colab": {
          "base_uri": "https://localhost:8080/"
        },
        "id": "h5qCn1g7eteE",
        "outputId": "893df47b-25c6-46b5-8b11-9f18e9f606a7"
      },
      "execution_count": 195,
      "outputs": [
        {
          "output_type": "stream",
          "name": "stderr",
          "text": [
            "WARNING:absl:`lr` is deprecated in Keras optimizer, please use `learning_rate` or use the legacy optimizer, e.g.,tf.keras.optimizers.legacy.Adam.\n"
          ]
        }
      ]
    },
    {
      "cell_type": "code",
      "source": [
        "model.fit(xtrain,ytrain,epochs=200,validation_data=(xtest,ytest))"
      ],
      "metadata": {
        "colab": {
          "base_uri": "https://localhost:8080/"
        },
        "id": "sUkRIFWyetgt",
        "outputId": "a899915c-04c6-41c4-b186-d7be86627fe6"
      },
      "execution_count": 201,
      "outputs": [
        {
          "output_type": "stream",
          "name": "stdout",
          "text": [
            "Epoch 1/200\n",
            "14/14 [==============================] - 0s 19ms/step - loss: 869083.4375 - mean_squared_error: 1493708177408.0000 - val_loss: 720433.5625 - val_mean_squared_error: 902011486208.0000\n",
            "Epoch 2/200\n",
            "14/14 [==============================] - 0s 12ms/step - loss: 859919.6250 - mean_squared_error: 1458635538432.0000 - val_loss: 809423.0625 - val_mean_squared_error: 1076571013120.0000\n",
            "Epoch 3/200\n",
            "14/14 [==============================] - 0s 15ms/step - loss: 885639.0000 - mean_squared_error: 1502009360384.0000 - val_loss: 785170.1875 - val_mean_squared_error: 1025823080448.0000\n",
            "Epoch 4/200\n",
            "14/14 [==============================] - 0s 12ms/step - loss: 876285.6250 - mean_squared_error: 1506412331008.0000 - val_loss: 848515.0000 - val_mean_squared_error: 1162694492160.0000\n",
            "Epoch 5/200\n",
            "14/14 [==============================] - 0s 14ms/step - loss: 902095.6250 - mean_squared_error: 1565362749440.0000 - val_loss: 682162.9375 - val_mean_squared_error: 883617824768.0000\n",
            "Epoch 6/200\n",
            "14/14 [==============================] - 0s 13ms/step - loss: 887584.2500 - mean_squared_error: 1524399865856.0000 - val_loss: 735058.9375 - val_mean_squared_error: 930815803392.0000\n",
            "Epoch 7/200\n",
            "14/14 [==============================] - 0s 6ms/step - loss: 889912.5625 - mean_squared_error: 1533850681344.0000 - val_loss: 745836.6875 - val_mean_squared_error: 1017873367040.0000\n",
            "Epoch 8/200\n",
            "14/14 [==============================] - 0s 6ms/step - loss: 999577.2500 - mean_squared_error: 1830792724480.0000 - val_loss: 682477.6250 - val_mean_squared_error: 883530006528.0000\n",
            "Epoch 9/200\n",
            "14/14 [==============================] - 0s 9ms/step - loss: 895377.3750 - mean_squared_error: 1565510074368.0000 - val_loss: 936918.1875 - val_mean_squared_error: 1402596491264.0000\n",
            "Epoch 10/200\n",
            "14/14 [==============================] - 0s 17ms/step - loss: 895705.3125 - mean_squared_error: 1508116529152.0000 - val_loss: 785367.0000 - val_mean_squared_error: 1026264530944.0000\n",
            "Epoch 11/200\n",
            "14/14 [==============================] - 0s 19ms/step - loss: 864570.6875 - mean_squared_error: 1492306231296.0000 - val_loss: 810974.3750 - val_mean_squared_error: 1078672883712.0000\n",
            "Epoch 12/200\n",
            "14/14 [==============================] - 0s 20ms/step - loss: 884971.1250 - mean_squared_error: 1511680114688.0000 - val_loss: 755554.2500 - val_mean_squared_error: 969712140288.0000\n",
            "Epoch 13/200\n",
            "14/14 [==============================] - 0s 16ms/step - loss: 880662.6250 - mean_squared_error: 1501715103744.0000 - val_loss: 688112.7500 - val_mean_squared_error: 899394764800.0000\n",
            "Epoch 14/200\n",
            "14/14 [==============================] - 0s 10ms/step - loss: 903847.6250 - mean_squared_error: 1537343356928.0000 - val_loss: 710130.0625 - val_mean_squared_error: 887327883264.0000\n",
            "Epoch 15/200\n",
            "14/14 [==============================] - 0s 14ms/step - loss: 879900.6875 - mean_squared_error: 1524447051776.0000 - val_loss: 736476.3125 - val_mean_squared_error: 931547971584.0000\n",
            "Epoch 16/200\n",
            "14/14 [==============================] - 0s 15ms/step - loss: 890602.4375 - mean_squared_error: 1520664707072.0000 - val_loss: 679153.2500 - val_mean_squared_error: 863299043328.0000\n",
            "Epoch 17/200\n",
            "14/14 [==============================] - 0s 13ms/step - loss: 865006.0000 - mean_squared_error: 1467935490048.0000 - val_loss: 758160.0625 - val_mean_squared_error: 973004341248.0000\n",
            "Epoch 18/200\n",
            "14/14 [==============================] - 0s 12ms/step - loss: 873303.7500 - mean_squared_error: 1475882647552.0000 - val_loss: 704030.8125 - val_mean_squared_error: 875180916736.0000\n",
            "Epoch 19/200\n",
            "14/14 [==============================] - 0s 14ms/step - loss: 873406.0625 - mean_squared_error: 1503394529280.0000 - val_loss: 677680.7500 - val_mean_squared_error: 860873883648.0000\n",
            "Epoch 20/200\n",
            "14/14 [==============================] - 0s 10ms/step - loss: 875548.6250 - mean_squared_error: 1490015092736.0000 - val_loss: 722854.2500 - val_mean_squared_error: 908734627840.0000\n",
            "Epoch 21/200\n",
            "14/14 [==============================] - 0s 10ms/step - loss: 853244.7500 - mean_squared_error: 1424649879552.0000 - val_loss: 678404.1875 - val_mean_squared_error: 878249574400.0000\n",
            "Epoch 22/200\n",
            "14/14 [==============================] - 0s 14ms/step - loss: 880718.3750 - mean_squared_error: 1566297817088.0000 - val_loss: 742736.0000 - val_mean_squared_error: 946524717056.0000\n",
            "Epoch 23/200\n",
            "14/14 [==============================] - 0s 12ms/step - loss: 874202.5625 - mean_squared_error: 1519049768960.0000 - val_loss: 731391.8750 - val_mean_squared_error: 922924089344.0000\n",
            "Epoch 24/200\n",
            "14/14 [==============================] - 0s 12ms/step - loss: 867249.3125 - mean_squared_error: 1480679358464.0000 - val_loss: 683279.2500 - val_mean_squared_error: 855939088384.0000\n",
            "Epoch 25/200\n",
            "14/14 [==============================] - 0s 10ms/step - loss: 879888.3750 - mean_squared_error: 1494772088832.0000 - val_loss: 674999.5625 - val_mean_squared_error: 862437113856.0000\n",
            "Epoch 26/200\n",
            "14/14 [==============================] - 0s 12ms/step - loss: 876011.4375 - mean_squared_error: 1487420522496.0000 - val_loss: 727752.8750 - val_mean_squared_error: 916461584384.0000\n",
            "Epoch 27/200\n",
            "14/14 [==============================] - 0s 11ms/step - loss: 879720.7500 - mean_squared_error: 1524209549312.0000 - val_loss: 683566.6875 - val_mean_squared_error: 851573800960.0000\n",
            "Epoch 28/200\n",
            "14/14 [==============================] - 0s 13ms/step - loss: 868286.5625 - mean_squared_error: 1494155657216.0000 - val_loss: 799546.3750 - val_mean_squared_error: 1055351242752.0000\n",
            "Epoch 29/200\n",
            "14/14 [==============================] - 0s 16ms/step - loss: 889761.9375 - mean_squared_error: 1497426558976.0000 - val_loss: 695502.6875 - val_mean_squared_error: 863892078592.0000\n",
            "Epoch 30/200\n",
            "14/14 [==============================] - 0s 11ms/step - loss: 859323.9375 - mean_squared_error: 1459057065984.0000 - val_loss: 723803.0000 - val_mean_squared_error: 910553907200.0000\n",
            "Epoch 31/200\n",
            "14/14 [==============================] - 0s 22ms/step - loss: 855305.3125 - mean_squared_error: 1460353499136.0000 - val_loss: 754557.7500 - val_mean_squared_error: 965484609536.0000\n",
            "Epoch 32/200\n",
            "14/14 [==============================] - 0s 17ms/step - loss: 856550.4375 - mean_squared_error: 1451686232064.0000 - val_loss: 679002.1250 - val_mean_squared_error: 852259766272.0000\n",
            "Epoch 33/200\n",
            "14/14 [==============================] - 0s 6ms/step - loss: 881474.8125 - mean_squared_error: 1440519290880.0000 - val_loss: 688020.6250 - val_mean_squared_error: 902629294080.0000\n",
            "Epoch 34/200\n",
            "14/14 [==============================] - 0s 7ms/step - loss: 880009.4375 - mean_squared_error: 1546876747776.0000 - val_loss: 807746.0000 - val_mean_squared_error: 1072808198144.0000\n",
            "Epoch 35/200\n",
            "14/14 [==============================] - 0s 9ms/step - loss: 879048.3125 - mean_squared_error: 1487650684928.0000 - val_loss: 832935.7500 - val_mean_squared_error: 1128641462272.0000\n",
            "Epoch 36/200\n",
            "14/14 [==============================] - 0s 6ms/step - loss: 927932.3750 - mean_squared_error: 1576087715840.0000 - val_loss: 810560.7500 - val_mean_squared_error: 1079120429056.0000\n",
            "Epoch 37/200\n",
            "14/14 [==============================] - 0s 6ms/step - loss: 877035.3125 - mean_squared_error: 1436104261632.0000 - val_loss: 676975.0000 - val_mean_squared_error: 879810379776.0000\n",
            "Epoch 38/200\n",
            "14/14 [==============================] - 0s 6ms/step - loss: 884300.2500 - mean_squared_error: 1541315887104.0000 - val_loss: 676630.8750 - val_mean_squared_error: 852269793280.0000\n",
            "Epoch 39/200\n",
            "14/14 [==============================] - 0s 7ms/step - loss: 856809.7500 - mean_squared_error: 1471449399296.0000 - val_loss: 690608.0000 - val_mean_squared_error: 859204026368.0000\n",
            "Epoch 40/200\n",
            "14/14 [==============================] - 0s 7ms/step - loss: 865611.0000 - mean_squared_error: 1486917861376.0000 - val_loss: 730810.4375 - val_mean_squared_error: 922635141120.0000\n",
            "Epoch 41/200\n",
            "14/14 [==============================] - 0s 6ms/step - loss: 861499.6875 - mean_squared_error: 1436053012480.0000 - val_loss: 728877.3125 - val_mean_squared_error: 916156841984.0000\n",
            "Epoch 42/200\n",
            "14/14 [==============================] - 0s 6ms/step - loss: 861686.0625 - mean_squared_error: 1450404085760.0000 - val_loss: 675891.6250 - val_mean_squared_error: 842114596864.0000\n",
            "Epoch 43/200\n",
            "14/14 [==============================] - 0s 5ms/step - loss: 864759.0000 - mean_squared_error: 1477163745280.0000 - val_loss: 683495.9375 - val_mean_squared_error: 846361133056.0000\n",
            "Epoch 44/200\n",
            "14/14 [==============================] - 0s 7ms/step - loss: 906065.2500 - mean_squared_error: 1591295868928.0000 - val_loss: 756550.6875 - val_mean_squared_error: 969413099520.0000\n",
            "Epoch 45/200\n",
            "14/14 [==============================] - 0s 8ms/step - loss: 894452.0625 - mean_squared_error: 1491400785920.0000 - val_loss: 865452.9375 - val_mean_squared_error: 1209343148032.0000\n",
            "Epoch 46/200\n",
            "14/14 [==============================] - 0s 7ms/step - loss: 871391.1250 - mean_squared_error: 1470136057856.0000 - val_loss: 712629.8750 - val_mean_squared_error: 890644267008.0000\n",
            "Epoch 47/200\n",
            "14/14 [==============================] - 0s 6ms/step - loss: 858682.0000 - mean_squared_error: 1476425154560.0000 - val_loss: 734958.2500 - val_mean_squared_error: 929805828096.0000\n",
            "Epoch 48/200\n",
            "14/14 [==============================] - 0s 6ms/step - loss: 853997.6250 - mean_squared_error: 1436151840768.0000 - val_loss: 681493.4375 - val_mean_squared_error: 844215222272.0000\n",
            "Epoch 49/200\n",
            "14/14 [==============================] - 0s 6ms/step - loss: 856062.7500 - mean_squared_error: 1441024835584.0000 - val_loss: 669571.6250 - val_mean_squared_error: 837304516608.0000\n",
            "Epoch 50/200\n",
            "14/14 [==============================] - 0s 6ms/step - loss: 876627.3750 - mean_squared_error: 1512097710080.0000 - val_loss: 704743.6250 - val_mean_squared_error: 871487242240.0000\n",
            "Epoch 51/200\n",
            "14/14 [==============================] - 0s 6ms/step - loss: 877915.5000 - mean_squared_error: 1480783691776.0000 - val_loss: 772739.4375 - val_mean_squared_error: 1000974581760.0000\n",
            "Epoch 52/200\n",
            "14/14 [==============================] - 0s 6ms/step - loss: 876954.4375 - mean_squared_error: 1475364519936.0000 - val_loss: 696863.1875 - val_mean_squared_error: 860175466496.0000\n",
            "Epoch 53/200\n",
            "14/14 [==============================] - 0s 7ms/step - loss: 860772.3750 - mean_squared_error: 1453242580992.0000 - val_loss: 684023.7500 - val_mean_squared_error: 844567543808.0000\n",
            "Epoch 54/200\n",
            "14/14 [==============================] - 0s 7ms/step - loss: 882798.5625 - mean_squared_error: 1508394270720.0000 - val_loss: 896924.0625 - val_mean_squared_error: 1291198136320.0000\n",
            "Epoch 55/200\n",
            "14/14 [==============================] - 0s 9ms/step - loss: 892287.0000 - mean_squared_error: 1553581867008.0000 - val_loss: 689281.4375 - val_mean_squared_error: 851074285568.0000\n",
            "Epoch 56/200\n",
            "14/14 [==============================] - 0s 7ms/step - loss: 865440.3125 - mean_squared_error: 1488794419200.0000 - val_loss: 681941.3125 - val_mean_squared_error: 844592840704.0000\n",
            "Epoch 57/200\n",
            "14/14 [==============================] - 0s 7ms/step - loss: 846760.8125 - mean_squared_error: 1405320691712.0000 - val_loss: 702923.6875 - val_mean_squared_error: 930734080000.0000\n",
            "Epoch 58/200\n",
            "14/14 [==============================] - 0s 7ms/step - loss: 908101.1250 - mean_squared_error: 1611098750976.0000 - val_loss: 730266.6875 - val_mean_squared_error: 988006711296.0000\n",
            "Epoch 59/200\n",
            "14/14 [==============================] - 0s 6ms/step - loss: 893964.0625 - mean_squared_error: 1558186426368.0000 - val_loss: 667401.6250 - val_mean_squared_error: 852508082176.0000\n",
            "Epoch 60/200\n",
            "14/14 [==============================] - 0s 6ms/step - loss: 859124.1875 - mean_squared_error: 1436658827264.0000 - val_loss: 675126.3750 - val_mean_squared_error: 845557858304.0000\n",
            "Epoch 61/200\n",
            "14/14 [==============================] - 0s 8ms/step - loss: 885704.3750 - mean_squared_error: 1560512430080.0000 - val_loss: 668190.5625 - val_mean_squared_error: 857935970304.0000\n",
            "Epoch 62/200\n",
            "14/14 [==============================] - 0s 11ms/step - loss: 902368.7500 - mean_squared_error: 1546141958144.0000 - val_loss: 664550.3125 - val_mean_squared_error: 842534748160.0000\n",
            "Epoch 63/200\n",
            "14/14 [==============================] - 0s 11ms/step - loss: 886931.0625 - mean_squared_error: 1552369975296.0000 - val_loss: 921201.9375 - val_mean_squared_error: 1358109605888.0000\n",
            "Epoch 64/200\n",
            "14/14 [==============================] - 0s 13ms/step - loss: 904144.1250 - mean_squared_error: 1538075656192.0000 - val_loss: 838186.6875 - val_mean_squared_error: 1144436293632.0000\n",
            "Epoch 65/200\n",
            "14/14 [==============================] - 0s 11ms/step - loss: 907971.9375 - mean_squared_error: 1563675983872.0000 - val_loss: 714062.3125 - val_mean_squared_error: 893578313728.0000\n",
            "Epoch 66/200\n",
            "14/14 [==============================] - 0s 9ms/step - loss: 975129.2500 - mean_squared_error: 1824961069056.0000 - val_loss: 670616.8125 - val_mean_squared_error: 864845168640.0000\n",
            "Epoch 67/200\n",
            "14/14 [==============================] - 0s 10ms/step - loss: 934730.0000 - mean_squared_error: 1686067609600.0000 - val_loss: 675814.8125 - val_mean_squared_error: 876898811904.0000\n",
            "Epoch 68/200\n",
            "14/14 [==============================] - 0s 9ms/step - loss: 931440.1250 - mean_squared_error: 1701898092544.0000 - val_loss: 687647.5625 - val_mean_squared_error: 874751066112.0000\n",
            "Epoch 69/200\n",
            "14/14 [==============================] - 0s 12ms/step - loss: 875746.3750 - mean_squared_error: 1543231897600.0000 - val_loss: 733043.0625 - val_mean_squared_error: 937768124416.0000\n",
            "Epoch 70/200\n",
            "14/14 [==============================] - 0s 12ms/step - loss: 866000.5625 - mean_squared_error: 1480578170880.0000 - val_loss: 777903.0000 - val_mean_squared_error: 1012600930304.0000\n",
            "Epoch 71/200\n",
            "14/14 [==============================] - 0s 11ms/step - loss: 862074.0625 - mean_squared_error: 1445169070080.0000 - val_loss: 835424.0000 - val_mean_squared_error: 1138946342912.0000\n",
            "Epoch 72/200\n",
            "14/14 [==============================] - 0s 11ms/step - loss: 911601.3125 - mean_squared_error: 1607655358464.0000 - val_loss: 692115.8750 - val_mean_squared_error: 915088343040.0000\n",
            "Epoch 73/200\n",
            "14/14 [==============================] - 0s 15ms/step - loss: 944064.2500 - mean_squared_error: 1627067777024.0000 - val_loss: 693610.0000 - val_mean_squared_error: 920247140352.0000\n",
            "Epoch 74/200\n",
            "14/14 [==============================] - 0s 12ms/step - loss: 891275.1250 - mean_squared_error: 1550221705216.0000 - val_loss: 775821.0000 - val_mean_squared_error: 1080563073024.0000\n",
            "Epoch 75/200\n",
            "14/14 [==============================] - 0s 12ms/step - loss: 882732.7500 - mean_squared_error: 1566135681024.0000 - val_loss: 718571.3125 - val_mean_squared_error: 905705619456.0000\n",
            "Epoch 76/200\n",
            "14/14 [==============================] - 0s 14ms/step - loss: 847956.6250 - mean_squared_error: 1450883678208.0000 - val_loss: 792346.8750 - val_mean_squared_error: 1041538220032.0000\n",
            "Epoch 77/200\n",
            "14/14 [==============================] - 0s 11ms/step - loss: 859027.8750 - mean_squared_error: 1465200410624.0000 - val_loss: 691498.4375 - val_mean_squared_error: 858804977664.0000\n",
            "Epoch 78/200\n",
            "14/14 [==============================] - 0s 11ms/step - loss: 848642.6875 - mean_squared_error: 1414984892416.0000 - val_loss: 700023.0625 - val_mean_squared_error: 866708946944.0000\n",
            "Epoch 79/200\n",
            "14/14 [==============================] - 0s 12ms/step - loss: 848547.8125 - mean_squared_error: 1425484939264.0000 - val_loss: 772556.1875 - val_mean_squared_error: 999406501888.0000\n",
            "Epoch 80/200\n",
            "14/14 [==============================] - 0s 11ms/step - loss: 865837.1875 - mean_squared_error: 1497751617536.0000 - val_loss: 989941.0000 - val_mean_squared_error: 1546076422144.0000\n",
            "Epoch 81/200\n",
            "14/14 [==============================] - 0s 15ms/step - loss: 870010.9375 - mean_squared_error: 1426545442816.0000 - val_loss: 858783.0625 - val_mean_squared_error: 1198407811072.0000\n",
            "Epoch 82/200\n",
            "14/14 [==============================] - 0s 7ms/step - loss: 854815.6250 - mean_squared_error: 1420631343104.0000 - val_loss: 762035.4375 - val_mean_squared_error: 978796085248.0000\n",
            "Epoch 83/200\n",
            "14/14 [==============================] - 0s 5ms/step - loss: 847913.9375 - mean_squared_error: 1433347162112.0000 - val_loss: 686548.0625 - val_mean_squared_error: 845481115648.0000\n",
            "Epoch 84/200\n",
            "14/14 [==============================] - 0s 8ms/step - loss: 884141.7500 - mean_squared_error: 1493436334080.0000 - val_loss: 688427.7500 - val_mean_squared_error: 848769253376.0000\n",
            "Epoch 85/200\n",
            "14/14 [==============================] - 0s 6ms/step - loss: 844387.0000 - mean_squared_error: 1392893362176.0000 - val_loss: 742678.0000 - val_mean_squared_error: 943370993664.0000\n",
            "Epoch 86/200\n",
            "14/14 [==============================] - 0s 6ms/step - loss: 858780.1250 - mean_squared_error: 1443490693120.0000 - val_loss: 681908.6250 - val_mean_squared_error: 837629575168.0000\n",
            "Epoch 87/200\n",
            "14/14 [==============================] - 0s 6ms/step - loss: 855244.6250 - mean_squared_error: 1429985427456.0000 - val_loss: 719065.6250 - val_mean_squared_error: 898637168640.0000\n",
            "Epoch 88/200\n",
            "14/14 [==============================] - 0s 6ms/step - loss: 856792.0000 - mean_squared_error: 1458615877632.0000 - val_loss: 863108.8750 - val_mean_squared_error: 1208911921152.0000\n",
            "Epoch 89/200\n",
            "14/14 [==============================] - 0s 6ms/step - loss: 857253.3125 - mean_squared_error: 1421856997376.0000 - val_loss: 834629.3125 - val_mean_squared_error: 1139544424448.0000\n",
            "Epoch 90/200\n",
            "14/14 [==============================] - 0s 7ms/step - loss: 857941.1250 - mean_squared_error: 1484330106880.0000 - val_loss: 1030959.1875 - val_mean_squared_error: 1671383613440.0000\n",
            "Epoch 91/200\n",
            "14/14 [==============================] - 0s 9ms/step - loss: 935625.1875 - mean_squared_error: 1637335302144.0000 - val_loss: 783144.0625 - val_mean_squared_error: 1023174311936.0000\n",
            "Epoch 92/200\n",
            "14/14 [==============================] - 0s 6ms/step - loss: 885049.1250 - mean_squared_error: 1509928468480.0000 - val_loss: 715687.0625 - val_mean_squared_error: 899604807680.0000\n",
            "Epoch 93/200\n",
            "14/14 [==============================] - 0s 8ms/step - loss: 859574.8125 - mean_squared_error: 1443570909184.0000 - val_loss: 699592.2500 - val_mean_squared_error: 871723696128.0000\n",
            "Epoch 94/200\n",
            "14/14 [==============================] - 0s 6ms/step - loss: 869251.8125 - mean_squared_error: 1417539354624.0000 - val_loss: 777768.5000 - val_mean_squared_error: 1011051986944.0000\n",
            "Epoch 95/200\n",
            "14/14 [==============================] - 0s 6ms/step - loss: 857001.7500 - mean_squared_error: 1434082213888.0000 - val_loss: 759451.1250 - val_mean_squared_error: 974096564224.0000\n",
            "Epoch 96/200\n",
            "14/14 [==============================] - 0s 7ms/step - loss: 869944.7500 - mean_squared_error: 1474399174656.0000 - val_loss: 691059.3125 - val_mean_squared_error: 849606082560.0000\n",
            "Epoch 97/200\n",
            "14/14 [==============================] - 0s 7ms/step - loss: 863649.6875 - mean_squared_error: 1478935707648.0000 - val_loss: 713996.6250 - val_mean_squared_error: 888238243840.0000\n",
            "Epoch 98/200\n",
            "14/14 [==============================] - 0s 6ms/step - loss: 889947.0000 - mean_squared_error: 1542530138112.0000 - val_loss: 876822.6875 - val_mean_squared_error: 1243786772480.0000\n",
            "Epoch 99/200\n",
            "14/14 [==============================] - 0s 5ms/step - loss: 857753.7500 - mean_squared_error: 1447158218752.0000 - val_loss: 748461.9375 - val_mean_squared_error: 953306644480.0000\n",
            "Epoch 100/200\n",
            "14/14 [==============================] - 0s 7ms/step - loss: 848650.8125 - mean_squared_error: 1421040025600.0000 - val_loss: 699723.6250 - val_mean_squared_error: 864841564160.0000\n",
            "Epoch 101/200\n",
            "14/14 [==============================] - 0s 9ms/step - loss: 851955.8125 - mean_squared_error: 1423046082560.0000 - val_loss: 760047.1250 - val_mean_squared_error: 974783971328.0000\n",
            "Epoch 102/200\n",
            "14/14 [==============================] - 0s 6ms/step - loss: 853107.0625 - mean_squared_error: 1420672237568.0000 - val_loss: 656402.8125 - val_mean_squared_error: 816097656832.0000\n",
            "Epoch 103/200\n",
            "14/14 [==============================] - 0s 7ms/step - loss: 926111.6875 - mean_squared_error: 1655298981888.0000 - val_loss: 693954.5625 - val_mean_squared_error: 854678044672.0000\n",
            "Epoch 104/200\n",
            "14/14 [==============================] - 0s 7ms/step - loss: 939418.8125 - mean_squared_error: 1686321889280.0000 - val_loss: 926609.6875 - val_mean_squared_error: 1381154291712.0000\n",
            "Epoch 105/200\n",
            "14/14 [==============================] - 0s 6ms/step - loss: 899730.0000 - mean_squared_error: 1569295564800.0000 - val_loss: 735545.8125 - val_mean_squared_error: 931575693312.0000\n",
            "Epoch 106/200\n",
            "14/14 [==============================] - 0s 6ms/step - loss: 856272.3125 - mean_squared_error: 1436425256960.0000 - val_loss: 706525.1875 - val_mean_squared_error: 881188470784.0000\n",
            "Epoch 107/200\n",
            "14/14 [==============================] - 0s 8ms/step - loss: 885311.6875 - mean_squared_error: 1522668011520.0000 - val_loss: 662120.0625 - val_mean_squared_error: 846578188288.0000\n",
            "Epoch 108/200\n",
            "14/14 [==============================] - 0s 7ms/step - loss: 871814.8125 - mean_squared_error: 1490616057856.0000 - val_loss: 676481.2500 - val_mean_squared_error: 834111078400.0000\n",
            "Epoch 109/200\n",
            "14/14 [==============================] - 0s 7ms/step - loss: 850712.5000 - mean_squared_error: 1436131786752.0000 - val_loss: 656602.0000 - val_mean_squared_error: 824666095616.0000\n",
            "Epoch 110/200\n",
            "14/14 [==============================] - 0s 9ms/step - loss: 878104.5625 - mean_squared_error: 1534566989824.0000 - val_loss: 674850.1875 - val_mean_squared_error: 874125131776.0000\n",
            "Epoch 111/200\n",
            "14/14 [==============================] - 0s 8ms/step - loss: 922877.0625 - mean_squared_error: 1642801135616.0000 - val_loss: 662337.0000 - val_mean_squared_error: 847479898112.0000\n",
            "Epoch 112/200\n",
            "14/14 [==============================] - 0s 7ms/step - loss: 866244.9375 - mean_squared_error: 1451979702272.0000 - val_loss: 657350.2500 - val_mean_squared_error: 826571816960.0000\n",
            "Epoch 113/200\n",
            "14/14 [==============================] - 0s 6ms/step - loss: 868031.9375 - mean_squared_error: 1472220102656.0000 - val_loss: 849298.4375 - val_mean_squared_error: 1177954680832.0000\n",
            "Epoch 114/200\n",
            "14/14 [==============================] - 0s 7ms/step - loss: 869144.8125 - mean_squared_error: 1465577897984.0000 - val_loss: 710288.6875 - val_mean_squared_error: 885186363392.0000\n",
            "Epoch 115/200\n",
            "14/14 [==============================] - 0s 7ms/step - loss: 853723.1250 - mean_squared_error: 1415322927104.0000 - val_loss: 661599.1250 - val_mean_squared_error: 818097618944.0000\n",
            "Epoch 116/200\n",
            "14/14 [==============================] - 0s 8ms/step - loss: 906340.5000 - mean_squared_error: 1498558496768.0000 - val_loss: 679245.8125 - val_mean_squared_error: 885409185792.0000\n",
            "Epoch 117/200\n",
            "14/14 [==============================] - 0s 7ms/step - loss: 930171.2500 - mean_squared_error: 1659591065600.0000 - val_loss: 705739.5000 - val_mean_squared_error: 938307026944.0000\n",
            "Epoch 118/200\n",
            "14/14 [==============================] - 0s 6ms/step - loss: 850555.3125 - mean_squared_error: 1434320240640.0000 - val_loss: 681810.5625 - val_mean_squared_error: 843644862464.0000\n",
            "Epoch 119/200\n",
            "14/14 [==============================] - 0s 9ms/step - loss: 844008.1250 - mean_squared_error: 1424799694848.0000 - val_loss: 881446.8125 - val_mean_squared_error: 1258557800448.0000\n",
            "Epoch 120/200\n",
            "14/14 [==============================] - 0s 10ms/step - loss: 880966.6250 - mean_squared_error: 1496808161280.0000 - val_loss: 731714.1250 - val_mean_squared_error: 924031188992.0000\n",
            "Epoch 121/200\n",
            "14/14 [==============================] - 0s 6ms/step - loss: 842461.0000 - mean_squared_error: 1407047827456.0000 - val_loss: 749457.4375 - val_mean_squared_error: 954962214912.0000\n",
            "Epoch 122/200\n",
            "14/14 [==============================] - 0s 6ms/step - loss: 847503.9375 - mean_squared_error: 1377360019456.0000 - val_loss: 653612.3125 - val_mean_squared_error: 811223613440.0000\n",
            "Epoch 123/200\n",
            "14/14 [==============================] - 0s 7ms/step - loss: 857637.3125 - mean_squared_error: 1451822284800.0000 - val_loss: 662654.1875 - val_mean_squared_error: 812897140736.0000\n",
            "Epoch 124/200\n",
            "14/14 [==============================] - 0s 6ms/step - loss: 877607.6875 - mean_squared_error: 1473576566784.0000 - val_loss: 797943.5000 - val_mean_squared_error: 1062007472128.0000\n",
            "Epoch 125/200\n",
            "14/14 [==============================] - 0s 6ms/step - loss: 866124.7500 - mean_squared_error: 1420226985984.0000 - val_loss: 653703.7500 - val_mean_squared_error: 818067341312.0000\n",
            "Epoch 126/200\n",
            "14/14 [==============================] - 0s 6ms/step - loss: 860192.0625 - mean_squared_error: 1469393272832.0000 - val_loss: 652007.6250 - val_mean_squared_error: 808934768640.0000\n",
            "Epoch 127/200\n",
            "14/14 [==============================] - 0s 7ms/step - loss: 837805.7500 - mean_squared_error: 1371776614400.0000 - val_loss: 652003.8125 - val_mean_squared_error: 810276290560.0000\n",
            "Epoch 128/200\n",
            "14/14 [==============================] - 0s 7ms/step - loss: 863922.5625 - mean_squared_error: 1488577888256.0000 - val_loss: 665486.0625 - val_mean_squared_error: 846532706304.0000\n",
            "Epoch 129/200\n",
            "14/14 [==============================] - 0s 9ms/step - loss: 878628.9375 - mean_squared_error: 1530756988928.0000 - val_loss: 683411.5000 - val_mean_squared_error: 889376473088.0000\n",
            "Epoch 130/200\n",
            "14/14 [==============================] - 0s 6ms/step - loss: 864988.8750 - mean_squared_error: 1508139859968.0000 - val_loss: 690557.8125 - val_mean_squared_error: 848257351680.0000\n",
            "Epoch 131/200\n",
            "14/14 [==============================] - 0s 7ms/step - loss: 839337.6250 - mean_squared_error: 1378394963968.0000 - val_loss: 720520.6875 - val_mean_squared_error: 903147028480.0000\n",
            "Epoch 132/200\n",
            "14/14 [==============================] - 0s 6ms/step - loss: 861793.6250 - mean_squared_error: 1478663602176.0000 - val_loss: 958233.4375 - val_mean_squared_error: 1468311011328.0000\n",
            "Epoch 133/200\n",
            "14/14 [==============================] - 0s 6ms/step - loss: 856679.1875 - mean_squared_error: 1432599920640.0000 - val_loss: 734422.4375 - val_mean_squared_error: 928261275648.0000\n",
            "Epoch 134/200\n",
            "14/14 [==============================] - 0s 6ms/step - loss: 866098.0000 - mean_squared_error: 1440620085248.0000 - val_loss: 729899.1250 - val_mean_squared_error: 920071766016.0000\n",
            "Epoch 135/200\n",
            "14/14 [==============================] - 0s 6ms/step - loss: 859732.2500 - mean_squared_error: 1419431247872.0000 - val_loss: 652369.6875 - val_mean_squared_error: 808321744896.0000\n",
            "Epoch 136/200\n",
            "14/14 [==============================] - 0s 6ms/step - loss: 853019.1250 - mean_squared_error: 1399465836544.0000 - val_loss: 653278.0625 - val_mean_squared_error: 809836609536.0000\n",
            "Epoch 137/200\n",
            "14/14 [==============================] - 0s 6ms/step - loss: 850733.6250 - mean_squared_error: 1428272316416.0000 - val_loss: 826026.6250 - val_mean_squared_error: 1123311681536.0000\n",
            "Epoch 138/200\n",
            "14/14 [==============================] - 0s 6ms/step - loss: 922581.1875 - mean_squared_error: 1600123305984.0000 - val_loss: 697545.2500 - val_mean_squared_error: 860511928320.0000\n",
            "Epoch 139/200\n",
            "14/14 [==============================] - 0s 9ms/step - loss: 869118.8125 - mean_squared_error: 1510194675712.0000 - val_loss: 712226.8750 - val_mean_squared_error: 887509549056.0000\n",
            "Epoch 140/200\n",
            "14/14 [==============================] - 0s 8ms/step - loss: 867215.7500 - mean_squared_error: 1428778647552.0000 - val_loss: 659895.4375 - val_mean_squared_error: 809623552000.0000\n",
            "Epoch 141/200\n",
            "14/14 [==============================] - 0s 8ms/step - loss: 846666.8750 - mean_squared_error: 1384026603520.0000 - val_loss: 658295.2500 - val_mean_squared_error: 808153972736.0000\n",
            "Epoch 142/200\n",
            "14/14 [==============================] - 0s 9ms/step - loss: 851214.2500 - mean_squared_error: 1398314762240.0000 - val_loss: 767715.3125 - val_mean_squared_error: 991639699456.0000\n",
            "Epoch 143/200\n",
            "14/14 [==============================] - 0s 7ms/step - loss: 849037.1875 - mean_squared_error: 1421737852928.0000 - val_loss: 675235.0625 - val_mean_squared_error: 825918685184.0000\n",
            "Epoch 144/200\n",
            "14/14 [==============================] - 0s 7ms/step - loss: 847076.1875 - mean_squared_error: 1381175394304.0000 - val_loss: 651170.9375 - val_mean_squared_error: 812581322752.0000\n",
            "Epoch 145/200\n",
            "14/14 [==============================] - 0s 7ms/step - loss: 937513.6875 - mean_squared_error: 1781426552832.0000 - val_loss: 650434.0625 - val_mean_squared_error: 812577193984.0000\n",
            "Epoch 146/200\n",
            "14/14 [==============================] - 0s 6ms/step - loss: 875161.4375 - mean_squared_error: 1527045160960.0000 - val_loss: 691239.1875 - val_mean_squared_error: 854828318720.0000\n",
            "Epoch 147/200\n",
            "14/14 [==============================] - 0s 7ms/step - loss: 847690.2500 - mean_squared_error: 1413822414848.0000 - val_loss: 784932.8750 - val_mean_squared_error: 1029162532864.0000\n",
            "Epoch 148/200\n",
            "14/14 [==============================] - 0s 9ms/step - loss: 837886.3125 - mean_squared_error: 1383881113600.0000 - val_loss: 693063.7500 - val_mean_squared_error: 855353131008.0000\n",
            "Epoch 149/200\n",
            "14/14 [==============================] - 0s 6ms/step - loss: 839780.6875 - mean_squared_error: 1377507082240.0000 - val_loss: 810379.6250 - val_mean_squared_error: 1089203666944.0000\n",
            "Epoch 150/200\n",
            "14/14 [==============================] - 0s 7ms/step - loss: 852032.1250 - mean_squared_error: 1421389856768.0000 - val_loss: 740989.9375 - val_mean_squared_error: 939457445888.0000\n",
            "Epoch 151/200\n",
            "14/14 [==============================] - 0s 6ms/step - loss: 851110.3125 - mean_squared_error: 1410571173888.0000 - val_loss: 772613.0625 - val_mean_squared_error: 1002549411840.0000\n",
            "Epoch 152/200\n",
            "14/14 [==============================] - 0s 6ms/step - loss: 864461.3750 - mean_squared_error: 1457196761088.0000 - val_loss: 677366.4375 - val_mean_squared_error: 831068831744.0000\n",
            "Epoch 153/200\n",
            "14/14 [==============================] - 0s 7ms/step - loss: 884193.3125 - mean_squared_error: 1453845381120.0000 - val_loss: 777450.6250 - val_mean_squared_error: 1013159034880.0000\n",
            "Epoch 154/200\n",
            "14/14 [==============================] - 0s 7ms/step - loss: 850666.6875 - mean_squared_error: 1427163709440.0000 - val_loss: 827976.6875 - val_mean_squared_error: 1129924001792.0000\n",
            "Epoch 155/200\n",
            "14/14 [==============================] - 0s 6ms/step - loss: 882306.5625 - mean_squared_error: 1517297991680.0000 - val_loss: 845684.6875 - val_mean_squared_error: 1171058196480.0000\n",
            "Epoch 156/200\n",
            "14/14 [==============================] - 0s 6ms/step - loss: 901186.2500 - mean_squared_error: 1508428873728.0000 - val_loss: 894012.1250 - val_mean_squared_error: 1294772207616.0000\n",
            "Epoch 157/200\n",
            "14/14 [==============================] - 0s 9ms/step - loss: 853143.2500 - mean_squared_error: 1412247191552.0000 - val_loss: 673259.7500 - val_mean_squared_error: 828357279744.0000\n",
            "Epoch 158/200\n",
            "14/14 [==============================] - 0s 9ms/step - loss: 841806.0625 - mean_squared_error: 1403355529216.0000 - val_loss: 675952.5625 - val_mean_squared_error: 830602412032.0000\n",
            "Epoch 159/200\n",
            "14/14 [==============================] - 0s 7ms/step - loss: 850305.3750 - mean_squared_error: 1413661458432.0000 - val_loss: 677410.1875 - val_mean_squared_error: 829373218816.0000\n",
            "Epoch 160/200\n",
            "14/14 [==============================] - 0s 8ms/step - loss: 854688.3125 - mean_squared_error: 1428212547584.0000 - val_loss: 673372.5000 - val_mean_squared_error: 822869491712.0000\n",
            "Epoch 161/200\n",
            "14/14 [==============================] - 0s 7ms/step - loss: 845773.0625 - mean_squared_error: 1399271587840.0000 - val_loss: 655367.6250 - val_mean_squared_error: 803781148672.0000\n",
            "Epoch 162/200\n",
            "14/14 [==============================] - 0s 7ms/step - loss: 863908.3750 - mean_squared_error: 1464067293184.0000 - val_loss: 685929.5625 - val_mean_squared_error: 843477811200.0000\n",
            "Epoch 163/200\n",
            "14/14 [==============================] - 0s 7ms/step - loss: 833126.4375 - mean_squared_error: 1366834151424.0000 - val_loss: 724638.1875 - val_mean_squared_error: 910788263936.0000\n",
            "Epoch 164/200\n",
            "14/14 [==============================] - 0s 7ms/step - loss: 848611.5000 - mean_squared_error: 1418807607296.0000 - val_loss: 789114.6875 - val_mean_squared_error: 1042327732224.0000\n",
            "Epoch 165/200\n",
            "14/14 [==============================] - 0s 7ms/step - loss: 856552.0625 - mean_squared_error: 1436263645184.0000 - val_loss: 711059.6875 - val_mean_squared_error: 886292348928.0000\n",
            "Epoch 166/200\n",
            "14/14 [==============================] - 0s 10ms/step - loss: 834909.3750 - mean_squared_error: 1371564933120.0000 - val_loss: 654196.5000 - val_mean_squared_error: 823930454016.0000\n",
            "Epoch 167/200\n",
            "14/14 [==============================] - 0s 8ms/step - loss: 863957.6250 - mean_squared_error: 1490079973376.0000 - val_loss: 655927.7500 - val_mean_squared_error: 803897606144.0000\n",
            "Epoch 168/200\n",
            "14/14 [==============================] - 0s 7ms/step - loss: 844887.1875 - mean_squared_error: 1397850636288.0000 - val_loss: 657133.5000 - val_mean_squared_error: 803604856832.0000\n",
            "Epoch 169/200\n",
            "14/14 [==============================] - 0s 8ms/step - loss: 839620.5625 - mean_squared_error: 1378974171136.0000 - val_loss: 662020.5625 - val_mean_squared_error: 807893991424.0000\n",
            "Epoch 170/200\n",
            "14/14 [==============================] - 0s 7ms/step - loss: 847816.0625 - mean_squared_error: 1405120151552.0000 - val_loss: 645811.4375 - val_mean_squared_error: 799018582016.0000\n",
            "Epoch 171/200\n",
            "14/14 [==============================] - 0s 5ms/step - loss: 883207.0625 - mean_squared_error: 1505905082368.0000 - val_loss: 646030.2500 - val_mean_squared_error: 800366919680.0000\n",
            "Epoch 172/200\n",
            "14/14 [==============================] - 0s 7ms/step - loss: 841230.4375 - mean_squared_error: 1383624736768.0000 - val_loss: 678137.7500 - val_mean_squared_error: 829129424896.0000\n",
            "Epoch 173/200\n",
            "14/14 [==============================] - 0s 6ms/step - loss: 835839.1250 - mean_squared_error: 1386663378944.0000 - val_loss: 748017.8125 - val_mean_squared_error: 953525665792.0000\n",
            "Epoch 174/200\n",
            "14/14 [==============================] - 0s 7ms/step - loss: 836748.1250 - mean_squared_error: 1384915795968.0000 - val_loss: 701120.0000 - val_mean_squared_error: 868759109632.0000\n",
            "Epoch 175/200\n",
            "14/14 [==============================] - 0s 8ms/step - loss: 840731.0625 - mean_squared_error: 1378300067840.0000 - val_loss: 769791.6250 - val_mean_squared_error: 1000713682944.0000\n",
            "Epoch 176/200\n",
            "14/14 [==============================] - 0s 11ms/step - loss: 839023.0625 - mean_squared_error: 1386511728640.0000 - val_loss: 769710.2500 - val_mean_squared_error: 999963557888.0000\n",
            "Epoch 177/200\n",
            "14/14 [==============================] - 0s 11ms/step - loss: 890561.9375 - mean_squared_error: 1494258548736.0000 - val_loss: 690665.4375 - val_mean_squared_error: 850225659904.0000\n",
            "Epoch 178/200\n",
            "14/14 [==============================] - 0s 11ms/step - loss: 854008.6875 - mean_squared_error: 1448758870016.0000 - val_loss: 657458.8125 - val_mean_squared_error: 804427071488.0000\n",
            "Epoch 179/200\n",
            "14/14 [==============================] - 0s 9ms/step - loss: 888031.7500 - mean_squared_error: 1527176364032.0000 - val_loss: 713693.7500 - val_mean_squared_error: 892124135424.0000\n",
            "Epoch 180/200\n",
            "14/14 [==============================] - 0s 9ms/step - loss: 856564.7500 - mean_squared_error: 1424269115392.0000 - val_loss: 785526.0625 - val_mean_squared_error: 1034123935744.0000\n",
            "Epoch 181/200\n",
            "14/14 [==============================] - 0s 10ms/step - loss: 834356.1250 - mean_squared_error: 1372690055168.0000 - val_loss: 650288.0625 - val_mean_squared_error: 817467293696.0000\n",
            "Epoch 182/200\n",
            "14/14 [==============================] - 0s 11ms/step - loss: 846635.3750 - mean_squared_error: 1448202862592.0000 - val_loss: 699315.9375 - val_mean_squared_error: 866337095680.0000\n",
            "Epoch 183/200\n",
            "14/14 [==============================] - 0s 13ms/step - loss: 842214.4375 - mean_squared_error: 1365936570368.0000 - val_loss: 689146.6875 - val_mean_squared_error: 847604023296.0000\n",
            "Epoch 184/200\n",
            "14/14 [==============================] - 0s 10ms/step - loss: 835130.6875 - mean_squared_error: 1357889929216.0000 - val_loss: 644634.0000 - val_mean_squared_error: 792134025216.0000\n",
            "Epoch 185/200\n",
            "14/14 [==============================] - 0s 10ms/step - loss: 861261.1875 - mean_squared_error: 1432719458304.0000 - val_loss: 788833.3125 - val_mean_squared_error: 1075056803840.0000\n",
            "Epoch 186/200\n",
            "14/14 [==============================] - 0s 11ms/step - loss: 913995.3750 - mean_squared_error: 1534826643456.0000 - val_loss: 723071.6875 - val_mean_squared_error: 959261442048.0000\n",
            "Epoch 187/200\n",
            "14/14 [==============================] - 0s 11ms/step - loss: 944359.4375 - mean_squared_error: 1623872110592.0000 - val_loss: 650179.6875 - val_mean_squared_error: 819332710400.0000\n",
            "Epoch 188/200\n",
            "14/14 [==============================] - 0s 12ms/step - loss: 848152.6875 - mean_squared_error: 1405205479424.0000 - val_loss: 697366.7500 - val_mean_squared_error: 870071664640.0000\n",
            "Epoch 189/200\n",
            "14/14 [==============================] - 0s 14ms/step - loss: 837412.6250 - mean_squared_error: 1393736155136.0000 - val_loss: 675553.9375 - val_mean_squared_error: 833546878976.0000\n",
            "Epoch 190/200\n",
            "14/14 [==============================] - 0s 11ms/step - loss: 852220.2500 - mean_squared_error: 1455271444480.0000 - val_loss: 690369.3125 - val_mean_squared_error: 852810268672.0000\n",
            "Epoch 191/200\n",
            "14/14 [==============================] - 0s 12ms/step - loss: 877364.5625 - mean_squared_error: 1488028041216.0000 - val_loss: 1030278.8750 - val_mean_squared_error: 1686482059264.0000\n",
            "Epoch 192/200\n",
            "14/14 [==============================] - 0s 14ms/step - loss: 949416.9375 - mean_squared_error: 1684351090688.0000 - val_loss: 860682.6250 - val_mean_squared_error: 1211148795904.0000\n",
            "Epoch 193/200\n",
            "14/14 [==============================] - 0s 10ms/step - loss: 876424.8125 - mean_squared_error: 1463904501760.0000 - val_loss: 668309.8750 - val_mean_squared_error: 822293299200.0000\n",
            "Epoch 194/200\n",
            "14/14 [==============================] - 0s 13ms/step - loss: 843737.7500 - mean_squared_error: 1401505579008.0000 - val_loss: 659851.4375 - val_mean_squared_error: 813358579712.0000\n",
            "Epoch 195/200\n",
            "14/14 [==============================] - 0s 10ms/step - loss: 863690.2500 - mean_squared_error: 1448447705088.0000 - val_loss: 694440.2500 - val_mean_squared_error: 859564605440.0000\n",
            "Epoch 196/200\n",
            "14/14 [==============================] - 0s 11ms/step - loss: 854900.2500 - mean_squared_error: 1402956414976.0000 - val_loss: 672525.8125 - val_mean_squared_error: 824946262016.0000\n",
            "Epoch 197/200\n",
            "14/14 [==============================] - 0s 11ms/step - loss: 838303.2500 - mean_squared_error: 1383489994752.0000 - val_loss: 703949.0625 - val_mean_squared_error: 875268669440.0000\n",
            "Epoch 198/200\n",
            "14/14 [==============================] - 0s 10ms/step - loss: 833523.8125 - mean_squared_error: 1362461720576.0000 - val_loss: 681279.5625 - val_mean_squared_error: 835351871488.0000\n",
            "Epoch 199/200\n",
            "14/14 [==============================] - 0s 8ms/step - loss: 834340.7500 - mean_squared_error: 1357977747456.0000 - val_loss: 729722.6875 - val_mean_squared_error: 920425791488.0000\n",
            "Epoch 200/200\n",
            "14/14 [==============================] - 0s 6ms/step - loss: 828867.4375 - mean_squared_error: 1375602606080.0000 - val_loss: 701299.3750 - val_mean_squared_error: 868694818816.0000\n"
          ]
        },
        {
          "output_type": "execute_result",
          "data": {
            "text/plain": [
              "<keras.src.callbacks.History at 0x7a450efd9ba0>"
            ]
          },
          "metadata": {},
          "execution_count": 201
        }
      ]
    },
    {
      "cell_type": "code",
      "source": [
        "model.evaluate(xtest,ytest)"
      ],
      "metadata": {
        "colab": {
          "base_uri": "https://localhost:8080/"
        },
        "id": "CoqbFS-teti8",
        "outputId": "d2f3f1a1-4fb8-48b7-8c1d-a83c273f04ad"
      },
      "execution_count": 202,
      "outputs": [
        {
          "output_type": "stream",
          "name": "stdout",
          "text": [
            "4/4 [==============================] - 0s 4ms/step - loss: 701299.3750 - mean_squared_error: 868694818816.0000\n"
          ]
        },
        {
          "output_type": "execute_result",
          "data": {
            "text/plain": [
              "[701299.375, 868694818816.0]"
            ]
          },
          "metadata": {},
          "execution_count": 202
        }
      ]
    },
    {
      "cell_type": "code",
      "source": [
        "ytrain.mean()"
      ],
      "metadata": {
        "colab": {
          "base_uri": "https://localhost:8080/"
        },
        "id": "9Fo9K59wmv-h",
        "outputId": "d7e21caa-705a-4c7f-9666-459ea02e8daf"
      },
      "execution_count": 203,
      "outputs": [
        {
          "output_type": "execute_result",
          "data": {
            "text/plain": [
              "4838025.4357798165"
            ]
          },
          "metadata": {},
          "execution_count": 203
        }
      ]
    },
    {
      "cell_type": "markdown",
      "source": [
        "mae=701299.375, price_mean=4838025.435"
      ],
      "metadata": {
        "id": "PqhZW-eGmq8K"
      }
    },
    {
      "cell_type": "code",
      "source": [
        "percentage_error=(701299.375/4838025.435)*100"
      ],
      "metadata": {
        "id": "ApoBQOpmm7fv"
      },
      "execution_count": 204,
      "outputs": []
    },
    {
      "cell_type": "code",
      "source": [
        "percentage_error"
      ],
      "metadata": {
        "colab": {
          "base_uri": "https://localhost:8080/"
        },
        "id": "yhat_PYenA_Z",
        "outputId": "03541368-a60b-4df8-8684-9290726dc7d4"
      },
      "execution_count": 205,
      "outputs": [
        {
          "output_type": "execute_result",
          "data": {
            "text/plain": [
              "14.495570236703397"
            ]
          },
          "metadata": {},
          "execution_count": 205
        }
      ]
    },
    {
      "cell_type": "code",
      "source": [
        "model5_accuracy=100-percentage_error"
      ],
      "metadata": {
        "id": "Fqt44sR-nESE"
      },
      "execution_count": 206,
      "outputs": []
    },
    {
      "cell_type": "code",
      "source": [
        "model5_accuracy"
      ],
      "metadata": {
        "colab": {
          "base_uri": "https://localhost:8080/"
        },
        "id": "yDIC7fOAetlX",
        "outputId": "bb2b4b63-8004-454d-f448-2be78709b0d9"
      },
      "execution_count": 207,
      "outputs": [
        {
          "output_type": "execute_result",
          "data": {
            "text/plain": [
              "85.5044297632966"
            ]
          },
          "metadata": {},
          "execution_count": 207
        }
      ]
    },
    {
      "cell_type": "markdown",
      "source": [
        "**compairing all the models**"
      ],
      "metadata": {
        "id": "rRfitn7HnNF-"
      }
    },
    {
      "cell_type": "code",
      "source": [
        "tt={'model1':model1_score,'model2':model2_score,'model3':model3_score,'model4':model4_score,'model5':model5_accuracy}"
      ],
      "metadata": {
        "id": "iMc9-knOetot"
      },
      "execution_count": 213,
      "outputs": []
    },
    {
      "cell_type": "code",
      "source": [
        "final=pandas.DataFrame(tt,index=['score'])"
      ],
      "metadata": {
        "id": "ZBojJTP2naLD"
      },
      "execution_count": 210,
      "outputs": []
    },
    {
      "cell_type": "code",
      "source": [
        "final"
      ],
      "metadata": {
        "colab": {
          "base_uri": "https://localhost:8080/",
          "height": 89
        },
        "id": "MEw--As0eLPW",
        "outputId": "4eb4c74b-2bdc-4659-efb9-c95e402428e4"
      },
      "execution_count": 211,
      "outputs": [
        {
          "output_type": "execute_result",
          "data": {
            "text/plain": [
              "        model1    model2    model3    model4    model5\n",
              "score  0.69624  0.695178  0.688542  0.582418  85.50443"
            ],
            "text/html": [
              "\n",
              "  <div id=\"df-1968f0df-bd57-4e75-b80d-b3fec5e9b941\" class=\"colab-df-container\">\n",
              "    <div>\n",
              "<style scoped>\n",
              "    .dataframe tbody tr th:only-of-type {\n",
              "        vertical-align: middle;\n",
              "    }\n",
              "\n",
              "    .dataframe tbody tr th {\n",
              "        vertical-align: top;\n",
              "    }\n",
              "\n",
              "    .dataframe thead th {\n",
              "        text-align: right;\n",
              "    }\n",
              "</style>\n",
              "<table border=\"1\" class=\"dataframe\">\n",
              "  <thead>\n",
              "    <tr style=\"text-align: right;\">\n",
              "      <th></th>\n",
              "      <th>model1</th>\n",
              "      <th>model2</th>\n",
              "      <th>model3</th>\n",
              "      <th>model4</th>\n",
              "      <th>model5</th>\n",
              "    </tr>\n",
              "  </thead>\n",
              "  <tbody>\n",
              "    <tr>\n",
              "      <th>score</th>\n",
              "      <td>0.69624</td>\n",
              "      <td>0.695178</td>\n",
              "      <td>0.688542</td>\n",
              "      <td>0.582418</td>\n",
              "      <td>85.50443</td>\n",
              "    </tr>\n",
              "  </tbody>\n",
              "</table>\n",
              "</div>\n",
              "    <div class=\"colab-df-buttons\">\n",
              "\n",
              "  <div class=\"colab-df-container\">\n",
              "    <button class=\"colab-df-convert\" onclick=\"convertToInteractive('df-1968f0df-bd57-4e75-b80d-b3fec5e9b941')\"\n",
              "            title=\"Convert this dataframe to an interactive table.\"\n",
              "            style=\"display:none;\">\n",
              "\n",
              "  <svg xmlns=\"http://www.w3.org/2000/svg\" height=\"24px\" viewBox=\"0 -960 960 960\">\n",
              "    <path d=\"M120-120v-720h720v720H120Zm60-500h600v-160H180v160Zm220 220h160v-160H400v160Zm0 220h160v-160H400v160ZM180-400h160v-160H180v160Zm440 0h160v-160H620v160ZM180-180h160v-160H180v160Zm440 0h160v-160H620v160Z\"/>\n",
              "  </svg>\n",
              "    </button>\n",
              "\n",
              "  <style>\n",
              "    .colab-df-container {\n",
              "      display:flex;\n",
              "      gap: 12px;\n",
              "    }\n",
              "\n",
              "    .colab-df-convert {\n",
              "      background-color: #E8F0FE;\n",
              "      border: none;\n",
              "      border-radius: 50%;\n",
              "      cursor: pointer;\n",
              "      display: none;\n",
              "      fill: #1967D2;\n",
              "      height: 32px;\n",
              "      padding: 0 0 0 0;\n",
              "      width: 32px;\n",
              "    }\n",
              "\n",
              "    .colab-df-convert:hover {\n",
              "      background-color: #E2EBFA;\n",
              "      box-shadow: 0px 1px 2px rgba(60, 64, 67, 0.3), 0px 1px 3px 1px rgba(60, 64, 67, 0.15);\n",
              "      fill: #174EA6;\n",
              "    }\n",
              "\n",
              "    .colab-df-buttons div {\n",
              "      margin-bottom: 4px;\n",
              "    }\n",
              "\n",
              "    [theme=dark] .colab-df-convert {\n",
              "      background-color: #3B4455;\n",
              "      fill: #D2E3FC;\n",
              "    }\n",
              "\n",
              "    [theme=dark] .colab-df-convert:hover {\n",
              "      background-color: #434B5C;\n",
              "      box-shadow: 0px 1px 3px 1px rgba(0, 0, 0, 0.15);\n",
              "      filter: drop-shadow(0px 1px 2px rgba(0, 0, 0, 0.3));\n",
              "      fill: #FFFFFF;\n",
              "    }\n",
              "  </style>\n",
              "\n",
              "    <script>\n",
              "      const buttonEl =\n",
              "        document.querySelector('#df-1968f0df-bd57-4e75-b80d-b3fec5e9b941 button.colab-df-convert');\n",
              "      buttonEl.style.display =\n",
              "        google.colab.kernel.accessAllowed ? 'block' : 'none';\n",
              "\n",
              "      async function convertToInteractive(key) {\n",
              "        const element = document.querySelector('#df-1968f0df-bd57-4e75-b80d-b3fec5e9b941');\n",
              "        const dataTable =\n",
              "          await google.colab.kernel.invokeFunction('convertToInteractive',\n",
              "                                                    [key], {});\n",
              "        if (!dataTable) return;\n",
              "\n",
              "        const docLinkHtml = 'Like what you see? Visit the ' +\n",
              "          '<a target=\"_blank\" href=https://colab.research.google.com/notebooks/data_table.ipynb>data table notebook</a>'\n",
              "          + ' to learn more about interactive tables.';\n",
              "        element.innerHTML = '';\n",
              "        dataTable['output_type'] = 'display_data';\n",
              "        await google.colab.output.renderOutput(dataTable, element);\n",
              "        const docLink = document.createElement('div');\n",
              "        docLink.innerHTML = docLinkHtml;\n",
              "        element.appendChild(docLink);\n",
              "      }\n",
              "    </script>\n",
              "  </div>\n",
              "\n",
              "\n",
              "  <div id=\"id_59916ca7-5d16-4b43-9bb0-e87ea08e0863\">\n",
              "    <style>\n",
              "      .colab-df-generate {\n",
              "        background-color: #E8F0FE;\n",
              "        border: none;\n",
              "        border-radius: 50%;\n",
              "        cursor: pointer;\n",
              "        display: none;\n",
              "        fill: #1967D2;\n",
              "        height: 32px;\n",
              "        padding: 0 0 0 0;\n",
              "        width: 32px;\n",
              "      }\n",
              "\n",
              "      .colab-df-generate:hover {\n",
              "        background-color: #E2EBFA;\n",
              "        box-shadow: 0px 1px 2px rgba(60, 64, 67, 0.3), 0px 1px 3px 1px rgba(60, 64, 67, 0.15);\n",
              "        fill: #174EA6;\n",
              "      }\n",
              "\n",
              "      [theme=dark] .colab-df-generate {\n",
              "        background-color: #3B4455;\n",
              "        fill: #D2E3FC;\n",
              "      }\n",
              "\n",
              "      [theme=dark] .colab-df-generate:hover {\n",
              "        background-color: #434B5C;\n",
              "        box-shadow: 0px 1px 3px 1px rgba(0, 0, 0, 0.15);\n",
              "        filter: drop-shadow(0px 1px 2px rgba(0, 0, 0, 0.3));\n",
              "        fill: #FFFFFF;\n",
              "      }\n",
              "    </style>\n",
              "    <button class=\"colab-df-generate\" onclick=\"generateWithVariable('final')\"\n",
              "            title=\"Generate code using this dataframe.\"\n",
              "            style=\"display:none;\">\n",
              "\n",
              "  <svg xmlns=\"http://www.w3.org/2000/svg\" height=\"24px\"viewBox=\"0 0 24 24\"\n",
              "       width=\"24px\">\n",
              "    <path d=\"M7,19H8.4L18.45,9,17,7.55,7,17.6ZM5,21V16.75L18.45,3.32a2,2,0,0,1,2.83,0l1.4,1.43a1.91,1.91,0,0,1,.58,1.4,1.91,1.91,0,0,1-.58,1.4L9.25,21ZM18.45,9,17,7.55Zm-12,3A5.31,5.31,0,0,0,4.9,8.1,5.31,5.31,0,0,0,1,6.5,5.31,5.31,0,0,0,4.9,4.9,5.31,5.31,0,0,0,6.5,1,5.31,5.31,0,0,0,8.1,4.9,5.31,5.31,0,0,0,12,6.5,5.46,5.46,0,0,0,6.5,12Z\"/>\n",
              "  </svg>\n",
              "    </button>\n",
              "    <script>\n",
              "      (() => {\n",
              "      const buttonEl =\n",
              "        document.querySelector('#id_59916ca7-5d16-4b43-9bb0-e87ea08e0863 button.colab-df-generate');\n",
              "      buttonEl.style.display =\n",
              "        google.colab.kernel.accessAllowed ? 'block' : 'none';\n",
              "\n",
              "      buttonEl.onclick = () => {\n",
              "        google.colab.notebook.generateWithVariable('final');\n",
              "      }\n",
              "      })();\n",
              "    </script>\n",
              "  </div>\n",
              "\n",
              "    </div>\n",
              "  </div>\n"
            ],
            "application/vnd.google.colaboratory.intrinsic+json": {
              "type": "dataframe",
              "variable_name": "final",
              "summary": "{\n  \"name\": \"final\",\n  \"rows\": 1,\n  \"fields\": [\n    {\n      \"column\": \"model1\",\n      \"properties\": {\n        \"dtype\": \"number\",\n        \"std\": null,\n        \"min\": 0.6962399877516714,\n        \"max\": 0.6962399877516714,\n        \"num_unique_values\": 1,\n        \"samples\": [\n          0.6962399877516714\n        ],\n        \"semantic_type\": \"\",\n        \"description\": \"\"\n      }\n    },\n    {\n      \"column\": \"model2\",\n      \"properties\": {\n        \"dtype\": \"number\",\n        \"std\": null,\n        \"min\": 0.6951780457931003,\n        \"max\": 0.6951780457931003,\n        \"num_unique_values\": 1,\n        \"samples\": [\n          0.6951780457931003\n        ],\n        \"semantic_type\": \"\",\n        \"description\": \"\"\n      }\n    },\n    {\n      \"column\": \"model3\",\n      \"properties\": {\n        \"dtype\": \"number\",\n        \"std\": null,\n        \"min\": 0.6885419957407521,\n        \"max\": 0.6885419957407521,\n        \"num_unique_values\": 1,\n        \"samples\": [\n          0.6885419957407521\n        ],\n        \"semantic_type\": \"\",\n        \"description\": \"\"\n      }\n    },\n    {\n      \"column\": \"model4\",\n      \"properties\": {\n        \"dtype\": \"number\",\n        \"std\": null,\n        \"min\": 0.5824182829713866,\n        \"max\": 0.5824182829713866,\n        \"num_unique_values\": 1,\n        \"samples\": [\n          0.5824182829713866\n        ],\n        \"semantic_type\": \"\",\n        \"description\": \"\"\n      }\n    },\n    {\n      \"column\": \"model5\",\n      \"properties\": {\n        \"dtype\": \"number\",\n        \"std\": null,\n        \"min\": 85.5044297632966,\n        \"max\": 85.5044297632966,\n        \"num_unique_values\": 1,\n        \"samples\": [\n          85.5044297632966\n        ],\n        \"semantic_type\": \"\",\n        \"description\": \"\"\n      }\n    }\n  ]\n}"
            }
          },
          "metadata": {},
          "execution_count": 211
        }
      ]
    },
    {
      "cell_type": "markdown",
      "source": [
        "**ANN performs the best**"
      ],
      "metadata": {
        "id": "wjAQpn2Fn15p"
      }
    }
  ]
}